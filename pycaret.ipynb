{
 "cells": [
  {
   "attachments": {},
   "cell_type": "markdown",
   "id": "fd922fd3-3d98-41e9-95e2-3e0ca140d3b1",
   "metadata": {
    "tags": []
   },
   "source": []
  },
  {
   "cell_type": "markdown",
   "id": "a275f418-5a68-43c8-b7e9-cbfe61217970",
   "metadata": {},
   "source": [
    "# Pycaret\n",
    "\n",
    "The Pycaret documentation is brilliant . These can be found at https://pycaret.gitbook.io/docs/get-started/tutorials\n",
    "\n",
    "The example classificaiton notebook can be found here and so playing around in this notebook can be found below here \n",
    "\n",
    "https://nbviewer.org/github/pycaret/pycaret/blob/master/tutorials/Binary%20Classification%20Tutorial%20Level%20Beginner%20-%20%20CLF101.ipynb\n",
    "\n",
    "\n",
    "Please note the install of pycaret does not work with the latest scikit learn and you need to use your own environment.\n",
    "\n",
    "If using anaconda this helps you set up an environment \n",
    "https://medium.com/swlh/setting-up-a-conda-environment-in-less-than-5-minutes-e64d8fc338e4\n",
    "\n",
    "If using Python this will help you set up the environment \n",
    "https://realpython.com/lessons/creating-virtual-environment/\n",
    "\n",
    "Installation instructions for pycaret can be found here\n",
    "https://pycaret.readthedocs.io/en/latest/installation.html\n",
    "\n",
    "\n",
    "\n",
    "\n",
    "\n"
   ]
  },
  {
   "cell_type": "markdown",
   "id": "8dcdbdcd-691f-4c49-93c7-80e3ccc8d1b9",
   "metadata": {},
   "source": [
    "### Pycaret Cheat Sheet\n",
    "\n",
    "![alt text](https://1927305171-files.gitbook.io/~/files/v0/b/gitbook-x-prod.appspot.com/o/spaces%2FFLpROzBBqocwXBoemLJC%2Fuploads%2F8JjVrKXaJnL6UKkQRivn%2Fimage.png?alt=media&token=439fa5e0-1495-443a-86b8-9cfc492e70e0)`\n",
    "\n",
    "\n",
    "\n",
    "![alt text](https://1927305171-files.gitbook.io/~/files/v0/b/gitbook-x-prod.appspot.com/o/spaces%2FFLpROzBBqocwXBoemLJC%2Fuploads%2FMKRdn96DRhG2DRPLXRY0%2Fimage.png?alt=media&token=c99bcebf-0aa1-47ca-a715-e7ccf480f321)"
   ]
  },
  {
   "cell_type": "code",
   "execution_count": null,
   "id": "c9cf8b7d-edce-4168-b83b-cc812660d233",
   "metadata": {},
   "outputs": [
    {
     "name": "stdout",
     "output_type": "stream",
     "text": [
      "[NbConvertApp] Converting notebook pycaret.ipynb to webpdf\n",
      "[NbConvertApp] Building PDF\n",
      "[INFO] Starting Chromium download.\n",
      "100%|████████████████████████████████████████| 109M/109M [00:26<00:00, 4.06Mb/s]\n",
      "[INFO] Beginning extraction\n",
      "[INFO] Chromium extracted to: /home/pete/.local/share/pyppeteer/local-chromium/588429\n",
      "[NbConvertApp] PDF successfully created\n",
      "[NbConvertApp] Writing 1060370 bytes to pycaret.pdf\n"
     ]
    }
   ],
   "source": [
    "!jupyter nbconvert --to webpdf --allow-chromium-download pycaret.ipynb"
   ]
  },
  {
   "cell_type": "markdown",
   "id": "667e6539-f462-42f0-a9c5-a404997aaf29",
   "metadata": {},
   "source": [
    "# Where does Pycaret fit in?\n",
    "\n",
    "![alt text](https://miro.medium.com/max/1400/0*68siepZnQhB_2lcG.png)\n",
    "\n"
   ]
  },
  {
   "cell_type": "code",
   "execution_count": 1,
   "id": "76b89b88-9599-4ca4-8daa-d521cbb46a76",
   "metadata": {},
   "outputs": [],
   "source": [
    "# !pip install pycaret[full]"
   ]
  },
  {
   "cell_type": "code",
   "execution_count": 2,
   "id": "acd73331-a5e7-4f10-9300-45d0edc68ba6",
   "metadata": {},
   "outputs": [],
   "source": [
    "from pycaret import classification as cla\n"
   ]
  },
  {
   "cell_type": "code",
   "execution_count": 3,
   "id": "f84ea015-ed9b-4f67-83ed-40f7751ef40d",
   "metadata": {},
   "outputs": [],
   "source": [
    "import sklearn\n",
    "from sklearn import datasets\n",
    "import pandas as pd\n",
    "import copy\n",
    "from sklearn.model_selection import train_test_split\n",
    "\n",
    "cancer = datasets.load_breast_cancer()\n",
    "X = pd.DataFrame(cancer['data'], columns = cancer['feature_names'])\n",
    "y = pd.DataFrame(cancer['target'])\n",
    "X_train, X_test, y_train, y_test = train_test_split(X, y, train_size=0.9, random_state=42)"
   ]
  },
  {
   "cell_type": "code",
   "execution_count": 4,
   "id": "67827a78-777e-4876-aa61-5a01dc772b49",
   "metadata": {},
   "outputs": [
    {
     "data": {
      "text/html": [
       "<div>\n",
       "<style scoped>\n",
       "    .dataframe tbody tr th:only-of-type {\n",
       "        vertical-align: middle;\n",
       "    }\n",
       "\n",
       "    .dataframe tbody tr th {\n",
       "        vertical-align: top;\n",
       "    }\n",
       "\n",
       "    .dataframe thead th {\n",
       "        text-align: right;\n",
       "    }\n",
       "</style>\n",
       "<table border=\"1\" class=\"dataframe\">\n",
       "  <thead>\n",
       "    <tr style=\"text-align: right;\">\n",
       "      <th></th>\n",
       "      <th>target</th>\n",
       "      <th>mean radius</th>\n",
       "      <th>mean texture</th>\n",
       "      <th>mean perimeter</th>\n",
       "      <th>mean area</th>\n",
       "      <th>mean smoothness</th>\n",
       "      <th>mean compactness</th>\n",
       "      <th>mean concavity</th>\n",
       "      <th>mean concave points</th>\n",
       "      <th>mean symmetry</th>\n",
       "      <th>...</th>\n",
       "      <th>worst radius</th>\n",
       "      <th>worst texture</th>\n",
       "      <th>worst perimeter</th>\n",
       "      <th>worst area</th>\n",
       "      <th>worst smoothness</th>\n",
       "      <th>worst compactness</th>\n",
       "      <th>worst concavity</th>\n",
       "      <th>worst concave points</th>\n",
       "      <th>worst symmetry</th>\n",
       "      <th>worst fractal dimension</th>\n",
       "    </tr>\n",
       "  </thead>\n",
       "  <tbody>\n",
       "    <tr>\n",
       "      <th>82</th>\n",
       "      <td>0</td>\n",
       "      <td>25.22</td>\n",
       "      <td>24.91</td>\n",
       "      <td>171.50</td>\n",
       "      <td>1878.0</td>\n",
       "      <td>0.10630</td>\n",
       "      <td>0.26650</td>\n",
       "      <td>0.33390</td>\n",
       "      <td>0.18450</td>\n",
       "      <td>0.1829</td>\n",
       "      <td>...</td>\n",
       "      <td>30.00</td>\n",
       "      <td>33.62</td>\n",
       "      <td>211.70</td>\n",
       "      <td>2562.0</td>\n",
       "      <td>0.1573</td>\n",
       "      <td>0.6076</td>\n",
       "      <td>0.6476</td>\n",
       "      <td>0.28670</td>\n",
       "      <td>0.2355</td>\n",
       "      <td>0.10510</td>\n",
       "    </tr>\n",
       "    <tr>\n",
       "      <th>39</th>\n",
       "      <td>0</td>\n",
       "      <td>13.48</td>\n",
       "      <td>20.82</td>\n",
       "      <td>88.40</td>\n",
       "      <td>559.2</td>\n",
       "      <td>0.10160</td>\n",
       "      <td>0.12550</td>\n",
       "      <td>0.10630</td>\n",
       "      <td>0.05439</td>\n",
       "      <td>0.1720</td>\n",
       "      <td>...</td>\n",
       "      <td>15.53</td>\n",
       "      <td>26.02</td>\n",
       "      <td>107.30</td>\n",
       "      <td>740.4</td>\n",
       "      <td>0.1610</td>\n",
       "      <td>0.4225</td>\n",
       "      <td>0.5030</td>\n",
       "      <td>0.22580</td>\n",
       "      <td>0.2807</td>\n",
       "      <td>0.10710</td>\n",
       "    </tr>\n",
       "    <tr>\n",
       "      <th>271</th>\n",
       "      <td>1</td>\n",
       "      <td>11.29</td>\n",
       "      <td>13.04</td>\n",
       "      <td>72.23</td>\n",
       "      <td>388.0</td>\n",
       "      <td>0.09834</td>\n",
       "      <td>0.07608</td>\n",
       "      <td>0.03265</td>\n",
       "      <td>0.02755</td>\n",
       "      <td>0.1769</td>\n",
       "      <td>...</td>\n",
       "      <td>12.32</td>\n",
       "      <td>16.18</td>\n",
       "      <td>78.27</td>\n",
       "      <td>457.5</td>\n",
       "      <td>0.1358</td>\n",
       "      <td>0.1507</td>\n",
       "      <td>0.1275</td>\n",
       "      <td>0.08750</td>\n",
       "      <td>0.2733</td>\n",
       "      <td>0.08022</td>\n",
       "    </tr>\n",
       "    <tr>\n",
       "      <th>79</th>\n",
       "      <td>1</td>\n",
       "      <td>12.86</td>\n",
       "      <td>18.00</td>\n",
       "      <td>83.19</td>\n",
       "      <td>506.3</td>\n",
       "      <td>0.09934</td>\n",
       "      <td>0.09546</td>\n",
       "      <td>0.03889</td>\n",
       "      <td>0.02315</td>\n",
       "      <td>0.1718</td>\n",
       "      <td>...</td>\n",
       "      <td>14.24</td>\n",
       "      <td>24.82</td>\n",
       "      <td>91.88</td>\n",
       "      <td>622.1</td>\n",
       "      <td>0.1289</td>\n",
       "      <td>0.2141</td>\n",
       "      <td>0.1731</td>\n",
       "      <td>0.07926</td>\n",
       "      <td>0.2779</td>\n",
       "      <td>0.07918</td>\n",
       "    </tr>\n",
       "    <tr>\n",
       "      <th>2</th>\n",
       "      <td>0</td>\n",
       "      <td>19.69</td>\n",
       "      <td>21.25</td>\n",
       "      <td>130.00</td>\n",
       "      <td>1203.0</td>\n",
       "      <td>0.10960</td>\n",
       "      <td>0.15990</td>\n",
       "      <td>0.19740</td>\n",
       "      <td>0.12790</td>\n",
       "      <td>0.2069</td>\n",
       "      <td>...</td>\n",
       "      <td>23.57</td>\n",
       "      <td>25.53</td>\n",
       "      <td>152.50</td>\n",
       "      <td>1709.0</td>\n",
       "      <td>0.1444</td>\n",
       "      <td>0.4245</td>\n",
       "      <td>0.4504</td>\n",
       "      <td>0.24300</td>\n",
       "      <td>0.3613</td>\n",
       "      <td>0.08758</td>\n",
       "    </tr>\n",
       "  </tbody>\n",
       "</table>\n",
       "<p>5 rows × 31 columns</p>\n",
       "</div>"
      ],
      "text/plain": [
       "     target  mean radius  mean texture  mean perimeter  mean area  \\\n",
       "82        0        25.22         24.91          171.50     1878.0   \n",
       "39        0        13.48         20.82           88.40      559.2   \n",
       "271       1        11.29         13.04           72.23      388.0   \n",
       "79        1        12.86         18.00           83.19      506.3   \n",
       "2         0        19.69         21.25          130.00     1203.0   \n",
       "\n",
       "     mean smoothness  mean compactness  mean concavity  mean concave points  \\\n",
       "82           0.10630           0.26650         0.33390              0.18450   \n",
       "39           0.10160           0.12550         0.10630              0.05439   \n",
       "271          0.09834           0.07608         0.03265              0.02755   \n",
       "79           0.09934           0.09546         0.03889              0.02315   \n",
       "2            0.10960           0.15990         0.19740              0.12790   \n",
       "\n",
       "     mean symmetry  ...  worst radius  worst texture  worst perimeter  \\\n",
       "82          0.1829  ...         30.00          33.62           211.70   \n",
       "39          0.1720  ...         15.53          26.02           107.30   \n",
       "271         0.1769  ...         12.32          16.18            78.27   \n",
       "79          0.1718  ...         14.24          24.82            91.88   \n",
       "2           0.2069  ...         23.57          25.53           152.50   \n",
       "\n",
       "     worst area  worst smoothness  worst compactness  worst concavity  \\\n",
       "82       2562.0            0.1573             0.6076           0.6476   \n",
       "39        740.4            0.1610             0.4225           0.5030   \n",
       "271       457.5            0.1358             0.1507           0.1275   \n",
       "79        622.1            0.1289             0.2141           0.1731   \n",
       "2        1709.0            0.1444             0.4245           0.4504   \n",
       "\n",
       "     worst concave points  worst symmetry  worst fractal dimension  \n",
       "82                0.28670          0.2355                  0.10510  \n",
       "39                0.22580          0.2807                  0.10710  \n",
       "271               0.08750          0.2733                  0.08022  \n",
       "79                0.07926          0.2779                  0.07918  \n",
       "2                 0.24300          0.3613                  0.08758  \n",
       "\n",
       "[5 rows x 31 columns]"
      ]
     },
     "execution_count": 4,
     "metadata": {},
     "output_type": "execute_result"
    }
   ],
   "source": [
    "train_dataset = copy.deepcopy(X_train)\n",
    "train_dataset.insert(loc = 0, column = 'target', value = y_train)\n",
    "# train_dataset['target'].replace([0, 1], [\"0\", \"1\"], inplace = True)\n",
    "train_dataset.head()"
   ]
  },
  {
   "cell_type": "code",
   "execution_count": 5,
   "id": "4034d89e-ca7d-4f95-8212-5b6cc6d217dd",
   "metadata": {},
   "outputs": [
    {
     "data": {
      "text/plain": [
       "(512, 31)"
      ]
     },
     "execution_count": 5,
     "metadata": {},
     "output_type": "execute_result"
    }
   ],
   "source": [
    "train_dataset.shape"
   ]
  },
  {
   "cell_type": "markdown",
   "id": "5a836341-77aa-46a4-9dd0-615368880d72",
   "metadata": {},
   "source": [
    "The setup() function initializes the environment in pycaret and creates the transformation pipeline to prepare the data for modeling and deployment. setup() must be called before executing any other function in pycaret. It takes two mandatory parameters: a pandas dataframe and the name of the target column. All other parameters are optional and are used to customize the pre-processing pipeline (we will see them in later tutorials).\n",
    "\n",
    "When setup() is executed, PyCaret's inference algorithm will automatically infer the data types for all features based on certain properties. The data type should be inferred correctly but this is not always the case. To account for this, PyCaret displays a table containing the features and their inferred data types after setup() is executed. If all of the data types are correctly identified enter can be pressed to continue or quit can be typed to end the expriment. Ensuring that the data types are correct is of fundamental importance in PyCaret as it automatically performs a few pre-processing tasks which are imperative to any machine learning experiment. These tasks are performed differently for each data type which means it is very important for them to be correctly configured.\n",
    "\n",
    "In later tutorials we will learn how to overwrite PyCaret's infered data type using the numeric_features and categorical_features parameters in setup()\n",
    "\n",
    "Infomation on setup params is here\n",
    "\n",
    "https://pycaret.gitbook.io/docs/get-started/preprocessing/other-setup-parameters"
   ]
  },
  {
   "cell_type": "code",
   "execution_count": 6,
   "id": "536faabf-7809-404a-a3c9-0228a2791c35",
   "metadata": {},
   "outputs": [
    {
     "data": {
      "text/html": [
       "<style type=\"text/css\">\n",
       "#T_37ebe_row8_col1 {\n",
       "  background-color: lightgreen;\n",
       "}\n",
       "</style>\n",
       "<table id=\"T_37ebe\">\n",
       "  <thead>\n",
       "    <tr>\n",
       "      <th class=\"blank level0\" >&nbsp;</th>\n",
       "      <th id=\"T_37ebe_level0_col0\" class=\"col_heading level0 col0\" >Description</th>\n",
       "      <th id=\"T_37ebe_level0_col1\" class=\"col_heading level0 col1\" >Value</th>\n",
       "    </tr>\n",
       "  </thead>\n",
       "  <tbody>\n",
       "    <tr>\n",
       "      <th id=\"T_37ebe_level0_row0\" class=\"row_heading level0 row0\" >0</th>\n",
       "      <td id=\"T_37ebe_row0_col0\" class=\"data row0 col0\" >Session id</td>\n",
       "      <td id=\"T_37ebe_row0_col1\" class=\"data row0 col1\" >123</td>\n",
       "    </tr>\n",
       "    <tr>\n",
       "      <th id=\"T_37ebe_level0_row1\" class=\"row_heading level0 row1\" >1</th>\n",
       "      <td id=\"T_37ebe_row1_col0\" class=\"data row1 col0\" >Target</td>\n",
       "      <td id=\"T_37ebe_row1_col1\" class=\"data row1 col1\" >target</td>\n",
       "    </tr>\n",
       "    <tr>\n",
       "      <th id=\"T_37ebe_level0_row2\" class=\"row_heading level0 row2\" >2</th>\n",
       "      <td id=\"T_37ebe_row2_col0\" class=\"data row2 col0\" >Target type</td>\n",
       "      <td id=\"T_37ebe_row2_col1\" class=\"data row2 col1\" >Binary</td>\n",
       "    </tr>\n",
       "    <tr>\n",
       "      <th id=\"T_37ebe_level0_row3\" class=\"row_heading level0 row3\" >3</th>\n",
       "      <td id=\"T_37ebe_row3_col0\" class=\"data row3 col0\" >Original data shape</td>\n",
       "      <td id=\"T_37ebe_row3_col1\" class=\"data row3 col1\" >(512, 31)</td>\n",
       "    </tr>\n",
       "    <tr>\n",
       "      <th id=\"T_37ebe_level0_row4\" class=\"row_heading level0 row4\" >4</th>\n",
       "      <td id=\"T_37ebe_row4_col0\" class=\"data row4 col0\" >Transformed data shape</td>\n",
       "      <td id=\"T_37ebe_row4_col1\" class=\"data row4 col1\" >(512, 31)</td>\n",
       "    </tr>\n",
       "    <tr>\n",
       "      <th id=\"T_37ebe_level0_row5\" class=\"row_heading level0 row5\" >5</th>\n",
       "      <td id=\"T_37ebe_row5_col0\" class=\"data row5 col0\" >Transformed train set shape</td>\n",
       "      <td id=\"T_37ebe_row5_col1\" class=\"data row5 col1\" >(358, 31)</td>\n",
       "    </tr>\n",
       "    <tr>\n",
       "      <th id=\"T_37ebe_level0_row6\" class=\"row_heading level0 row6\" >6</th>\n",
       "      <td id=\"T_37ebe_row6_col0\" class=\"data row6 col0\" >Transformed test set shape</td>\n",
       "      <td id=\"T_37ebe_row6_col1\" class=\"data row6 col1\" >(154, 31)</td>\n",
       "    </tr>\n",
       "    <tr>\n",
       "      <th id=\"T_37ebe_level0_row7\" class=\"row_heading level0 row7\" >7</th>\n",
       "      <td id=\"T_37ebe_row7_col0\" class=\"data row7 col0\" >Numeric features</td>\n",
       "      <td id=\"T_37ebe_row7_col1\" class=\"data row7 col1\" >30</td>\n",
       "    </tr>\n",
       "    <tr>\n",
       "      <th id=\"T_37ebe_level0_row8\" class=\"row_heading level0 row8\" >8</th>\n",
       "      <td id=\"T_37ebe_row8_col0\" class=\"data row8 col0\" >Preprocess</td>\n",
       "      <td id=\"T_37ebe_row8_col1\" class=\"data row8 col1\" >True</td>\n",
       "    </tr>\n",
       "    <tr>\n",
       "      <th id=\"T_37ebe_level0_row9\" class=\"row_heading level0 row9\" >9</th>\n",
       "      <td id=\"T_37ebe_row9_col0\" class=\"data row9 col0\" >Imputation type</td>\n",
       "      <td id=\"T_37ebe_row9_col1\" class=\"data row9 col1\" >simple</td>\n",
       "    </tr>\n",
       "    <tr>\n",
       "      <th id=\"T_37ebe_level0_row10\" class=\"row_heading level0 row10\" >10</th>\n",
       "      <td id=\"T_37ebe_row10_col0\" class=\"data row10 col0\" >Numeric imputation</td>\n",
       "      <td id=\"T_37ebe_row10_col1\" class=\"data row10 col1\" >mean</td>\n",
       "    </tr>\n",
       "    <tr>\n",
       "      <th id=\"T_37ebe_level0_row11\" class=\"row_heading level0 row11\" >11</th>\n",
       "      <td id=\"T_37ebe_row11_col0\" class=\"data row11 col0\" >Categorical imputation</td>\n",
       "      <td id=\"T_37ebe_row11_col1\" class=\"data row11 col1\" >constant</td>\n",
       "    </tr>\n",
       "    <tr>\n",
       "      <th id=\"T_37ebe_level0_row12\" class=\"row_heading level0 row12\" >12</th>\n",
       "      <td id=\"T_37ebe_row12_col0\" class=\"data row12 col0\" >Low variance threshold</td>\n",
       "      <td id=\"T_37ebe_row12_col1\" class=\"data row12 col1\" >0</td>\n",
       "    </tr>\n",
       "    <tr>\n",
       "      <th id=\"T_37ebe_level0_row13\" class=\"row_heading level0 row13\" >13</th>\n",
       "      <td id=\"T_37ebe_row13_col0\" class=\"data row13 col0\" >Fold Generator</td>\n",
       "      <td id=\"T_37ebe_row13_col1\" class=\"data row13 col1\" >StratifiedKFold</td>\n",
       "    </tr>\n",
       "    <tr>\n",
       "      <th id=\"T_37ebe_level0_row14\" class=\"row_heading level0 row14\" >14</th>\n",
       "      <td id=\"T_37ebe_row14_col0\" class=\"data row14 col0\" >Fold Number</td>\n",
       "      <td id=\"T_37ebe_row14_col1\" class=\"data row14 col1\" >10</td>\n",
       "    </tr>\n",
       "    <tr>\n",
       "      <th id=\"T_37ebe_level0_row15\" class=\"row_heading level0 row15\" >15</th>\n",
       "      <td id=\"T_37ebe_row15_col0\" class=\"data row15 col0\" >CPU Jobs</td>\n",
       "      <td id=\"T_37ebe_row15_col1\" class=\"data row15 col1\" >-1</td>\n",
       "    </tr>\n",
       "    <tr>\n",
       "      <th id=\"T_37ebe_level0_row16\" class=\"row_heading level0 row16\" >16</th>\n",
       "      <td id=\"T_37ebe_row16_col0\" class=\"data row16 col0\" >Use GPU</td>\n",
       "      <td id=\"T_37ebe_row16_col1\" class=\"data row16 col1\" >False</td>\n",
       "    </tr>\n",
       "    <tr>\n",
       "      <th id=\"T_37ebe_level0_row17\" class=\"row_heading level0 row17\" >17</th>\n",
       "      <td id=\"T_37ebe_row17_col0\" class=\"data row17 col0\" >Log Experiment</td>\n",
       "      <td id=\"T_37ebe_row17_col1\" class=\"data row17 col1\" >False</td>\n",
       "    </tr>\n",
       "    <tr>\n",
       "      <th id=\"T_37ebe_level0_row18\" class=\"row_heading level0 row18\" >18</th>\n",
       "      <td id=\"T_37ebe_row18_col0\" class=\"data row18 col0\" >Experiment Name</td>\n",
       "      <td id=\"T_37ebe_row18_col1\" class=\"data row18 col1\" >clf-default-name</td>\n",
       "    </tr>\n",
       "    <tr>\n",
       "      <th id=\"T_37ebe_level0_row19\" class=\"row_heading level0 row19\" >19</th>\n",
       "      <td id=\"T_37ebe_row19_col0\" class=\"data row19 col0\" >USI</td>\n",
       "      <td id=\"T_37ebe_row19_col1\" class=\"data row19 col1\" >8138</td>\n",
       "    </tr>\n",
       "  </tbody>\n",
       "</table>\n"
      ],
      "text/plain": [
       "<pandas.io.formats.style.Styler at 0x7f2d52c15490>"
      ]
     },
     "metadata": {},
     "output_type": "display_data"
    }
   ],
   "source": [
    "exp_clf01 = cla.setup(data=train_dataset, target=\"target\", session_id=123)"
   ]
  },
  {
   "cell_type": "markdown",
   "id": "9ec73ee7-beda-40b1-827f-598eb490ad69",
   "metadata": {},
   "source": [
    "Once the setup has been successfully executed it prints the information grid which contains several important pieces of information. Most of the information is related to the pre-processing pipeline which is constructed when setup() is executed. The majority of these features are out of scope for the purposes of this tutorial however a few important things to note at this stage include:\n",
    "\n",
    "session_id : A pseudo-random number distributed as a seed in all functions for later reproducibility. If no session_id is passed, a random number is automatically generated that is distributed to all functions. In this experiment, the session_id is set as 123 for later reproducibility.\n",
    "\n",
    "Target Type : Binary or Multiclass. The Target type is automatically detected and shown. There is no difference in how the experiment is performed for Binary or Multiclass problems. All functionalities are identical.\n",
    "\n",
    "Label Encoded : When the Target variable is of type string (i.e. 'Yes' or 'No') instead of 1 or 0, it automatically encodes the label into 1 and 0 and displays the mapping (0 : No, 1 : Yes) for reference. In this experiment no label encoding is required since the target variable is of type numeric.\n",
    "\n",
    "Original Data : Displays the original shape of the dataset. In this experiment (22800, 24) means 22,800 samples and 24 features including the target column.\n",
    "\n",
    "Missing Values : When there are missing values in the original data this will show as True. For this experiment there are no missing values in the dataset.\n",
    "\n",
    "Numeric Features : The number of features inferred as numeric. In this dataset, 14 out of 24 features are inferred as numeric.\n",
    "\n",
    "Categorical Features : The number of features inferred as categorical. In this dataset, 9 out of 24 features are inferred as categorical.\n",
    "\n",
    "Transformed Train Set : Displays the shape of the transformed training set. Notice that the original shape of (22800, 24) is transformed into (15959, 91) for the transformed train set and the number of features have increased to 91 from 24 due to categorical encoding\n",
    "\n",
    "Transformed Test Set : Displays the shape of the transformed test/hold-out set. There are 6841 samples in test/hold-out set. This split is based on the default value of 70/30 that can be changed using the train_size parameter in setup.\n",
    "Notice how a few tasks that are imperative to perform modeling are automatically handled such as missing value imputation (in this case there are no missing values in the training data, but we still need imputers for unseen data), categorical encoding etc. Most of the parameters in setup() are optional and used for customizing the pre-processing pipeline. These parameters are out of scope for this tutorial but as you progress to the intermediate and expert levels, we will cover them in much greater detail."
   ]
  },
  {
   "cell_type": "code",
   "execution_count": 7,
   "id": "4ae54605-d36b-4c7b-812e-68cff61b1e5f",
   "metadata": {},
   "outputs": [
    {
     "data": {
      "text/html": [
       "<div>\n",
       "<style scoped>\n",
       "    .dataframe tbody tr th:only-of-type {\n",
       "        vertical-align: middle;\n",
       "    }\n",
       "\n",
       "    .dataframe tbody tr th {\n",
       "        vertical-align: top;\n",
       "    }\n",
       "\n",
       "    .dataframe thead th {\n",
       "        text-align: right;\n",
       "    }\n",
       "</style>\n",
       "<table border=\"1\" class=\"dataframe\">\n",
       "  <thead>\n",
       "    <tr style=\"text-align: right;\">\n",
       "      <th></th>\n",
       "      <th>Name</th>\n",
       "      <th>Reference</th>\n",
       "      <th>Turbo</th>\n",
       "    </tr>\n",
       "    <tr>\n",
       "      <th>ID</th>\n",
       "      <th></th>\n",
       "      <th></th>\n",
       "      <th></th>\n",
       "    </tr>\n",
       "  </thead>\n",
       "  <tbody>\n",
       "    <tr>\n",
       "      <th>lr</th>\n",
       "      <td>Logistic Regression</td>\n",
       "      <td>sklearn.linear_model._logistic.LogisticRegression</td>\n",
       "      <td>True</td>\n",
       "    </tr>\n",
       "    <tr>\n",
       "      <th>knn</th>\n",
       "      <td>K Neighbors Classifier</td>\n",
       "      <td>sklearn.neighbors._classification.KNeighborsCl...</td>\n",
       "      <td>True</td>\n",
       "    </tr>\n",
       "    <tr>\n",
       "      <th>nb</th>\n",
       "      <td>Naive Bayes</td>\n",
       "      <td>sklearn.naive_bayes.GaussianNB</td>\n",
       "      <td>True</td>\n",
       "    </tr>\n",
       "    <tr>\n",
       "      <th>dt</th>\n",
       "      <td>Decision Tree Classifier</td>\n",
       "      <td>sklearn.tree._classes.DecisionTreeClassifier</td>\n",
       "      <td>True</td>\n",
       "    </tr>\n",
       "    <tr>\n",
       "      <th>svm</th>\n",
       "      <td>SVM - Linear Kernel</td>\n",
       "      <td>sklearn.linear_model._stochastic_gradient.SGDC...</td>\n",
       "      <td>True</td>\n",
       "    </tr>\n",
       "    <tr>\n",
       "      <th>rbfsvm</th>\n",
       "      <td>SVM - Radial Kernel</td>\n",
       "      <td>sklearn.svm._classes.SVC</td>\n",
       "      <td>False</td>\n",
       "    </tr>\n",
       "    <tr>\n",
       "      <th>gpc</th>\n",
       "      <td>Gaussian Process Classifier</td>\n",
       "      <td>sklearn.gaussian_process._gpc.GaussianProcessC...</td>\n",
       "      <td>False</td>\n",
       "    </tr>\n",
       "    <tr>\n",
       "      <th>mlp</th>\n",
       "      <td>MLP Classifier</td>\n",
       "      <td>sklearn.neural_network._multilayer_perceptron....</td>\n",
       "      <td>False</td>\n",
       "    </tr>\n",
       "    <tr>\n",
       "      <th>ridge</th>\n",
       "      <td>Ridge Classifier</td>\n",
       "      <td>sklearn.linear_model._ridge.RidgeClassifier</td>\n",
       "      <td>True</td>\n",
       "    </tr>\n",
       "    <tr>\n",
       "      <th>rf</th>\n",
       "      <td>Random Forest Classifier</td>\n",
       "      <td>sklearn.ensemble._forest.RandomForestClassifier</td>\n",
       "      <td>True</td>\n",
       "    </tr>\n",
       "    <tr>\n",
       "      <th>qda</th>\n",
       "      <td>Quadratic Discriminant Analysis</td>\n",
       "      <td>sklearn.discriminant_analysis.QuadraticDiscrim...</td>\n",
       "      <td>True</td>\n",
       "    </tr>\n",
       "    <tr>\n",
       "      <th>ada</th>\n",
       "      <td>Ada Boost Classifier</td>\n",
       "      <td>sklearn.ensemble._weight_boosting.AdaBoostClas...</td>\n",
       "      <td>True</td>\n",
       "    </tr>\n",
       "    <tr>\n",
       "      <th>gbc</th>\n",
       "      <td>Gradient Boosting Classifier</td>\n",
       "      <td>sklearn.ensemble._gb.GradientBoostingClassifier</td>\n",
       "      <td>True</td>\n",
       "    </tr>\n",
       "    <tr>\n",
       "      <th>lda</th>\n",
       "      <td>Linear Discriminant Analysis</td>\n",
       "      <td>sklearn.discriminant_analysis.LinearDiscrimina...</td>\n",
       "      <td>True</td>\n",
       "    </tr>\n",
       "    <tr>\n",
       "      <th>et</th>\n",
       "      <td>Extra Trees Classifier</td>\n",
       "      <td>sklearn.ensemble._forest.ExtraTreesClassifier</td>\n",
       "      <td>True</td>\n",
       "    </tr>\n",
       "    <tr>\n",
       "      <th>xgboost</th>\n",
       "      <td>Extreme Gradient Boosting</td>\n",
       "      <td>xgboost.sklearn.XGBClassifier</td>\n",
       "      <td>True</td>\n",
       "    </tr>\n",
       "    <tr>\n",
       "      <th>lightgbm</th>\n",
       "      <td>Light Gradient Boosting Machine</td>\n",
       "      <td>lightgbm.sklearn.LGBMClassifier</td>\n",
       "      <td>True</td>\n",
       "    </tr>\n",
       "    <tr>\n",
       "      <th>dummy</th>\n",
       "      <td>Dummy Classifier</td>\n",
       "      <td>sklearn.dummy.DummyClassifier</td>\n",
       "      <td>True</td>\n",
       "    </tr>\n",
       "  </tbody>\n",
       "</table>\n",
       "</div>"
      ],
      "text/plain": [
       "                                     Name  \\\n",
       "ID                                          \n",
       "lr                    Logistic Regression   \n",
       "knn                K Neighbors Classifier   \n",
       "nb                            Naive Bayes   \n",
       "dt               Decision Tree Classifier   \n",
       "svm                   SVM - Linear Kernel   \n",
       "rbfsvm                SVM - Radial Kernel   \n",
       "gpc           Gaussian Process Classifier   \n",
       "mlp                        MLP Classifier   \n",
       "ridge                    Ridge Classifier   \n",
       "rf               Random Forest Classifier   \n",
       "qda       Quadratic Discriminant Analysis   \n",
       "ada                  Ada Boost Classifier   \n",
       "gbc          Gradient Boosting Classifier   \n",
       "lda          Linear Discriminant Analysis   \n",
       "et                 Extra Trees Classifier   \n",
       "xgboost         Extreme Gradient Boosting   \n",
       "lightgbm  Light Gradient Boosting Machine   \n",
       "dummy                    Dummy Classifier   \n",
       "\n",
       "                                                  Reference  Turbo  \n",
       "ID                                                                  \n",
       "lr        sklearn.linear_model._logistic.LogisticRegression   True  \n",
       "knn       sklearn.neighbors._classification.KNeighborsCl...   True  \n",
       "nb                           sklearn.naive_bayes.GaussianNB   True  \n",
       "dt             sklearn.tree._classes.DecisionTreeClassifier   True  \n",
       "svm       sklearn.linear_model._stochastic_gradient.SGDC...   True  \n",
       "rbfsvm                             sklearn.svm._classes.SVC  False  \n",
       "gpc       sklearn.gaussian_process._gpc.GaussianProcessC...  False  \n",
       "mlp       sklearn.neural_network._multilayer_perceptron....  False  \n",
       "ridge           sklearn.linear_model._ridge.RidgeClassifier   True  \n",
       "rf          sklearn.ensemble._forest.RandomForestClassifier   True  \n",
       "qda       sklearn.discriminant_analysis.QuadraticDiscrim...   True  \n",
       "ada       sklearn.ensemble._weight_boosting.AdaBoostClas...   True  \n",
       "gbc         sklearn.ensemble._gb.GradientBoostingClassifier   True  \n",
       "lda       sklearn.discriminant_analysis.LinearDiscrimina...   True  \n",
       "et            sklearn.ensemble._forest.ExtraTreesClassifier   True  \n",
       "xgboost                       xgboost.sklearn.XGBClassifier   True  \n",
       "lightgbm                    lightgbm.sklearn.LGBMClassifier   True  \n",
       "dummy                         sklearn.dummy.DummyClassifier   True  "
      ]
     },
     "execution_count": 7,
     "metadata": {},
     "output_type": "execute_result"
    }
   ],
   "source": [
    "cla.models()"
   ]
  },
  {
   "cell_type": "markdown",
   "id": "440b880e-0cd5-4baf-ae79-9a40c3d081a9",
   "metadata": {},
   "source": [
    "After this step we have now added xgboost the library of algorithms that pycaret calls upon to find the best model"
   ]
  },
  {
   "cell_type": "code",
   "execution_count": 8,
   "id": "9cbca7d4-aed5-434d-9a19-ecaf86118c7e",
   "metadata": {},
   "outputs": [
    {
     "data": {
      "text/html": [],
      "text/plain": [
       "<IPython.core.display.HTML object>"
      ]
     },
     "metadata": {},
     "output_type": "display_data"
    },
    {
     "data": {
      "text/html": [
       "<style type=\"text/css\">\n",
       "#T_e21c1 th {\n",
       "  text-align: left;\n",
       "}\n",
       "#T_e21c1_row0_col0, #T_e21c1_row0_col2, #T_e21c1_row0_col3, #T_e21c1_row0_col4, #T_e21c1_row1_col0, #T_e21c1_row1_col1, #T_e21c1_row1_col2, #T_e21c1_row1_col3, #T_e21c1_row1_col5, #T_e21c1_row1_col6, #T_e21c1_row1_col7, #T_e21c1_row2_col0, #T_e21c1_row2_col1, #T_e21c1_row2_col2, #T_e21c1_row2_col3, #T_e21c1_row2_col4, #T_e21c1_row2_col5, #T_e21c1_row2_col6, #T_e21c1_row2_col7, #T_e21c1_row3_col0, #T_e21c1_row3_col1, #T_e21c1_row3_col2, #T_e21c1_row3_col3, #T_e21c1_row3_col4, #T_e21c1_row3_col5, #T_e21c1_row3_col6, #T_e21c1_row3_col7, #T_e21c1_row4_col0, #T_e21c1_row4_col1, #T_e21c1_row4_col2, #T_e21c1_row4_col3, #T_e21c1_row4_col4, #T_e21c1_row4_col5, #T_e21c1_row4_col6, #T_e21c1_row4_col7, #T_e21c1_row5_col0, #T_e21c1_row5_col1, #T_e21c1_row5_col3, #T_e21c1_row5_col4, #T_e21c1_row5_col5, #T_e21c1_row5_col6, #T_e21c1_row5_col7, #T_e21c1_row6_col0, #T_e21c1_row6_col1, #T_e21c1_row6_col2, #T_e21c1_row6_col3, #T_e21c1_row6_col4, #T_e21c1_row6_col5, #T_e21c1_row6_col6, #T_e21c1_row6_col7, #T_e21c1_row7_col0, #T_e21c1_row7_col1, #T_e21c1_row7_col2, #T_e21c1_row7_col3, #T_e21c1_row7_col4, #T_e21c1_row7_col5, #T_e21c1_row7_col6, #T_e21c1_row7_col7, #T_e21c1_row8_col0, #T_e21c1_row8_col1, #T_e21c1_row8_col2, #T_e21c1_row8_col3, #T_e21c1_row8_col4, #T_e21c1_row8_col5, #T_e21c1_row8_col6, #T_e21c1_row8_col7, #T_e21c1_row9_col0, #T_e21c1_row9_col1, #T_e21c1_row9_col2, #T_e21c1_row9_col3, #T_e21c1_row9_col4, #T_e21c1_row9_col5, #T_e21c1_row9_col6, #T_e21c1_row9_col7, #T_e21c1_row10_col0, #T_e21c1_row10_col1, #T_e21c1_row10_col2, #T_e21c1_row10_col3, #T_e21c1_row10_col4, #T_e21c1_row10_col5, #T_e21c1_row10_col6, #T_e21c1_row10_col7, #T_e21c1_row11_col0, #T_e21c1_row11_col1, #T_e21c1_row11_col2, #T_e21c1_row11_col3, #T_e21c1_row11_col4, #T_e21c1_row11_col5, #T_e21c1_row11_col6, #T_e21c1_row11_col7, #T_e21c1_row12_col0, #T_e21c1_row12_col1, #T_e21c1_row12_col2, #T_e21c1_row12_col3, #T_e21c1_row12_col4, #T_e21c1_row12_col5, #T_e21c1_row12_col6, #T_e21c1_row12_col7, #T_e21c1_row13_col0, #T_e21c1_row13_col1, #T_e21c1_row13_col2, #T_e21c1_row13_col3, #T_e21c1_row13_col4, #T_e21c1_row13_col5, #T_e21c1_row13_col6, #T_e21c1_row13_col7, #T_e21c1_row14_col0, #T_e21c1_row14_col1, #T_e21c1_row14_col2, #T_e21c1_row14_col4, #T_e21c1_row14_col5, #T_e21c1_row14_col6, #T_e21c1_row14_col7 {\n",
       "  text-align: left;\n",
       "}\n",
       "#T_e21c1_row0_col1, #T_e21c1_row0_col5, #T_e21c1_row0_col6, #T_e21c1_row0_col7, #T_e21c1_row1_col4, #T_e21c1_row5_col2, #T_e21c1_row14_col3 {\n",
       "  text-align: left;\n",
       "  background-color: yellow;\n",
       "}\n",
       "#T_e21c1_row0_col8, #T_e21c1_row1_col8, #T_e21c1_row2_col8, #T_e21c1_row3_col8, #T_e21c1_row4_col8, #T_e21c1_row5_col8, #T_e21c1_row6_col8, #T_e21c1_row7_col8, #T_e21c1_row8_col8, #T_e21c1_row9_col8, #T_e21c1_row10_col8, #T_e21c1_row11_col8, #T_e21c1_row12_col8, #T_e21c1_row13_col8 {\n",
       "  text-align: left;\n",
       "  background-color: lightgrey;\n",
       "}\n",
       "#T_e21c1_row14_col8 {\n",
       "  text-align: left;\n",
       "  background-color: yellow;\n",
       "  background-color: lightgrey;\n",
       "}\n",
       "</style>\n",
       "<table id=\"T_e21c1\">\n",
       "  <thead>\n",
       "    <tr>\n",
       "      <th class=\"blank level0\" >&nbsp;</th>\n",
       "      <th id=\"T_e21c1_level0_col0\" class=\"col_heading level0 col0\" >Model</th>\n",
       "      <th id=\"T_e21c1_level0_col1\" class=\"col_heading level0 col1\" >Accuracy</th>\n",
       "      <th id=\"T_e21c1_level0_col2\" class=\"col_heading level0 col2\" >AUC</th>\n",
       "      <th id=\"T_e21c1_level0_col3\" class=\"col_heading level0 col3\" >Recall</th>\n",
       "      <th id=\"T_e21c1_level0_col4\" class=\"col_heading level0 col4\" >Prec.</th>\n",
       "      <th id=\"T_e21c1_level0_col5\" class=\"col_heading level0 col5\" >F1</th>\n",
       "      <th id=\"T_e21c1_level0_col6\" class=\"col_heading level0 col6\" >Kappa</th>\n",
       "      <th id=\"T_e21c1_level0_col7\" class=\"col_heading level0 col7\" >MCC</th>\n",
       "      <th id=\"T_e21c1_level0_col8\" class=\"col_heading level0 col8\" >TT (Sec)</th>\n",
       "    </tr>\n",
       "  </thead>\n",
       "  <tbody>\n",
       "    <tr>\n",
       "      <th id=\"T_e21c1_level0_row0\" class=\"row_heading level0 row0\" >et</th>\n",
       "      <td id=\"T_e21c1_row0_col0\" class=\"data row0 col0\" >Extra Trees Classifier</td>\n",
       "      <td id=\"T_e21c1_row0_col1\" class=\"data row0 col1\" >0.9636</td>\n",
       "      <td id=\"T_e21c1_row0_col2\" class=\"data row0 col2\" >0.9881</td>\n",
       "      <td id=\"T_e21c1_row0_col3\" class=\"data row0 col3\" >0.9818</td>\n",
       "      <td id=\"T_e21c1_row0_col4\" class=\"data row0 col4\" >0.9619</td>\n",
       "      <td id=\"T_e21c1_row0_col5\" class=\"data row0 col5\" >0.9712</td>\n",
       "      <td id=\"T_e21c1_row0_col6\" class=\"data row0 col6\" >0.9215</td>\n",
       "      <td id=\"T_e21c1_row0_col7\" class=\"data row0 col7\" >0.9240</td>\n",
       "      <td id=\"T_e21c1_row0_col8\" class=\"data row0 col8\" >0.0530</td>\n",
       "    </tr>\n",
       "    <tr>\n",
       "      <th id=\"T_e21c1_level0_row1\" class=\"row_heading level0 row1\" >xgboost</th>\n",
       "      <td id=\"T_e21c1_row1_col0\" class=\"data row1 col0\" >Extreme Gradient Boosting</td>\n",
       "      <td id=\"T_e21c1_row1_col1\" class=\"data row1 col1\" >0.9607</td>\n",
       "      <td id=\"T_e21c1_row1_col2\" class=\"data row1 col2\" >0.9877</td>\n",
       "      <td id=\"T_e21c1_row1_col3\" class=\"data row1 col3\" >0.9727</td>\n",
       "      <td id=\"T_e21c1_row1_col4\" class=\"data row1 col4\" >0.9651</td>\n",
       "      <td id=\"T_e21c1_row1_col5\" class=\"data row1 col5\" >0.9683</td>\n",
       "      <td id=\"T_e21c1_row1_col6\" class=\"data row1 col6\" >0.9166</td>\n",
       "      <td id=\"T_e21c1_row1_col7\" class=\"data row1 col7\" >0.9183</td>\n",
       "      <td id=\"T_e21c1_row1_col8\" class=\"data row1 col8\" >0.0250</td>\n",
       "    </tr>\n",
       "    <tr>\n",
       "      <th id=\"T_e21c1_level0_row2\" class=\"row_heading level0 row2\" >rf</th>\n",
       "      <td id=\"T_e21c1_row2_col0\" class=\"data row2 col0\" >Random Forest Classifier</td>\n",
       "      <td id=\"T_e21c1_row2_col1\" class=\"data row2 col1\" >0.9553</td>\n",
       "      <td id=\"T_e21c1_row2_col2\" class=\"data row2 col2\" >0.9866</td>\n",
       "      <td id=\"T_e21c1_row2_col3\" class=\"data row2 col3\" >0.9729</td>\n",
       "      <td id=\"T_e21c1_row2_col4\" class=\"data row2 col4\" >0.9578</td>\n",
       "      <td id=\"T_e21c1_row2_col5\" class=\"data row2 col5\" >0.9645</td>\n",
       "      <td id=\"T_e21c1_row2_col6\" class=\"data row2 col6\" >0.9040</td>\n",
       "      <td id=\"T_e21c1_row2_col7\" class=\"data row2 col7\" >0.9068</td>\n",
       "      <td id=\"T_e21c1_row2_col8\" class=\"data row2 col8\" >0.0610</td>\n",
       "    </tr>\n",
       "    <tr>\n",
       "      <th id=\"T_e21c1_level0_row3\" class=\"row_heading level0 row3\" >ada</th>\n",
       "      <td id=\"T_e21c1_row3_col0\" class=\"data row3 col0\" >Ada Boost Classifier</td>\n",
       "      <td id=\"T_e21c1_row3_col1\" class=\"data row3 col1\" >0.9525</td>\n",
       "      <td id=\"T_e21c1_row3_col2\" class=\"data row3 col2\" >0.9852</td>\n",
       "      <td id=\"T_e21c1_row3_col3\" class=\"data row3 col3\" >0.9731</td>\n",
       "      <td id=\"T_e21c1_row3_col4\" class=\"data row3 col4\" >0.9532</td>\n",
       "      <td id=\"T_e21c1_row3_col5\" class=\"data row3 col5\" >0.9625</td>\n",
       "      <td id=\"T_e21c1_row3_col6\" class=\"data row3 col6\" >0.8977</td>\n",
       "      <td id=\"T_e21c1_row3_col7\" class=\"data row3 col7\" >0.8999</td>\n",
       "      <td id=\"T_e21c1_row3_col8\" class=\"data row3 col8\" >0.0340</td>\n",
       "    </tr>\n",
       "    <tr>\n",
       "      <th id=\"T_e21c1_level0_row4\" class=\"row_heading level0 row4\" >lightgbm</th>\n",
       "      <td id=\"T_e21c1_row4_col0\" class=\"data row4 col0\" >Light Gradient Boosting Machine</td>\n",
       "      <td id=\"T_e21c1_row4_col1\" class=\"data row4 col1\" >0.9494</td>\n",
       "      <td id=\"T_e21c1_row4_col2\" class=\"data row4 col2\" >0.9853</td>\n",
       "      <td id=\"T_e21c1_row4_col3\" class=\"data row4 col3\" >0.9727</td>\n",
       "      <td id=\"T_e21c1_row4_col4\" class=\"data row4 col4\" >0.9482</td>\n",
       "      <td id=\"T_e21c1_row4_col5\" class=\"data row4 col5\" >0.9597</td>\n",
       "      <td id=\"T_e21c1_row4_col6\" class=\"data row4 col6\" >0.8919</td>\n",
       "      <td id=\"T_e21c1_row4_col7\" class=\"data row4 col7\" >0.8948</td>\n",
       "      <td id=\"T_e21c1_row4_col8\" class=\"data row4 col8\" >0.0240</td>\n",
       "    </tr>\n",
       "    <tr>\n",
       "      <th id=\"T_e21c1_level0_row5\" class=\"row_heading level0 row5\" >lda</th>\n",
       "      <td id=\"T_e21c1_row5_col0\" class=\"data row5 col0\" >Linear Discriminant Analysis</td>\n",
       "      <td id=\"T_e21c1_row5_col1\" class=\"data row5 col1\" >0.9440</td>\n",
       "      <td id=\"T_e21c1_row5_col2\" class=\"data row5 col2\" >0.9916</td>\n",
       "      <td id=\"T_e21c1_row5_col3\" class=\"data row5 col3\" >0.9909</td>\n",
       "      <td id=\"T_e21c1_row5_col4\" class=\"data row5 col4\" >0.9270</td>\n",
       "      <td id=\"T_e21c1_row5_col5\" class=\"data row5 col5\" >0.9572</td>\n",
       "      <td id=\"T_e21c1_row5_col6\" class=\"data row5 col6\" >0.8758</td>\n",
       "      <td id=\"T_e21c1_row5_col7\" class=\"data row5 col7\" >0.8829</td>\n",
       "      <td id=\"T_e21c1_row5_col8\" class=\"data row5 col8\" >0.0090</td>\n",
       "    </tr>\n",
       "    <tr>\n",
       "      <th id=\"T_e21c1_level0_row6\" class=\"row_heading level0 row6\" >gbc</th>\n",
       "      <td id=\"T_e21c1_row6_col0\" class=\"data row6 col0\" >Gradient Boosting Classifier</td>\n",
       "      <td id=\"T_e21c1_row6_col1\" class=\"data row6 col1\" >0.9413</td>\n",
       "      <td id=\"T_e21c1_row6_col2\" class=\"data row6 col2\" >0.9891</td>\n",
       "      <td id=\"T_e21c1_row6_col3\" class=\"data row6 col3\" >0.9636</td>\n",
       "      <td id=\"T_e21c1_row6_col4\" class=\"data row6 col4\" >0.9439</td>\n",
       "      <td id=\"T_e21c1_row6_col5\" class=\"data row6 col5\" >0.9526</td>\n",
       "      <td id=\"T_e21c1_row6_col6\" class=\"data row6 col6\" >0.8752</td>\n",
       "      <td id=\"T_e21c1_row6_col7\" class=\"data row6 col7\" >0.8788</td>\n",
       "      <td id=\"T_e21c1_row6_col8\" class=\"data row6 col8\" >0.0590</td>\n",
       "    </tr>\n",
       "    <tr>\n",
       "      <th id=\"T_e21c1_level0_row7\" class=\"row_heading level0 row7\" >ridge</th>\n",
       "      <td id=\"T_e21c1_row7_col0\" class=\"data row7 col0\" >Ridge Classifier</td>\n",
       "      <td id=\"T_e21c1_row7_col1\" class=\"data row7 col1\" >0.9356</td>\n",
       "      <td id=\"T_e21c1_row7_col2\" class=\"data row7 col2\" >0.0000</td>\n",
       "      <td id=\"T_e21c1_row7_col3\" class=\"data row7 col3\" >0.9775</td>\n",
       "      <td id=\"T_e21c1_row7_col4\" class=\"data row7 col4\" >0.9252</td>\n",
       "      <td id=\"T_e21c1_row7_col5\" class=\"data row7 col5\" >0.9499</td>\n",
       "      <td id=\"T_e21c1_row7_col6\" class=\"data row7 col6\" >0.8598</td>\n",
       "      <td id=\"T_e21c1_row7_col7\" class=\"data row7 col7\" >0.8650</td>\n",
       "      <td id=\"T_e21c1_row7_col8\" class=\"data row7 col8\" >0.0080</td>\n",
       "    </tr>\n",
       "    <tr>\n",
       "      <th id=\"T_e21c1_level0_row8\" class=\"row_heading level0 row8\" >lr</th>\n",
       "      <td id=\"T_e21c1_row8_col0\" class=\"data row8 col0\" >Logistic Regression</td>\n",
       "      <td id=\"T_e21c1_row8_col1\" class=\"data row8 col1\" >0.9328</td>\n",
       "      <td id=\"T_e21c1_row8_col2\" class=\"data row8 col2\" >0.9892</td>\n",
       "      <td id=\"T_e21c1_row8_col3\" class=\"data row8 col3\" >0.9591</td>\n",
       "      <td id=\"T_e21c1_row8_col4\" class=\"data row8 col4\" >0.9371</td>\n",
       "      <td id=\"T_e21c1_row8_col5\" class=\"data row8 col5\" >0.9466</td>\n",
       "      <td id=\"T_e21c1_row8_col6\" class=\"data row8 col6\" >0.8553</td>\n",
       "      <td id=\"T_e21c1_row8_col7\" class=\"data row8 col7\" >0.8601</td>\n",
       "      <td id=\"T_e21c1_row8_col8\" class=\"data row8 col8\" >0.2650</td>\n",
       "    </tr>\n",
       "    <tr>\n",
       "      <th id=\"T_e21c1_level0_row9\" class=\"row_heading level0 row9\" >qda</th>\n",
       "      <td id=\"T_e21c1_row9_col0\" class=\"data row9 col0\" >Quadratic Discriminant Analysis</td>\n",
       "      <td id=\"T_e21c1_row9_col1\" class=\"data row9 col1\" >0.9274</td>\n",
       "      <td id=\"T_e21c1_row9_col2\" class=\"data row9 col2\" >0.9815</td>\n",
       "      <td id=\"T_e21c1_row9_col3\" class=\"data row9 col3\" >0.9322</td>\n",
       "      <td id=\"T_e21c1_row9_col4\" class=\"data row9 col4\" >0.9521</td>\n",
       "      <td id=\"T_e21c1_row9_col5\" class=\"data row9 col5\" >0.9402</td>\n",
       "      <td id=\"T_e21c1_row9_col6\" class=\"data row9 col6\" >0.8473</td>\n",
       "      <td id=\"T_e21c1_row9_col7\" class=\"data row9 col7\" >0.8523</td>\n",
       "      <td id=\"T_e21c1_row9_col8\" class=\"data row9 col8\" >0.0090</td>\n",
       "    </tr>\n",
       "    <tr>\n",
       "      <th id=\"T_e21c1_level0_row10\" class=\"row_heading level0 row10\" >dt</th>\n",
       "      <td id=\"T_e21c1_row10_col0\" class=\"data row10 col0\" >Decision Tree Classifier</td>\n",
       "      <td id=\"T_e21c1_row10_col1\" class=\"data row10 col1\" >0.9245</td>\n",
       "      <td id=\"T_e21c1_row10_col2\" class=\"data row10 col2\" >0.9218</td>\n",
       "      <td id=\"T_e21c1_row10_col3\" class=\"data row10 col3\" >0.9326</td>\n",
       "      <td id=\"T_e21c1_row10_col4\" class=\"data row10 col4\" >0.9484</td>\n",
       "      <td id=\"T_e21c1_row10_col5\" class=\"data row10 col5\" >0.9387</td>\n",
       "      <td id=\"T_e21c1_row10_col6\" class=\"data row10 col6\" >0.8401</td>\n",
       "      <td id=\"T_e21c1_row10_col7\" class=\"data row10 col7\" >0.8456</td>\n",
       "      <td id=\"T_e21c1_row10_col8\" class=\"data row10 col8\" >0.0100</td>\n",
       "    </tr>\n",
       "    <tr>\n",
       "      <th id=\"T_e21c1_level0_row11\" class=\"row_heading level0 row11\" >knn</th>\n",
       "      <td id=\"T_e21c1_row11_col0\" class=\"data row11 col0\" >K Neighbors Classifier</td>\n",
       "      <td id=\"T_e21c1_row11_col1\" class=\"data row11 col1\" >0.9162</td>\n",
       "      <td id=\"T_e21c1_row11_col2\" class=\"data row11 col2\" >0.9406</td>\n",
       "      <td id=\"T_e21c1_row11_col3\" class=\"data row11 col3\" >0.9591</td>\n",
       "      <td id=\"T_e21c1_row11_col4\" class=\"data row11 col4\" >0.9130</td>\n",
       "      <td id=\"T_e21c1_row11_col5\" class=\"data row11 col5\" >0.9343</td>\n",
       "      <td id=\"T_e21c1_row11_col6\" class=\"data row11 col6\" >0.8180</td>\n",
       "      <td id=\"T_e21c1_row11_col7\" class=\"data row11 col7\" >0.8250</td>\n",
       "      <td id=\"T_e21c1_row11_col8\" class=\"data row11 col8\" >0.0130</td>\n",
       "    </tr>\n",
       "    <tr>\n",
       "      <th id=\"T_e21c1_level0_row12\" class=\"row_heading level0 row12\" >nb</th>\n",
       "      <td id=\"T_e21c1_row12_col0\" class=\"data row12 col0\" >Naive Bayes</td>\n",
       "      <td id=\"T_e21c1_row12_col1\" class=\"data row12 col1\" >0.9162</td>\n",
       "      <td id=\"T_e21c1_row12_col2\" class=\"data row12 col2\" >0.9811</td>\n",
       "      <td id=\"T_e21c1_row12_col3\" class=\"data row12 col3\" >0.9551</td>\n",
       "      <td id=\"T_e21c1_row12_col4\" class=\"data row12 col4\" >0.9151</td>\n",
       "      <td id=\"T_e21c1_row12_col5\" class=\"data row12 col5\" >0.9343</td>\n",
       "      <td id=\"T_e21c1_row12_col6\" class=\"data row12 col6\" >0.8182</td>\n",
       "      <td id=\"T_e21c1_row12_col7\" class=\"data row12 col7\" >0.8210</td>\n",
       "      <td id=\"T_e21c1_row12_col8\" class=\"data row12 col8\" >0.0080</td>\n",
       "    </tr>\n",
       "    <tr>\n",
       "      <th id=\"T_e21c1_level0_row13\" class=\"row_heading level0 row13\" >svm</th>\n",
       "      <td id=\"T_e21c1_row13_col0\" class=\"data row13 col0\" >SVM - Linear Kernel</td>\n",
       "      <td id=\"T_e21c1_row13_col1\" class=\"data row13 col1\" >0.7647</td>\n",
       "      <td id=\"T_e21c1_row13_col2\" class=\"data row13 col2\" >0.0000</td>\n",
       "      <td id=\"T_e21c1_row13_col3\" class=\"data row13 col3\" >0.6907</td>\n",
       "      <td id=\"T_e21c1_row13_col4\" class=\"data row13 col4\" >0.9382</td>\n",
       "      <td id=\"T_e21c1_row13_col5\" class=\"data row13 col5\" >0.7155</td>\n",
       "      <td id=\"T_e21c1_row13_col6\" class=\"data row13 col6\" >0.5760</td>\n",
       "      <td id=\"T_e21c1_row13_col7\" class=\"data row13 col7\" >0.6229</td>\n",
       "      <td id=\"T_e21c1_row13_col8\" class=\"data row13 col8\" >0.0080</td>\n",
       "    </tr>\n",
       "    <tr>\n",
       "      <th id=\"T_e21c1_level0_row14\" class=\"row_heading level0 row14\" >dummy</th>\n",
       "      <td id=\"T_e21c1_row14_col0\" class=\"data row14 col0\" >Dummy Classifier</td>\n",
       "      <td id=\"T_e21c1_row14_col1\" class=\"data row14 col1\" >0.6202</td>\n",
       "      <td id=\"T_e21c1_row14_col2\" class=\"data row14 col2\" >0.5000</td>\n",
       "      <td id=\"T_e21c1_row14_col3\" class=\"data row14 col3\" >1.0000</td>\n",
       "      <td id=\"T_e21c1_row14_col4\" class=\"data row14 col4\" >0.6202</td>\n",
       "      <td id=\"T_e21c1_row14_col5\" class=\"data row14 col5\" >0.7655</td>\n",
       "      <td id=\"T_e21c1_row14_col6\" class=\"data row14 col6\" >0.0000</td>\n",
       "      <td id=\"T_e21c1_row14_col7\" class=\"data row14 col7\" >0.0000</td>\n",
       "      <td id=\"T_e21c1_row14_col8\" class=\"data row14 col8\" >0.0070</td>\n",
       "    </tr>\n",
       "  </tbody>\n",
       "</table>\n"
      ],
      "text/plain": [
       "<pandas.io.formats.style.Styler at 0x7f2d9c6d4a00>"
      ]
     },
     "metadata": {},
     "output_type": "display_data"
    },
    {
     "data": {
      "text/html": [],
      "text/plain": [
       "<IPython.core.display.HTML object>"
      ]
     },
     "metadata": {},
     "output_type": "display_data"
    }
   ],
   "source": [
    "best = cla.compare_models() # compare"
   ]
  },
  {
   "cell_type": "markdown",
   "id": "2fa9cdf4-5ed5-4eba-8b5a-99bd40e83635",
   "metadata": {},
   "source": [
    "Above we have an output of the default settings for each algorithm and we have the respective metrics printed for each algorithm. By default the output sorts by accuracy however if you add the argument sort = 'metric' and replace metric with the metric you want it will sort the table in a different order. we can run print(best) below the get the name and hyper parametrs of the best algorithm"
   ]
  },
  {
   "cell_type": "code",
   "execution_count": 9,
   "id": "e798c16f-2fc7-425a-b73b-27bfe56b7aab",
   "metadata": {},
   "outputs": [
    {
     "name": "stdout",
     "output_type": "stream",
     "text": [
      "ExtraTreesClassifier(bootstrap=False, ccp_alpha=0.0, class_weight=None,\n",
      "                     criterion='gini', max_depth=None, max_features='sqrt',\n",
      "                     max_leaf_nodes=None, max_samples=None,\n",
      "                     min_impurity_decrease=0.0, min_samples_leaf=1,\n",
      "                     min_samples_split=2, min_weight_fraction_leaf=0.0,\n",
      "                     n_estimators=100, n_jobs=-1, oob_score=False,\n",
      "                     random_state=123, verbose=0, warm_start=False)\n"
     ]
    }
   ],
   "source": [
    "print(best)"
   ]
  },
  {
   "cell_type": "markdown",
   "id": "d59e8720-48e0-4acc-b3f3-a7e74391da09",
   "metadata": {},
   "source": [
    "If we want to investigate a specific model we use the create model function and pass in the string name of that algorithm as we seel below with decision trees and KNN"
   ]
  },
  {
   "cell_type": "code",
   "execution_count": 10,
   "id": "73748ad0-7b99-4560-9aa3-31d0e667ffff",
   "metadata": {},
   "outputs": [
    {
     "data": {
      "text/html": [],
      "text/plain": [
       "<IPython.core.display.HTML object>"
      ]
     },
     "metadata": {},
     "output_type": "display_data"
    },
    {
     "data": {
      "text/html": [
       "<style type=\"text/css\">\n",
       "#T_a58db_row10_col0, #T_a58db_row10_col1, #T_a58db_row10_col2, #T_a58db_row10_col3, #T_a58db_row10_col4, #T_a58db_row10_col5, #T_a58db_row10_col6 {\n",
       "  background: yellow;\n",
       "}\n",
       "</style>\n",
       "<table id=\"T_a58db\">\n",
       "  <thead>\n",
       "    <tr>\n",
       "      <th class=\"blank level0\" >&nbsp;</th>\n",
       "      <th id=\"T_a58db_level0_col0\" class=\"col_heading level0 col0\" >Accuracy</th>\n",
       "      <th id=\"T_a58db_level0_col1\" class=\"col_heading level0 col1\" >AUC</th>\n",
       "      <th id=\"T_a58db_level0_col2\" class=\"col_heading level0 col2\" >Recall</th>\n",
       "      <th id=\"T_a58db_level0_col3\" class=\"col_heading level0 col3\" >Prec.</th>\n",
       "      <th id=\"T_a58db_level0_col4\" class=\"col_heading level0 col4\" >F1</th>\n",
       "      <th id=\"T_a58db_level0_col5\" class=\"col_heading level0 col5\" >Kappa</th>\n",
       "      <th id=\"T_a58db_level0_col6\" class=\"col_heading level0 col6\" >MCC</th>\n",
       "    </tr>\n",
       "    <tr>\n",
       "      <th class=\"index_name level0\" >Fold</th>\n",
       "      <th class=\"blank col0\" >&nbsp;</th>\n",
       "      <th class=\"blank col1\" >&nbsp;</th>\n",
       "      <th class=\"blank col2\" >&nbsp;</th>\n",
       "      <th class=\"blank col3\" >&nbsp;</th>\n",
       "      <th class=\"blank col4\" >&nbsp;</th>\n",
       "      <th class=\"blank col5\" >&nbsp;</th>\n",
       "      <th class=\"blank col6\" >&nbsp;</th>\n",
       "    </tr>\n",
       "  </thead>\n",
       "  <tbody>\n",
       "    <tr>\n",
       "      <th id=\"T_a58db_level0_row0\" class=\"row_heading level0 row0\" >0</th>\n",
       "      <td id=\"T_a58db_row0_col0\" class=\"data row0 col0\" >0.8611</td>\n",
       "      <td id=\"T_a58db_row0_col1\" class=\"data row0 col1\" >0.8474</td>\n",
       "      <td id=\"T_a58db_row0_col2\" class=\"data row0 col2\" >0.9091</td>\n",
       "      <td id=\"T_a58db_row0_col3\" class=\"data row0 col3\" >0.8696</td>\n",
       "      <td id=\"T_a58db_row0_col4\" class=\"data row0 col4\" >0.8889</td>\n",
       "      <td id=\"T_a58db_row0_col5\" class=\"data row0 col5\" >0.7039</td>\n",
       "      <td id=\"T_a58db_row0_col6\" class=\"data row0 col6\" >0.7052</td>\n",
       "    </tr>\n",
       "    <tr>\n",
       "      <th id=\"T_a58db_level0_row1\" class=\"row_heading level0 row1\" >1</th>\n",
       "      <td id=\"T_a58db_row1_col0\" class=\"data row1 col0\" >0.9167</td>\n",
       "      <td id=\"T_a58db_row1_col1\" class=\"data row1 col1\" >0.9188</td>\n",
       "      <td id=\"T_a58db_row1_col2\" class=\"data row1 col2\" >0.9091</td>\n",
       "      <td id=\"T_a58db_row1_col3\" class=\"data row1 col3\" >0.9524</td>\n",
       "      <td id=\"T_a58db_row1_col4\" class=\"data row1 col4\" >0.9302</td>\n",
       "      <td id=\"T_a58db_row1_col5\" class=\"data row1 col5\" >0.8269</td>\n",
       "      <td id=\"T_a58db_row1_col6\" class=\"data row1 col6\" >0.8283</td>\n",
       "    </tr>\n",
       "    <tr>\n",
       "      <th id=\"T_a58db_level0_row2\" class=\"row_heading level0 row2\" >2</th>\n",
       "      <td id=\"T_a58db_row2_col0\" class=\"data row2 col0\" >0.9722</td>\n",
       "      <td id=\"T_a58db_row2_col1\" class=\"data row2 col1\" >0.9643</td>\n",
       "      <td id=\"T_a58db_row2_col2\" class=\"data row2 col2\" >1.0000</td>\n",
       "      <td id=\"T_a58db_row2_col3\" class=\"data row2 col3\" >0.9565</td>\n",
       "      <td id=\"T_a58db_row2_col4\" class=\"data row2 col4\" >0.9778</td>\n",
       "      <td id=\"T_a58db_row2_col5\" class=\"data row2 col5\" >0.9408</td>\n",
       "      <td id=\"T_a58db_row2_col6\" class=\"data row2 col6\" >0.9424</td>\n",
       "    </tr>\n",
       "    <tr>\n",
       "      <th id=\"T_a58db_level0_row3\" class=\"row_heading level0 row3\" >3</th>\n",
       "      <td id=\"T_a58db_row3_col0\" class=\"data row3 col0\" >0.9444</td>\n",
       "      <td id=\"T_a58db_row3_col1\" class=\"data row3 col1\" >0.9545</td>\n",
       "      <td id=\"T_a58db_row3_col2\" class=\"data row3 col2\" >0.9091</td>\n",
       "      <td id=\"T_a58db_row3_col3\" class=\"data row3 col3\" >1.0000</td>\n",
       "      <td id=\"T_a58db_row3_col4\" class=\"data row3 col4\" >0.9524</td>\n",
       "      <td id=\"T_a58db_row3_col5\" class=\"data row3 col5\" >0.8861</td>\n",
       "      <td id=\"T_a58db_row3_col6\" class=\"data row3 col6\" >0.8919</td>\n",
       "    </tr>\n",
       "    <tr>\n",
       "      <th id=\"T_a58db_level0_row4\" class=\"row_heading level0 row4\" >4</th>\n",
       "      <td id=\"T_a58db_row4_col0\" class=\"data row4 col0\" >0.9722</td>\n",
       "      <td id=\"T_a58db_row4_col1\" class=\"data row4 col1\" >0.9643</td>\n",
       "      <td id=\"T_a58db_row4_col2\" class=\"data row4 col2\" >1.0000</td>\n",
       "      <td id=\"T_a58db_row4_col3\" class=\"data row4 col3\" >0.9565</td>\n",
       "      <td id=\"T_a58db_row4_col4\" class=\"data row4 col4\" >0.9778</td>\n",
       "      <td id=\"T_a58db_row4_col5\" class=\"data row4 col5\" >0.9408</td>\n",
       "      <td id=\"T_a58db_row4_col6\" class=\"data row4 col6\" >0.9424</td>\n",
       "    </tr>\n",
       "    <tr>\n",
       "      <th id=\"T_a58db_level0_row5\" class=\"row_heading level0 row5\" >5</th>\n",
       "      <td id=\"T_a58db_row5_col0\" class=\"data row5 col0\" >0.9167</td>\n",
       "      <td id=\"T_a58db_row5_col1\" class=\"data row5 col1\" >0.9318</td>\n",
       "      <td id=\"T_a58db_row5_col2\" class=\"data row5 col2\" >0.8636</td>\n",
       "      <td id=\"T_a58db_row5_col3\" class=\"data row5 col3\" >1.0000</td>\n",
       "      <td id=\"T_a58db_row5_col4\" class=\"data row5 col4\" >0.9268</td>\n",
       "      <td id=\"T_a58db_row5_col5\" class=\"data row5 col5\" >0.8312</td>\n",
       "      <td id=\"T_a58db_row5_col6\" class=\"data row5 col6\" >0.8433</td>\n",
       "    </tr>\n",
       "    <tr>\n",
       "      <th id=\"T_a58db_level0_row6\" class=\"row_heading level0 row6\" >6</th>\n",
       "      <td id=\"T_a58db_row6_col0\" class=\"data row6 col0\" >0.9167</td>\n",
       "      <td id=\"T_a58db_row6_col1\" class=\"data row6 col1\" >0.9013</td>\n",
       "      <td id=\"T_a58db_row6_col2\" class=\"data row6 col2\" >0.9565</td>\n",
       "      <td id=\"T_a58db_row6_col3\" class=\"data row6 col3\" >0.9167</td>\n",
       "      <td id=\"T_a58db_row6_col4\" class=\"data row6 col4\" >0.9362</td>\n",
       "      <td id=\"T_a58db_row6_col5\" class=\"data row6 col5\" >0.8163</td>\n",
       "      <td id=\"T_a58db_row6_col6\" class=\"data row6 col6\" >0.8179</td>\n",
       "    </tr>\n",
       "    <tr>\n",
       "      <th id=\"T_a58db_level0_row7\" class=\"row_heading level0 row7\" >7</th>\n",
       "      <td id=\"T_a58db_row7_col0\" class=\"data row7 col0\" >0.9167</td>\n",
       "      <td id=\"T_a58db_row7_col1\" class=\"data row7 col1\" >0.9348</td>\n",
       "      <td id=\"T_a58db_row7_col2\" class=\"data row7 col2\" >0.8696</td>\n",
       "      <td id=\"T_a58db_row7_col3\" class=\"data row7 col3\" >1.0000</td>\n",
       "      <td id=\"T_a58db_row7_col4\" class=\"data row7 col4\" >0.9302</td>\n",
       "      <td id=\"T_a58db_row7_col5\" class=\"data row7 col5\" >0.8280</td>\n",
       "      <td id=\"T_a58db_row7_col6\" class=\"data row7 col6\" >0.8405</td>\n",
       "    </tr>\n",
       "    <tr>\n",
       "      <th id=\"T_a58db_level0_row8\" class=\"row_heading level0 row8\" >8</th>\n",
       "      <td id=\"T_a58db_row8_col0\" class=\"data row8 col0\" >0.9143</td>\n",
       "      <td id=\"T_a58db_row8_col1\" class=\"data row8 col1\" >0.8846</td>\n",
       "      <td id=\"T_a58db_row8_col2\" class=\"data row8 col2\" >1.0000</td>\n",
       "      <td id=\"T_a58db_row8_col3\" class=\"data row8 col3\" >0.8800</td>\n",
       "      <td id=\"T_a58db_row8_col4\" class=\"data row8 col4\" >0.9362</td>\n",
       "      <td id=\"T_a58db_row8_col5\" class=\"data row8 col5\" >0.8073</td>\n",
       "      <td id=\"T_a58db_row8_col6\" class=\"data row8 col6\" >0.8228</td>\n",
       "    </tr>\n",
       "    <tr>\n",
       "      <th id=\"T_a58db_level0_row9\" class=\"row_heading level0 row9\" >9</th>\n",
       "      <td id=\"T_a58db_row9_col0\" class=\"data row9 col0\" >0.9143</td>\n",
       "      <td id=\"T_a58db_row9_col1\" class=\"data row9 col1\" >0.9161</td>\n",
       "      <td id=\"T_a58db_row9_col2\" class=\"data row9 col2\" >0.9091</td>\n",
       "      <td id=\"T_a58db_row9_col3\" class=\"data row9 col3\" >0.9524</td>\n",
       "      <td id=\"T_a58db_row9_col4\" class=\"data row9 col4\" >0.9302</td>\n",
       "      <td id=\"T_a58db_row9_col5\" class=\"data row9 col5\" >0.8193</td>\n",
       "      <td id=\"T_a58db_row9_col6\" class=\"data row9 col6\" >0.8208</td>\n",
       "    </tr>\n",
       "    <tr>\n",
       "      <th id=\"T_a58db_level0_row10\" class=\"row_heading level0 row10\" >Mean</th>\n",
       "      <td id=\"T_a58db_row10_col0\" class=\"data row10 col0\" >0.9245</td>\n",
       "      <td id=\"T_a58db_row10_col1\" class=\"data row10 col1\" >0.9218</td>\n",
       "      <td id=\"T_a58db_row10_col2\" class=\"data row10 col2\" >0.9326</td>\n",
       "      <td id=\"T_a58db_row10_col3\" class=\"data row10 col3\" >0.9484</td>\n",
       "      <td id=\"T_a58db_row10_col4\" class=\"data row10 col4\" >0.9387</td>\n",
       "      <td id=\"T_a58db_row10_col5\" class=\"data row10 col5\" >0.8401</td>\n",
       "      <td id=\"T_a58db_row10_col6\" class=\"data row10 col6\" >0.8456</td>\n",
       "    </tr>\n",
       "    <tr>\n",
       "      <th id=\"T_a58db_level0_row11\" class=\"row_heading level0 row11\" >Std</th>\n",
       "      <td id=\"T_a58db_row11_col0\" class=\"data row11 col0\" >0.0307</td>\n",
       "      <td id=\"T_a58db_row11_col1\" class=\"data row11 col1\" >0.0351</td>\n",
       "      <td id=\"T_a58db_row11_col2\" class=\"data row11 col2\" >0.0501</td>\n",
       "      <td id=\"T_a58db_row11_col3\" class=\"data row11 col3\" >0.0448</td>\n",
       "      <td id=\"T_a58db_row11_col4\" class=\"data row11 col4\" >0.0247</td>\n",
       "      <td id=\"T_a58db_row11_col5\" class=\"data row11 col5\" >0.0659</td>\n",
       "      <td id=\"T_a58db_row11_col6\" class=\"data row11 col6\" >0.0655</td>\n",
       "    </tr>\n",
       "  </tbody>\n",
       "</table>\n"
      ],
      "text/plain": [
       "<pandas.io.formats.style.Styler at 0x7f2d52daabb0>"
      ]
     },
     "metadata": {},
     "output_type": "display_data"
    },
    {
     "data": {
      "text/html": [],
      "text/plain": [
       "<IPython.core.display.HTML object>"
      ]
     },
     "metadata": {},
     "output_type": "display_data"
    }
   ],
   "source": [
    "dt = cla.create_model('dt')"
   ]
  },
  {
   "cell_type": "code",
   "execution_count": 11,
   "id": "29070dbf-7579-4c59-b162-af8a74c6197c",
   "metadata": {},
   "outputs": [
    {
     "data": {
      "text/html": [],
      "text/plain": [
       "<IPython.core.display.HTML object>"
      ]
     },
     "metadata": {},
     "output_type": "display_data"
    },
    {
     "data": {
      "text/html": [
       "<style type=\"text/css\">\n",
       "#T_550bb_row10_col0, #T_550bb_row10_col1, #T_550bb_row10_col2, #T_550bb_row10_col3, #T_550bb_row10_col4, #T_550bb_row10_col5, #T_550bb_row10_col6 {\n",
       "  background: yellow;\n",
       "}\n",
       "</style>\n",
       "<table id=\"T_550bb\">\n",
       "  <thead>\n",
       "    <tr>\n",
       "      <th class=\"blank level0\" >&nbsp;</th>\n",
       "      <th id=\"T_550bb_level0_col0\" class=\"col_heading level0 col0\" >Accuracy</th>\n",
       "      <th id=\"T_550bb_level0_col1\" class=\"col_heading level0 col1\" >AUC</th>\n",
       "      <th id=\"T_550bb_level0_col2\" class=\"col_heading level0 col2\" >Recall</th>\n",
       "      <th id=\"T_550bb_level0_col3\" class=\"col_heading level0 col3\" >Prec.</th>\n",
       "      <th id=\"T_550bb_level0_col4\" class=\"col_heading level0 col4\" >F1</th>\n",
       "      <th id=\"T_550bb_level0_col5\" class=\"col_heading level0 col5\" >Kappa</th>\n",
       "      <th id=\"T_550bb_level0_col6\" class=\"col_heading level0 col6\" >MCC</th>\n",
       "    </tr>\n",
       "    <tr>\n",
       "      <th class=\"index_name level0\" >Fold</th>\n",
       "      <th class=\"blank col0\" >&nbsp;</th>\n",
       "      <th class=\"blank col1\" >&nbsp;</th>\n",
       "      <th class=\"blank col2\" >&nbsp;</th>\n",
       "      <th class=\"blank col3\" >&nbsp;</th>\n",
       "      <th class=\"blank col4\" >&nbsp;</th>\n",
       "      <th class=\"blank col5\" >&nbsp;</th>\n",
       "      <th class=\"blank col6\" >&nbsp;</th>\n",
       "    </tr>\n",
       "  </thead>\n",
       "  <tbody>\n",
       "    <tr>\n",
       "      <th id=\"T_550bb_level0_row0\" class=\"row_heading level0 row0\" >0</th>\n",
       "      <td id=\"T_550bb_row0_col0\" class=\"data row0 col0\" >0.8333</td>\n",
       "      <td id=\"T_550bb_row0_col1\" class=\"data row0 col1\" >0.8961</td>\n",
       "      <td id=\"T_550bb_row0_col2\" class=\"data row0 col2\" >0.8636</td>\n",
       "      <td id=\"T_550bb_row0_col3\" class=\"data row0 col3\" >0.8636</td>\n",
       "      <td id=\"T_550bb_row0_col4\" class=\"data row0 col4\" >0.8636</td>\n",
       "      <td id=\"T_550bb_row0_col5\" class=\"data row0 col5\" >0.6494</td>\n",
       "      <td id=\"T_550bb_row0_col6\" class=\"data row0 col6\" >0.6494</td>\n",
       "    </tr>\n",
       "    <tr>\n",
       "      <th id=\"T_550bb_level0_row1\" class=\"row_heading level0 row1\" >1</th>\n",
       "      <td id=\"T_550bb_row1_col0\" class=\"data row1 col0\" >0.8611</td>\n",
       "      <td id=\"T_550bb_row1_col1\" class=\"data row1 col1\" >0.8620</td>\n",
       "      <td id=\"T_550bb_row1_col2\" class=\"data row1 col2\" >0.9545</td>\n",
       "      <td id=\"T_550bb_row1_col3\" class=\"data row1 col3\" >0.8400</td>\n",
       "      <td id=\"T_550bb_row1_col4\" class=\"data row1 col4\" >0.8936</td>\n",
       "      <td id=\"T_550bb_row1_col5\" class=\"data row1 col5\" >0.6959</td>\n",
       "      <td id=\"T_550bb_row1_col6\" class=\"data row1 col6\" >0.7078</td>\n",
       "    </tr>\n",
       "    <tr>\n",
       "      <th id=\"T_550bb_level0_row2\" class=\"row_heading level0 row2\" >2</th>\n",
       "      <td id=\"T_550bb_row2_col0\" class=\"data row2 col0\" >0.9444</td>\n",
       "      <td id=\"T_550bb_row2_col1\" class=\"data row2 col1\" >0.9886</td>\n",
       "      <td id=\"T_550bb_row2_col2\" class=\"data row2 col2\" >0.9545</td>\n",
       "      <td id=\"T_550bb_row2_col3\" class=\"data row2 col3\" >0.9545</td>\n",
       "      <td id=\"T_550bb_row2_col4\" class=\"data row2 col4\" >0.9545</td>\n",
       "      <td id=\"T_550bb_row2_col5\" class=\"data row2 col5\" >0.8831</td>\n",
       "      <td id=\"T_550bb_row2_col6\" class=\"data row2 col6\" >0.8831</td>\n",
       "    </tr>\n",
       "    <tr>\n",
       "      <th id=\"T_550bb_level0_row3\" class=\"row_heading level0 row3\" >3</th>\n",
       "      <td id=\"T_550bb_row3_col0\" class=\"data row3 col0\" >0.9167</td>\n",
       "      <td id=\"T_550bb_row3_col1\" class=\"data row3 col1\" >0.9529</td>\n",
       "      <td id=\"T_550bb_row3_col2\" class=\"data row3 col2\" >0.9091</td>\n",
       "      <td id=\"T_550bb_row3_col3\" class=\"data row3 col3\" >0.9524</td>\n",
       "      <td id=\"T_550bb_row3_col4\" class=\"data row3 col4\" >0.9302</td>\n",
       "      <td id=\"T_550bb_row3_col5\" class=\"data row3 col5\" >0.8269</td>\n",
       "      <td id=\"T_550bb_row3_col6\" class=\"data row3 col6\" >0.8283</td>\n",
       "    </tr>\n",
       "    <tr>\n",
       "      <th id=\"T_550bb_level0_row4\" class=\"row_heading level0 row4\" >4</th>\n",
       "      <td id=\"T_550bb_row4_col0\" class=\"data row4 col0\" >1.0000</td>\n",
       "      <td id=\"T_550bb_row4_col1\" class=\"data row4 col1\" >1.0000</td>\n",
       "      <td id=\"T_550bb_row4_col2\" class=\"data row4 col2\" >1.0000</td>\n",
       "      <td id=\"T_550bb_row4_col3\" class=\"data row4 col3\" >1.0000</td>\n",
       "      <td id=\"T_550bb_row4_col4\" class=\"data row4 col4\" >1.0000</td>\n",
       "      <td id=\"T_550bb_row4_col5\" class=\"data row4 col5\" >1.0000</td>\n",
       "      <td id=\"T_550bb_row4_col6\" class=\"data row4 col6\" >1.0000</td>\n",
       "    </tr>\n",
       "    <tr>\n",
       "      <th id=\"T_550bb_level0_row5\" class=\"row_heading level0 row5\" >5</th>\n",
       "      <td id=\"T_550bb_row5_col0\" class=\"data row5 col0\" >0.9167</td>\n",
       "      <td id=\"T_550bb_row5_col1\" class=\"data row5 col1\" >0.9627</td>\n",
       "      <td id=\"T_550bb_row5_col2\" class=\"data row5 col2\" >0.9091</td>\n",
       "      <td id=\"T_550bb_row5_col3\" class=\"data row5 col3\" >0.9524</td>\n",
       "      <td id=\"T_550bb_row5_col4\" class=\"data row5 col4\" >0.9302</td>\n",
       "      <td id=\"T_550bb_row5_col5\" class=\"data row5 col5\" >0.8269</td>\n",
       "      <td id=\"T_550bb_row5_col6\" class=\"data row5 col6\" >0.8283</td>\n",
       "    </tr>\n",
       "    <tr>\n",
       "      <th id=\"T_550bb_level0_row6\" class=\"row_heading level0 row6\" >6</th>\n",
       "      <td id=\"T_550bb_row6_col0\" class=\"data row6 col0\" >0.9444</td>\n",
       "      <td id=\"T_550bb_row6_col1\" class=\"data row6 col1\" >0.9415</td>\n",
       "      <td id=\"T_550bb_row6_col2\" class=\"data row6 col2\" >1.0000</td>\n",
       "      <td id=\"T_550bb_row6_col3\" class=\"data row6 col3\" >0.9200</td>\n",
       "      <td id=\"T_550bb_row6_col4\" class=\"data row6 col4\" >0.9583</td>\n",
       "      <td id=\"T_550bb_row6_col5\" class=\"data row6 col5\" >0.8754</td>\n",
       "      <td id=\"T_550bb_row6_col6\" class=\"data row6 col6\" >0.8823</td>\n",
       "    </tr>\n",
       "    <tr>\n",
       "      <th id=\"T_550bb_level0_row7\" class=\"row_heading level0 row7\" >7</th>\n",
       "      <td id=\"T_550bb_row7_col0\" class=\"data row7 col0\" >0.9167</td>\n",
       "      <td id=\"T_550bb_row7_col1\" class=\"data row7 col1\" >0.9699</td>\n",
       "      <td id=\"T_550bb_row7_col2\" class=\"data row7 col2\" >1.0000</td>\n",
       "      <td id=\"T_550bb_row7_col3\" class=\"data row7 col3\" >0.8846</td>\n",
       "      <td id=\"T_550bb_row7_col4\" class=\"data row7 col4\" >0.9388</td>\n",
       "      <td id=\"T_550bb_row7_col5\" class=\"data row7 col5\" >0.8099</td>\n",
       "      <td id=\"T_550bb_row7_col6\" class=\"data row7 col6\" >0.8249</td>\n",
       "    </tr>\n",
       "    <tr>\n",
       "      <th id=\"T_550bb_level0_row8\" class=\"row_heading level0 row8\" >8</th>\n",
       "      <td id=\"T_550bb_row8_col0\" class=\"data row8 col0\" >0.9429</td>\n",
       "      <td id=\"T_550bb_row8_col1\" class=\"data row8 col1\" >0.9510</td>\n",
       "      <td id=\"T_550bb_row8_col2\" class=\"data row8 col2\" >1.0000</td>\n",
       "      <td id=\"T_550bb_row8_col3\" class=\"data row8 col3\" >0.9167</td>\n",
       "      <td id=\"T_550bb_row8_col4\" class=\"data row8 col4\" >0.9565</td>\n",
       "      <td id=\"T_550bb_row8_col5\" class=\"data row8 col5\" >0.8736</td>\n",
       "      <td id=\"T_550bb_row8_col6\" class=\"data row8 col6\" >0.8807</td>\n",
       "    </tr>\n",
       "    <tr>\n",
       "      <th id=\"T_550bb_level0_row9\" class=\"row_heading level0 row9\" >9</th>\n",
       "      <td id=\"T_550bb_row9_col0\" class=\"data row9 col0\" >0.8857</td>\n",
       "      <td id=\"T_550bb_row9_col1\" class=\"data row9 col1\" >0.8811</td>\n",
       "      <td id=\"T_550bb_row9_col2\" class=\"data row9 col2\" >1.0000</td>\n",
       "      <td id=\"T_550bb_row9_col3\" class=\"data row9 col3\" >0.8462</td>\n",
       "      <td id=\"T_550bb_row9_col4\" class=\"data row9 col4\" >0.9167</td>\n",
       "      <td id=\"T_550bb_row9_col5\" class=\"data row9 col5\" >0.7388</td>\n",
       "      <td id=\"T_550bb_row9_col6\" class=\"data row9 col6\" >0.7654</td>\n",
       "    </tr>\n",
       "    <tr>\n",
       "      <th id=\"T_550bb_level0_row10\" class=\"row_heading level0 row10\" >Mean</th>\n",
       "      <td id=\"T_550bb_row10_col0\" class=\"data row10 col0\" >0.9162</td>\n",
       "      <td id=\"T_550bb_row10_col1\" class=\"data row10 col1\" >0.9406</td>\n",
       "      <td id=\"T_550bb_row10_col2\" class=\"data row10 col2\" >0.9591</td>\n",
       "      <td id=\"T_550bb_row10_col3\" class=\"data row10 col3\" >0.9130</td>\n",
       "      <td id=\"T_550bb_row10_col4\" class=\"data row10 col4\" >0.9343</td>\n",
       "      <td id=\"T_550bb_row10_col5\" class=\"data row10 col5\" >0.8180</td>\n",
       "      <td id=\"T_550bb_row10_col6\" class=\"data row10 col6\" >0.8250</td>\n",
       "    </tr>\n",
       "    <tr>\n",
       "      <th id=\"T_550bb_level0_row11\" class=\"row_heading level0 row11\" >Std</th>\n",
       "      <td id=\"T_550bb_row11_col0\" class=\"data row11 col0\" >0.0449</td>\n",
       "      <td id=\"T_550bb_row11_col1\" class=\"data row11 col1\" >0.0437</td>\n",
       "      <td id=\"T_550bb_row11_col2\" class=\"data row11 col2\" >0.0475</td>\n",
       "      <td id=\"T_550bb_row11_col3\" class=\"data row11 col3\" >0.0505</td>\n",
       "      <td id=\"T_550bb_row11_col4\" class=\"data row11 col4\" >0.0358</td>\n",
       "      <td id=\"T_550bb_row11_col5\" class=\"data row11 col5\" >0.0967</td>\n",
       "      <td id=\"T_550bb_row11_col6\" class=\"data row11 col6\" >0.0941</td>\n",
       "    </tr>\n",
       "  </tbody>\n",
       "</table>\n"
      ],
      "text/plain": [
       "<pandas.io.formats.style.Styler at 0x7f2d52db3f10>"
      ]
     },
     "metadata": {},
     "output_type": "display_data"
    },
    {
     "data": {
      "text/html": [],
      "text/plain": [
       "<IPython.core.display.HTML object>"
      ]
     },
     "metadata": {},
     "output_type": "display_data"
    }
   ],
   "source": [
    "knn = cla.create_model('knn')"
   ]
  },
  {
   "cell_type": "code",
   "execution_count": 12,
   "id": "165342cf-910d-4a59-a92e-2aa01eb194a7",
   "metadata": {},
   "outputs": [
    {
     "data": {
      "text/html": [],
      "text/plain": [
       "<IPython.core.display.HTML object>"
      ]
     },
     "metadata": {},
     "output_type": "display_data"
    },
    {
     "data": {
      "text/html": [
       "<style type=\"text/css\">\n",
       "#T_1ff2a_row10_col0, #T_1ff2a_row10_col1, #T_1ff2a_row10_col2, #T_1ff2a_row10_col3, #T_1ff2a_row10_col4, #T_1ff2a_row10_col5, #T_1ff2a_row10_col6 {\n",
       "  background: yellow;\n",
       "}\n",
       "</style>\n",
       "<table id=\"T_1ff2a\">\n",
       "  <thead>\n",
       "    <tr>\n",
       "      <th class=\"blank level0\" >&nbsp;</th>\n",
       "      <th id=\"T_1ff2a_level0_col0\" class=\"col_heading level0 col0\" >Accuracy</th>\n",
       "      <th id=\"T_1ff2a_level0_col1\" class=\"col_heading level0 col1\" >AUC</th>\n",
       "      <th id=\"T_1ff2a_level0_col2\" class=\"col_heading level0 col2\" >Recall</th>\n",
       "      <th id=\"T_1ff2a_level0_col3\" class=\"col_heading level0 col3\" >Prec.</th>\n",
       "      <th id=\"T_1ff2a_level0_col4\" class=\"col_heading level0 col4\" >F1</th>\n",
       "      <th id=\"T_1ff2a_level0_col5\" class=\"col_heading level0 col5\" >Kappa</th>\n",
       "      <th id=\"T_1ff2a_level0_col6\" class=\"col_heading level0 col6\" >MCC</th>\n",
       "    </tr>\n",
       "    <tr>\n",
       "      <th class=\"index_name level0\" >Fold</th>\n",
       "      <th class=\"blank col0\" >&nbsp;</th>\n",
       "      <th class=\"blank col1\" >&nbsp;</th>\n",
       "      <th class=\"blank col2\" >&nbsp;</th>\n",
       "      <th class=\"blank col3\" >&nbsp;</th>\n",
       "      <th class=\"blank col4\" >&nbsp;</th>\n",
       "      <th class=\"blank col5\" >&nbsp;</th>\n",
       "      <th class=\"blank col6\" >&nbsp;</th>\n",
       "    </tr>\n",
       "  </thead>\n",
       "  <tbody>\n",
       "    <tr>\n",
       "      <th id=\"T_1ff2a_level0_row0\" class=\"row_heading level0 row0\" >0</th>\n",
       "      <td id=\"T_1ff2a_row0_col0\" class=\"data row0 col0\" >0.8889</td>\n",
       "      <td id=\"T_1ff2a_row0_col1\" class=\"data row0 col1\" >0.9188</td>\n",
       "      <td id=\"T_1ff2a_row0_col2\" class=\"data row0 col2\" >0.9545</td>\n",
       "      <td id=\"T_1ff2a_row0_col3\" class=\"data row0 col3\" >0.8750</td>\n",
       "      <td id=\"T_1ff2a_row0_col4\" class=\"data row0 col4\" >0.9130</td>\n",
       "      <td id=\"T_1ff2a_row0_col5\" class=\"data row0 col5\" >0.7600</td>\n",
       "      <td id=\"T_1ff2a_row0_col6\" class=\"data row0 col6\" >0.7655</td>\n",
       "    </tr>\n",
       "    <tr>\n",
       "      <th id=\"T_1ff2a_level0_row1\" class=\"row_heading level0 row1\" >1</th>\n",
       "      <td id=\"T_1ff2a_row1_col0\" class=\"data row1 col0\" >0.9722</td>\n",
       "      <td id=\"T_1ff2a_row1_col1\" class=\"data row1 col1\" >0.9903</td>\n",
       "      <td id=\"T_1ff2a_row1_col2\" class=\"data row1 col2\" >0.9545</td>\n",
       "      <td id=\"T_1ff2a_row1_col3\" class=\"data row1 col3\" >1.0000</td>\n",
       "      <td id=\"T_1ff2a_row1_col4\" class=\"data row1 col4\" >0.9767</td>\n",
       "      <td id=\"T_1ff2a_row1_col5\" class=\"data row1 col5\" >0.9423</td>\n",
       "      <td id=\"T_1ff2a_row1_col6\" class=\"data row1 col6\" >0.9439</td>\n",
       "    </tr>\n",
       "    <tr>\n",
       "      <th id=\"T_1ff2a_level0_row2\" class=\"row_heading level0 row2\" >2</th>\n",
       "      <td id=\"T_1ff2a_row2_col0\" class=\"data row2 col0\" >0.9722</td>\n",
       "      <td id=\"T_1ff2a_row2_col1\" class=\"data row2 col1\" >1.0000</td>\n",
       "      <td id=\"T_1ff2a_row2_col2\" class=\"data row2 col2\" >1.0000</td>\n",
       "      <td id=\"T_1ff2a_row2_col3\" class=\"data row2 col3\" >0.9565</td>\n",
       "      <td id=\"T_1ff2a_row2_col4\" class=\"data row2 col4\" >0.9778</td>\n",
       "      <td id=\"T_1ff2a_row2_col5\" class=\"data row2 col5\" >0.9408</td>\n",
       "      <td id=\"T_1ff2a_row2_col6\" class=\"data row2 col6\" >0.9424</td>\n",
       "    </tr>\n",
       "    <tr>\n",
       "      <th id=\"T_1ff2a_level0_row3\" class=\"row_heading level0 row3\" >3</th>\n",
       "      <td id=\"T_1ff2a_row3_col0\" class=\"data row3 col0\" >0.9444</td>\n",
       "      <td id=\"T_1ff2a_row3_col1\" class=\"data row3 col1\" >1.0000</td>\n",
       "      <td id=\"T_1ff2a_row3_col2\" class=\"data row3 col2\" >0.9091</td>\n",
       "      <td id=\"T_1ff2a_row3_col3\" class=\"data row3 col3\" >1.0000</td>\n",
       "      <td id=\"T_1ff2a_row3_col4\" class=\"data row3 col4\" >0.9524</td>\n",
       "      <td id=\"T_1ff2a_row3_col5\" class=\"data row3 col5\" >0.8861</td>\n",
       "      <td id=\"T_1ff2a_row3_col6\" class=\"data row3 col6\" >0.8919</td>\n",
       "    </tr>\n",
       "    <tr>\n",
       "      <th id=\"T_1ff2a_level0_row4\" class=\"row_heading level0 row4\" >4</th>\n",
       "      <td id=\"T_1ff2a_row4_col0\" class=\"data row4 col0\" >0.9722</td>\n",
       "      <td id=\"T_1ff2a_row4_col1\" class=\"data row4 col1\" >1.0000</td>\n",
       "      <td id=\"T_1ff2a_row4_col2\" class=\"data row4 col2\" >1.0000</td>\n",
       "      <td id=\"T_1ff2a_row4_col3\" class=\"data row4 col3\" >0.9565</td>\n",
       "      <td id=\"T_1ff2a_row4_col4\" class=\"data row4 col4\" >0.9778</td>\n",
       "      <td id=\"T_1ff2a_row4_col5\" class=\"data row4 col5\" >0.9408</td>\n",
       "      <td id=\"T_1ff2a_row4_col6\" class=\"data row4 col6\" >0.9424</td>\n",
       "    </tr>\n",
       "    <tr>\n",
       "      <th id=\"T_1ff2a_level0_row5\" class=\"row_heading level0 row5\" >5</th>\n",
       "      <td id=\"T_1ff2a_row5_col0\" class=\"data row5 col0\" >0.9722</td>\n",
       "      <td id=\"T_1ff2a_row5_col1\" class=\"data row5 col1\" >0.9919</td>\n",
       "      <td id=\"T_1ff2a_row5_col2\" class=\"data row5 col2\" >0.9545</td>\n",
       "      <td id=\"T_1ff2a_row5_col3\" class=\"data row5 col3\" >1.0000</td>\n",
       "      <td id=\"T_1ff2a_row5_col4\" class=\"data row5 col4\" >0.9767</td>\n",
       "      <td id=\"T_1ff2a_row5_col5\" class=\"data row5 col5\" >0.9423</td>\n",
       "      <td id=\"T_1ff2a_row5_col6\" class=\"data row5 col6\" >0.9439</td>\n",
       "    </tr>\n",
       "    <tr>\n",
       "      <th id=\"T_1ff2a_level0_row6\" class=\"row_heading level0 row6\" >6</th>\n",
       "      <td id=\"T_1ff2a_row6_col0\" class=\"data row6 col0\" >0.9167</td>\n",
       "      <td id=\"T_1ff2a_row6_col1\" class=\"data row6 col1\" >0.9900</td>\n",
       "      <td id=\"T_1ff2a_row6_col2\" class=\"data row6 col2\" >0.9565</td>\n",
       "      <td id=\"T_1ff2a_row6_col3\" class=\"data row6 col3\" >0.9167</td>\n",
       "      <td id=\"T_1ff2a_row6_col4\" class=\"data row6 col4\" >0.9362</td>\n",
       "      <td id=\"T_1ff2a_row6_col5\" class=\"data row6 col5\" >0.8163</td>\n",
       "      <td id=\"T_1ff2a_row6_col6\" class=\"data row6 col6\" >0.8179</td>\n",
       "    </tr>\n",
       "    <tr>\n",
       "      <th id=\"T_1ff2a_level0_row7\" class=\"row_heading level0 row7\" >7</th>\n",
       "      <td id=\"T_1ff2a_row7_col0\" class=\"data row7 col0\" >1.0000</td>\n",
       "      <td id=\"T_1ff2a_row7_col1\" class=\"data row7 col1\" >1.0000</td>\n",
       "      <td id=\"T_1ff2a_row7_col2\" class=\"data row7 col2\" >1.0000</td>\n",
       "      <td id=\"T_1ff2a_row7_col3\" class=\"data row7 col3\" >1.0000</td>\n",
       "      <td id=\"T_1ff2a_row7_col4\" class=\"data row7 col4\" >1.0000</td>\n",
       "      <td id=\"T_1ff2a_row7_col5\" class=\"data row7 col5\" >1.0000</td>\n",
       "      <td id=\"T_1ff2a_row7_col6\" class=\"data row7 col6\" >1.0000</td>\n",
       "    </tr>\n",
       "    <tr>\n",
       "      <th id=\"T_1ff2a_level0_row8\" class=\"row_heading level0 row8\" >8</th>\n",
       "      <td id=\"T_1ff2a_row8_col0\" class=\"data row8 col0\" >0.9429</td>\n",
       "      <td id=\"T_1ff2a_row8_col1\" class=\"data row8 col1\" >0.9755</td>\n",
       "      <td id=\"T_1ff2a_row8_col2\" class=\"data row8 col2\" >1.0000</td>\n",
       "      <td id=\"T_1ff2a_row8_col3\" class=\"data row8 col3\" >0.9167</td>\n",
       "      <td id=\"T_1ff2a_row8_col4\" class=\"data row8 col4\" >0.9565</td>\n",
       "      <td id=\"T_1ff2a_row8_col5\" class=\"data row8 col5\" >0.8736</td>\n",
       "      <td id=\"T_1ff2a_row8_col6\" class=\"data row8 col6\" >0.8807</td>\n",
       "    </tr>\n",
       "    <tr>\n",
       "      <th id=\"T_1ff2a_level0_row9\" class=\"row_heading level0 row9\" >9</th>\n",
       "      <td id=\"T_1ff2a_row9_col0\" class=\"data row9 col0\" >0.9714</td>\n",
       "      <td id=\"T_1ff2a_row9_col1\" class=\"data row9 col1\" >1.0000</td>\n",
       "      <td id=\"T_1ff2a_row9_col2\" class=\"data row9 col2\" >1.0000</td>\n",
       "      <td id=\"T_1ff2a_row9_col3\" class=\"data row9 col3\" >0.9565</td>\n",
       "      <td id=\"T_1ff2a_row9_col4\" class=\"data row9 col4\" >0.9778</td>\n",
       "      <td id=\"T_1ff2a_row9_col5\" class=\"data row9 col5\" >0.9378</td>\n",
       "      <td id=\"T_1ff2a_row9_col6\" class=\"data row9 col6\" >0.9397</td>\n",
       "    </tr>\n",
       "    <tr>\n",
       "      <th id=\"T_1ff2a_level0_row10\" class=\"row_heading level0 row10\" >Mean</th>\n",
       "      <td id=\"T_1ff2a_row10_col0\" class=\"data row10 col0\" >0.9553</td>\n",
       "      <td id=\"T_1ff2a_row10_col1\" class=\"data row10 col1\" >0.9866</td>\n",
       "      <td id=\"T_1ff2a_row10_col2\" class=\"data row10 col2\" >0.9729</td>\n",
       "      <td id=\"T_1ff2a_row10_col3\" class=\"data row10 col3\" >0.9578</td>\n",
       "      <td id=\"T_1ff2a_row10_col4\" class=\"data row10 col4\" >0.9645</td>\n",
       "      <td id=\"T_1ff2a_row10_col5\" class=\"data row10 col5\" >0.9040</td>\n",
       "      <td id=\"T_1ff2a_row10_col6\" class=\"data row10 col6\" >0.9068</td>\n",
       "    </tr>\n",
       "    <tr>\n",
       "      <th id=\"T_1ff2a_level0_row11\" class=\"row_heading level0 row11\" >Std</th>\n",
       "      <td id=\"T_1ff2a_row11_col0\" class=\"data row11 col0\" >0.0310</td>\n",
       "      <td id=\"T_1ff2a_row11_col1\" class=\"data row11 col1\" >0.0238</td>\n",
       "      <td id=\"T_1ff2a_row11_col2\" class=\"data row11 col2\" >0.0300</td>\n",
       "      <td id=\"T_1ff2a_row11_col3\" class=\"data row11 col3\" >0.0417</td>\n",
       "      <td id=\"T_1ff2a_row11_col4\" class=\"data row11 col4\" >0.0240</td>\n",
       "      <td id=\"T_1ff2a_row11_col5\" class=\"data row11 col5\" >0.0676</td>\n",
       "      <td id=\"T_1ff2a_row11_col6\" class=\"data row11 col6\" >0.0662</td>\n",
       "    </tr>\n",
       "  </tbody>\n",
       "</table>\n"
      ],
      "text/plain": [
       "<pandas.io.formats.style.Styler at 0x7f2d52b721f0>"
      ]
     },
     "metadata": {},
     "output_type": "display_data"
    },
    {
     "data": {
      "text/html": [],
      "text/plain": [
       "<IPython.core.display.HTML object>"
      ]
     },
     "metadata": {},
     "output_type": "display_data"
    }
   ],
   "source": [
    "rf = cla.create_model('rf')"
   ]
  },
  {
   "cell_type": "code",
   "execution_count": 13,
   "id": "e0cd6c13-f52f-42b6-b748-9a42a3a2bd00",
   "metadata": {},
   "outputs": [
    {
     "data": {
      "text/html": [],
      "text/plain": [
       "<IPython.core.display.HTML object>"
      ]
     },
     "metadata": {},
     "output_type": "display_data"
    },
    {
     "data": {
      "text/html": [
       "<style type=\"text/css\">\n",
       "#T_685ab_row10_col0, #T_685ab_row10_col1, #T_685ab_row10_col2, #T_685ab_row10_col3, #T_685ab_row10_col4, #T_685ab_row10_col5, #T_685ab_row10_col6 {\n",
       "  background: yellow;\n",
       "}\n",
       "</style>\n",
       "<table id=\"T_685ab\">\n",
       "  <thead>\n",
       "    <tr>\n",
       "      <th class=\"blank level0\" >&nbsp;</th>\n",
       "      <th id=\"T_685ab_level0_col0\" class=\"col_heading level0 col0\" >Accuracy</th>\n",
       "      <th id=\"T_685ab_level0_col1\" class=\"col_heading level0 col1\" >AUC</th>\n",
       "      <th id=\"T_685ab_level0_col2\" class=\"col_heading level0 col2\" >Recall</th>\n",
       "      <th id=\"T_685ab_level0_col3\" class=\"col_heading level0 col3\" >Prec.</th>\n",
       "      <th id=\"T_685ab_level0_col4\" class=\"col_heading level0 col4\" >F1</th>\n",
       "      <th id=\"T_685ab_level0_col5\" class=\"col_heading level0 col5\" >Kappa</th>\n",
       "      <th id=\"T_685ab_level0_col6\" class=\"col_heading level0 col6\" >MCC</th>\n",
       "    </tr>\n",
       "    <tr>\n",
       "      <th class=\"index_name level0\" >Fold</th>\n",
       "      <th class=\"blank col0\" >&nbsp;</th>\n",
       "      <th class=\"blank col1\" >&nbsp;</th>\n",
       "      <th class=\"blank col2\" >&nbsp;</th>\n",
       "      <th class=\"blank col3\" >&nbsp;</th>\n",
       "      <th class=\"blank col4\" >&nbsp;</th>\n",
       "      <th class=\"blank col5\" >&nbsp;</th>\n",
       "      <th class=\"blank col6\" >&nbsp;</th>\n",
       "    </tr>\n",
       "  </thead>\n",
       "  <tbody>\n",
       "    <tr>\n",
       "      <th id=\"T_685ab_level0_row0\" class=\"row_heading level0 row0\" >0</th>\n",
       "      <td id=\"T_685ab_row0_col0\" class=\"data row0 col0\" >0.9167</td>\n",
       "      <td id=\"T_685ab_row0_col1\" class=\"data row0 col1\" >0.9968</td>\n",
       "      <td id=\"T_685ab_row0_col2\" class=\"data row0 col2\" >1.0000</td>\n",
       "      <td id=\"T_685ab_row0_col3\" class=\"data row0 col3\" >0.8800</td>\n",
       "      <td id=\"T_685ab_row0_col4\" class=\"data row0 col4\" >0.9362</td>\n",
       "      <td id=\"T_685ab_row0_col5\" class=\"data row0 col5\" >0.8176</td>\n",
       "      <td id=\"T_685ab_row0_col6\" class=\"data row0 col6\" >0.8315</td>\n",
       "    </tr>\n",
       "    <tr>\n",
       "      <th id=\"T_685ab_level0_row1\" class=\"row_heading level0 row1\" >1</th>\n",
       "      <td id=\"T_685ab_row1_col0\" class=\"data row1 col0\" >0.8889</td>\n",
       "      <td id=\"T_685ab_row1_col1\" class=\"data row1 col1\" >0.9805</td>\n",
       "      <td id=\"T_685ab_row1_col2\" class=\"data row1 col2\" >0.9545</td>\n",
       "      <td id=\"T_685ab_row1_col3\" class=\"data row1 col3\" >0.8750</td>\n",
       "      <td id=\"T_685ab_row1_col4\" class=\"data row1 col4\" >0.9130</td>\n",
       "      <td id=\"T_685ab_row1_col5\" class=\"data row1 col5\" >0.7600</td>\n",
       "      <td id=\"T_685ab_row1_col6\" class=\"data row1 col6\" >0.7655</td>\n",
       "    </tr>\n",
       "    <tr>\n",
       "      <th id=\"T_685ab_level0_row2\" class=\"row_heading level0 row2\" >2</th>\n",
       "      <td id=\"T_685ab_row2_col0\" class=\"data row2 col0\" >1.0000</td>\n",
       "      <td id=\"T_685ab_row2_col1\" class=\"data row2 col1\" >1.0000</td>\n",
       "      <td id=\"T_685ab_row2_col2\" class=\"data row2 col2\" >1.0000</td>\n",
       "      <td id=\"T_685ab_row2_col3\" class=\"data row2 col3\" >1.0000</td>\n",
       "      <td id=\"T_685ab_row2_col4\" class=\"data row2 col4\" >1.0000</td>\n",
       "      <td id=\"T_685ab_row2_col5\" class=\"data row2 col5\" >1.0000</td>\n",
       "      <td id=\"T_685ab_row2_col6\" class=\"data row2 col6\" >1.0000</td>\n",
       "    </tr>\n",
       "    <tr>\n",
       "      <th id=\"T_685ab_level0_row3\" class=\"row_heading level0 row3\" >3</th>\n",
       "      <td id=\"T_685ab_row3_col0\" class=\"data row3 col0\" >0.9167</td>\n",
       "      <td id=\"T_685ab_row3_col1\" class=\"data row3 col1\" >0.9903</td>\n",
       "      <td id=\"T_685ab_row3_col2\" class=\"data row3 col2\" >0.9091</td>\n",
       "      <td id=\"T_685ab_row3_col3\" class=\"data row3 col3\" >0.9524</td>\n",
       "      <td id=\"T_685ab_row3_col4\" class=\"data row3 col4\" >0.9302</td>\n",
       "      <td id=\"T_685ab_row3_col5\" class=\"data row3 col5\" >0.8269</td>\n",
       "      <td id=\"T_685ab_row3_col6\" class=\"data row3 col6\" >0.8283</td>\n",
       "    </tr>\n",
       "    <tr>\n",
       "      <th id=\"T_685ab_level0_row4\" class=\"row_heading level0 row4\" >4</th>\n",
       "      <td id=\"T_685ab_row4_col0\" class=\"data row4 col0\" >1.0000</td>\n",
       "      <td id=\"T_685ab_row4_col1\" class=\"data row4 col1\" >1.0000</td>\n",
       "      <td id=\"T_685ab_row4_col2\" class=\"data row4 col2\" >1.0000</td>\n",
       "      <td id=\"T_685ab_row4_col3\" class=\"data row4 col3\" >1.0000</td>\n",
       "      <td id=\"T_685ab_row4_col4\" class=\"data row4 col4\" >1.0000</td>\n",
       "      <td id=\"T_685ab_row4_col5\" class=\"data row4 col5\" >1.0000</td>\n",
       "      <td id=\"T_685ab_row4_col6\" class=\"data row4 col6\" >1.0000</td>\n",
       "    </tr>\n",
       "    <tr>\n",
       "      <th id=\"T_685ab_level0_row5\" class=\"row_heading level0 row5\" >5</th>\n",
       "      <td id=\"T_685ab_row5_col0\" class=\"data row5 col0\" >0.9167</td>\n",
       "      <td id=\"T_685ab_row5_col1\" class=\"data row5 col1\" >0.9838</td>\n",
       "      <td id=\"T_685ab_row5_col2\" class=\"data row5 col2\" >0.8636</td>\n",
       "      <td id=\"T_685ab_row5_col3\" class=\"data row5 col3\" >1.0000</td>\n",
       "      <td id=\"T_685ab_row5_col4\" class=\"data row5 col4\" >0.9268</td>\n",
       "      <td id=\"T_685ab_row5_col5\" class=\"data row5 col5\" >0.8312</td>\n",
       "      <td id=\"T_685ab_row5_col6\" class=\"data row5 col6\" >0.8433</td>\n",
       "    </tr>\n",
       "    <tr>\n",
       "      <th id=\"T_685ab_level0_row6\" class=\"row_heading level0 row6\" >6</th>\n",
       "      <td id=\"T_685ab_row6_col0\" class=\"data row6 col0\" >0.9444</td>\n",
       "      <td id=\"T_685ab_row6_col1\" class=\"data row6 col1\" >0.9933</td>\n",
       "      <td id=\"T_685ab_row6_col2\" class=\"data row6 col2\" >1.0000</td>\n",
       "      <td id=\"T_685ab_row6_col3\" class=\"data row6 col3\" >0.9200</td>\n",
       "      <td id=\"T_685ab_row6_col4\" class=\"data row6 col4\" >0.9583</td>\n",
       "      <td id=\"T_685ab_row6_col5\" class=\"data row6 col5\" >0.8754</td>\n",
       "      <td id=\"T_685ab_row6_col6\" class=\"data row6 col6\" >0.8823</td>\n",
       "    </tr>\n",
       "    <tr>\n",
       "      <th id=\"T_685ab_level0_row7\" class=\"row_heading level0 row7\" >7</th>\n",
       "      <td id=\"T_685ab_row7_col0\" class=\"data row7 col0\" >0.9444</td>\n",
       "      <td id=\"T_685ab_row7_col1\" class=\"data row7 col1\" >0.9933</td>\n",
       "      <td id=\"T_685ab_row7_col2\" class=\"data row7 col2\" >1.0000</td>\n",
       "      <td id=\"T_685ab_row7_col3\" class=\"data row7 col3\" >0.9200</td>\n",
       "      <td id=\"T_685ab_row7_col4\" class=\"data row7 col4\" >0.9583</td>\n",
       "      <td id=\"T_685ab_row7_col5\" class=\"data row7 col5\" >0.8754</td>\n",
       "      <td id=\"T_685ab_row7_col6\" class=\"data row7 col6\" >0.8823</td>\n",
       "    </tr>\n",
       "    <tr>\n",
       "      <th id=\"T_685ab_level0_row8\" class=\"row_heading level0 row8\" >8</th>\n",
       "      <td id=\"T_685ab_row8_col0\" class=\"data row8 col0\" >0.9429</td>\n",
       "      <td id=\"T_685ab_row8_col1\" class=\"data row8 col1\" >0.9825</td>\n",
       "      <td id=\"T_685ab_row8_col2\" class=\"data row8 col2\" >0.9545</td>\n",
       "      <td id=\"T_685ab_row8_col3\" class=\"data row8 col3\" >0.9545</td>\n",
       "      <td id=\"T_685ab_row8_col4\" class=\"data row8 col4\" >0.9545</td>\n",
       "      <td id=\"T_685ab_row8_col5\" class=\"data row8 col5\" >0.8776</td>\n",
       "      <td id=\"T_685ab_row8_col6\" class=\"data row8 col6\" >0.8776</td>\n",
       "    </tr>\n",
       "    <tr>\n",
       "      <th id=\"T_685ab_level0_row9\" class=\"row_heading level0 row9\" >9</th>\n",
       "      <td id=\"T_685ab_row9_col0\" class=\"data row9 col0\" >0.8571</td>\n",
       "      <td id=\"T_685ab_row9_col1\" class=\"data row9 col1\" >0.9720</td>\n",
       "      <td id=\"T_685ab_row9_col2\" class=\"data row9 col2\" >0.9091</td>\n",
       "      <td id=\"T_685ab_row9_col3\" class=\"data row9 col3\" >0.8696</td>\n",
       "      <td id=\"T_685ab_row9_col4\" class=\"data row9 col4\" >0.8889</td>\n",
       "      <td id=\"T_685ab_row9_col5\" class=\"data row9 col5\" >0.6892</td>\n",
       "      <td id=\"T_685ab_row9_col6\" class=\"data row9 col6\" >0.6905</td>\n",
       "    </tr>\n",
       "    <tr>\n",
       "      <th id=\"T_685ab_level0_row10\" class=\"row_heading level0 row10\" >Mean</th>\n",
       "      <td id=\"T_685ab_row10_col0\" class=\"data row10 col0\" >0.9328</td>\n",
       "      <td id=\"T_685ab_row10_col1\" class=\"data row10 col1\" >0.9892</td>\n",
       "      <td id=\"T_685ab_row10_col2\" class=\"data row10 col2\" >0.9591</td>\n",
       "      <td id=\"T_685ab_row10_col3\" class=\"data row10 col3\" >0.9371</td>\n",
       "      <td id=\"T_685ab_row10_col4\" class=\"data row10 col4\" >0.9466</td>\n",
       "      <td id=\"T_685ab_row10_col5\" class=\"data row10 col5\" >0.8553</td>\n",
       "      <td id=\"T_685ab_row10_col6\" class=\"data row10 col6\" >0.8601</td>\n",
       "    </tr>\n",
       "    <tr>\n",
       "      <th id=\"T_685ab_level0_row11\" class=\"row_heading level0 row11\" >Std</th>\n",
       "      <td id=\"T_685ab_row11_col0\" class=\"data row11 col0\" >0.0422</td>\n",
       "      <td id=\"T_685ab_row11_col1\" class=\"data row11 col1\" >0.0088</td>\n",
       "      <td id=\"T_685ab_row11_col2\" class=\"data row11 col2\" >0.0475</td>\n",
       "      <td id=\"T_685ab_row11_col3\" class=\"data row11 col3\" >0.0497</td>\n",
       "      <td id=\"T_685ab_row11_col4\" class=\"data row11 col4\" >0.0336</td>\n",
       "      <td id=\"T_685ab_row11_col5\" class=\"data row11 col5\" >0.0909</td>\n",
       "      <td id=\"T_685ab_row11_col6\" class=\"data row11 col6\" >0.0896</td>\n",
       "    </tr>\n",
       "  </tbody>\n",
       "</table>\n"
      ],
      "text/plain": [
       "<pandas.io.formats.style.Styler at 0x7f2d54f09250>"
      ]
     },
     "metadata": {},
     "output_type": "display_data"
    },
    {
     "data": {
      "text/html": [],
      "text/plain": [
       "<IPython.core.display.HTML object>"
      ]
     },
     "metadata": {},
     "output_type": "display_data"
    }
   ],
   "source": [
    "lg = cla.create_model('lr')"
   ]
  },
  {
   "cell_type": "markdown",
   "id": "0d91ea58-f700-4880-828d-0686b76d0545",
   "metadata": {},
   "source": [
    "Now that we have one model we can tune the hyper paramters in one line of code. Lets do that for the decission tree"
   ]
  },
  {
   "cell_type": "code",
   "execution_count": 14,
   "id": "ed4bd605-c868-48dd-85c3-1549855ca831",
   "metadata": {},
   "outputs": [
    {
     "data": {
      "text/html": [],
      "text/plain": [
       "<IPython.core.display.HTML object>"
      ]
     },
     "metadata": {},
     "output_type": "display_data"
    },
    {
     "data": {
      "text/html": [
       "<style type=\"text/css\">\n",
       "#T_0f9e8_row10_col0, #T_0f9e8_row10_col1, #T_0f9e8_row10_col2, #T_0f9e8_row10_col3, #T_0f9e8_row10_col4, #T_0f9e8_row10_col5, #T_0f9e8_row10_col6 {\n",
       "  background: yellow;\n",
       "}\n",
       "</style>\n",
       "<table id=\"T_0f9e8\">\n",
       "  <thead>\n",
       "    <tr>\n",
       "      <th class=\"blank level0\" >&nbsp;</th>\n",
       "      <th id=\"T_0f9e8_level0_col0\" class=\"col_heading level0 col0\" >Accuracy</th>\n",
       "      <th id=\"T_0f9e8_level0_col1\" class=\"col_heading level0 col1\" >AUC</th>\n",
       "      <th id=\"T_0f9e8_level0_col2\" class=\"col_heading level0 col2\" >Recall</th>\n",
       "      <th id=\"T_0f9e8_level0_col3\" class=\"col_heading level0 col3\" >Prec.</th>\n",
       "      <th id=\"T_0f9e8_level0_col4\" class=\"col_heading level0 col4\" >F1</th>\n",
       "      <th id=\"T_0f9e8_level0_col5\" class=\"col_heading level0 col5\" >Kappa</th>\n",
       "      <th id=\"T_0f9e8_level0_col6\" class=\"col_heading level0 col6\" >MCC</th>\n",
       "    </tr>\n",
       "    <tr>\n",
       "      <th class=\"index_name level0\" >Fold</th>\n",
       "      <th class=\"blank col0\" >&nbsp;</th>\n",
       "      <th class=\"blank col1\" >&nbsp;</th>\n",
       "      <th class=\"blank col2\" >&nbsp;</th>\n",
       "      <th class=\"blank col3\" >&nbsp;</th>\n",
       "      <th class=\"blank col4\" >&nbsp;</th>\n",
       "      <th class=\"blank col5\" >&nbsp;</th>\n",
       "      <th class=\"blank col6\" >&nbsp;</th>\n",
       "    </tr>\n",
       "  </thead>\n",
       "  <tbody>\n",
       "    <tr>\n",
       "      <th id=\"T_0f9e8_level0_row0\" class=\"row_heading level0 row0\" >0</th>\n",
       "      <td id=\"T_0f9e8_row0_col0\" class=\"data row0 col0\" >0.9167</td>\n",
       "      <td id=\"T_0f9e8_row0_col1\" class=\"data row0 col1\" >0.9286</td>\n",
       "      <td id=\"T_0f9e8_row0_col2\" class=\"data row0 col2\" >0.9545</td>\n",
       "      <td id=\"T_0f9e8_row0_col3\" class=\"data row0 col3\" >0.9130</td>\n",
       "      <td id=\"T_0f9e8_row0_col4\" class=\"data row0 col4\" >0.9333</td>\n",
       "      <td id=\"T_0f9e8_row0_col5\" class=\"data row0 col5\" >0.8224</td>\n",
       "      <td id=\"T_0f9e8_row0_col6\" class=\"data row0 col6\" >0.8238</td>\n",
       "    </tr>\n",
       "    <tr>\n",
       "      <th id=\"T_0f9e8_level0_row1\" class=\"row_heading level0 row1\" >1</th>\n",
       "      <td id=\"T_0f9e8_row1_col0\" class=\"data row1 col0\" >0.9722</td>\n",
       "      <td id=\"T_0f9e8_row1_col1\" class=\"data row1 col1\" >0.9935</td>\n",
       "      <td id=\"T_0f9e8_row1_col2\" class=\"data row1 col2\" >0.9545</td>\n",
       "      <td id=\"T_0f9e8_row1_col3\" class=\"data row1 col3\" >1.0000</td>\n",
       "      <td id=\"T_0f9e8_row1_col4\" class=\"data row1 col4\" >0.9767</td>\n",
       "      <td id=\"T_0f9e8_row1_col5\" class=\"data row1 col5\" >0.9423</td>\n",
       "      <td id=\"T_0f9e8_row1_col6\" class=\"data row1 col6\" >0.9439</td>\n",
       "    </tr>\n",
       "    <tr>\n",
       "      <th id=\"T_0f9e8_level0_row2\" class=\"row_heading level0 row2\" >2</th>\n",
       "      <td id=\"T_0f9e8_row2_col0\" class=\"data row2 col0\" >1.0000</td>\n",
       "      <td id=\"T_0f9e8_row2_col1\" class=\"data row2 col1\" >1.0000</td>\n",
       "      <td id=\"T_0f9e8_row2_col2\" class=\"data row2 col2\" >1.0000</td>\n",
       "      <td id=\"T_0f9e8_row2_col3\" class=\"data row2 col3\" >1.0000</td>\n",
       "      <td id=\"T_0f9e8_row2_col4\" class=\"data row2 col4\" >1.0000</td>\n",
       "      <td id=\"T_0f9e8_row2_col5\" class=\"data row2 col5\" >1.0000</td>\n",
       "      <td id=\"T_0f9e8_row2_col6\" class=\"data row2 col6\" >1.0000</td>\n",
       "    </tr>\n",
       "    <tr>\n",
       "      <th id=\"T_0f9e8_level0_row3\" class=\"row_heading level0 row3\" >3</th>\n",
       "      <td id=\"T_0f9e8_row3_col0\" class=\"data row3 col0\" >0.9167</td>\n",
       "      <td id=\"T_0f9e8_row3_col1\" class=\"data row3 col1\" >0.9968</td>\n",
       "      <td id=\"T_0f9e8_row3_col2\" class=\"data row3 col2\" >0.8636</td>\n",
       "      <td id=\"T_0f9e8_row3_col3\" class=\"data row3 col3\" >1.0000</td>\n",
       "      <td id=\"T_0f9e8_row3_col4\" class=\"data row3 col4\" >0.9268</td>\n",
       "      <td id=\"T_0f9e8_row3_col5\" class=\"data row3 col5\" >0.8312</td>\n",
       "      <td id=\"T_0f9e8_row3_col6\" class=\"data row3 col6\" >0.8433</td>\n",
       "    </tr>\n",
       "    <tr>\n",
       "      <th id=\"T_0f9e8_level0_row4\" class=\"row_heading level0 row4\" >4</th>\n",
       "      <td id=\"T_0f9e8_row4_col0\" class=\"data row4 col0\" >0.9722</td>\n",
       "      <td id=\"T_0f9e8_row4_col1\" class=\"data row4 col1\" >1.0000</td>\n",
       "      <td id=\"T_0f9e8_row4_col2\" class=\"data row4 col2\" >1.0000</td>\n",
       "      <td id=\"T_0f9e8_row4_col3\" class=\"data row4 col3\" >0.9565</td>\n",
       "      <td id=\"T_0f9e8_row4_col4\" class=\"data row4 col4\" >0.9778</td>\n",
       "      <td id=\"T_0f9e8_row4_col5\" class=\"data row4 col5\" >0.9408</td>\n",
       "      <td id=\"T_0f9e8_row4_col6\" class=\"data row4 col6\" >0.9424</td>\n",
       "    </tr>\n",
       "    <tr>\n",
       "      <th id=\"T_0f9e8_level0_row5\" class=\"row_heading level0 row5\" >5</th>\n",
       "      <td id=\"T_0f9e8_row5_col0\" class=\"data row5 col0\" >0.9722</td>\n",
       "      <td id=\"T_0f9e8_row5_col1\" class=\"data row5 col1\" >0.9935</td>\n",
       "      <td id=\"T_0f9e8_row5_col2\" class=\"data row5 col2\" >0.9545</td>\n",
       "      <td id=\"T_0f9e8_row5_col3\" class=\"data row5 col3\" >1.0000</td>\n",
       "      <td id=\"T_0f9e8_row5_col4\" class=\"data row5 col4\" >0.9767</td>\n",
       "      <td id=\"T_0f9e8_row5_col5\" class=\"data row5 col5\" >0.9423</td>\n",
       "      <td id=\"T_0f9e8_row5_col6\" class=\"data row5 col6\" >0.9439</td>\n",
       "    </tr>\n",
       "    <tr>\n",
       "      <th id=\"T_0f9e8_level0_row6\" class=\"row_heading level0 row6\" >6</th>\n",
       "      <td id=\"T_0f9e8_row6_col0\" class=\"data row6 col0\" >0.9722</td>\n",
       "      <td id=\"T_0f9e8_row6_col1\" class=\"data row6 col1\" >0.9900</td>\n",
       "      <td id=\"T_0f9e8_row6_col2\" class=\"data row6 col2\" >1.0000</td>\n",
       "      <td id=\"T_0f9e8_row6_col3\" class=\"data row6 col3\" >0.9583</td>\n",
       "      <td id=\"T_0f9e8_row6_col4\" class=\"data row6 col4\" >0.9787</td>\n",
       "      <td id=\"T_0f9e8_row6_col5\" class=\"data row6 col5\" >0.9388</td>\n",
       "      <td id=\"T_0f9e8_row6_col6\" class=\"data row6 col6\" >0.9405</td>\n",
       "    </tr>\n",
       "    <tr>\n",
       "      <th id=\"T_0f9e8_level0_row7\" class=\"row_heading level0 row7\" >7</th>\n",
       "      <td id=\"T_0f9e8_row7_col0\" class=\"data row7 col0\" >1.0000</td>\n",
       "      <td id=\"T_0f9e8_row7_col1\" class=\"data row7 col1\" >1.0000</td>\n",
       "      <td id=\"T_0f9e8_row7_col2\" class=\"data row7 col2\" >1.0000</td>\n",
       "      <td id=\"T_0f9e8_row7_col3\" class=\"data row7 col3\" >1.0000</td>\n",
       "      <td id=\"T_0f9e8_row7_col4\" class=\"data row7 col4\" >1.0000</td>\n",
       "      <td id=\"T_0f9e8_row7_col5\" class=\"data row7 col5\" >1.0000</td>\n",
       "      <td id=\"T_0f9e8_row7_col6\" class=\"data row7 col6\" >1.0000</td>\n",
       "    </tr>\n",
       "    <tr>\n",
       "      <th id=\"T_0f9e8_level0_row8\" class=\"row_heading level0 row8\" >8</th>\n",
       "      <td id=\"T_0f9e8_row8_col0\" class=\"data row8 col0\" >0.9429</td>\n",
       "      <td id=\"T_0f9e8_row8_col1\" class=\"data row8 col1\" >0.9860</td>\n",
       "      <td id=\"T_0f9e8_row8_col2\" class=\"data row8 col2\" >1.0000</td>\n",
       "      <td id=\"T_0f9e8_row8_col3\" class=\"data row8 col3\" >0.9167</td>\n",
       "      <td id=\"T_0f9e8_row8_col4\" class=\"data row8 col4\" >0.9565</td>\n",
       "      <td id=\"T_0f9e8_row8_col5\" class=\"data row8 col5\" >0.8736</td>\n",
       "      <td id=\"T_0f9e8_row8_col6\" class=\"data row8 col6\" >0.8807</td>\n",
       "    </tr>\n",
       "    <tr>\n",
       "      <th id=\"T_0f9e8_level0_row9\" class=\"row_heading level0 row9\" >9</th>\n",
       "      <td id=\"T_0f9e8_row9_col0\" class=\"data row9 col0\" >0.9143</td>\n",
       "      <td id=\"T_0f9e8_row9_col1\" class=\"data row9 col1\" >0.9720</td>\n",
       "      <td id=\"T_0f9e8_row9_col2\" class=\"data row9 col2\" >0.9091</td>\n",
       "      <td id=\"T_0f9e8_row9_col3\" class=\"data row9 col3\" >0.9524</td>\n",
       "      <td id=\"T_0f9e8_row9_col4\" class=\"data row9 col4\" >0.9302</td>\n",
       "      <td id=\"T_0f9e8_row9_col5\" class=\"data row9 col5\" >0.8193</td>\n",
       "      <td id=\"T_0f9e8_row9_col6\" class=\"data row9 col6\" >0.8208</td>\n",
       "    </tr>\n",
       "    <tr>\n",
       "      <th id=\"T_0f9e8_level0_row10\" class=\"row_heading level0 row10\" >Mean</th>\n",
       "      <td id=\"T_0f9e8_row10_col0\" class=\"data row10 col0\" >0.9579</td>\n",
       "      <td id=\"T_0f9e8_row10_col1\" class=\"data row10 col1\" >0.9860</td>\n",
       "      <td id=\"T_0f9e8_row10_col2\" class=\"data row10 col2\" >0.9636</td>\n",
       "      <td id=\"T_0f9e8_row10_col3\" class=\"data row10 col3\" >0.9697</td>\n",
       "      <td id=\"T_0f9e8_row10_col4\" class=\"data row10 col4\" >0.9657</td>\n",
       "      <td id=\"T_0f9e8_row10_col5\" class=\"data row10 col5\" >0.9111</td>\n",
       "      <td id=\"T_0f9e8_row10_col6\" class=\"data row10 col6\" >0.9139</td>\n",
       "    </tr>\n",
       "    <tr>\n",
       "      <th id=\"T_0f9e8_level0_row11\" class=\"row_heading level0 row11\" >Std</th>\n",
       "      <td id=\"T_0f9e8_row11_col0\" class=\"data row11 col0\" >0.0315</td>\n",
       "      <td id=\"T_0f9e8_row11_col1\" class=\"data row11 col1\" >0.0208</td>\n",
       "      <td id=\"T_0f9e8_row11_col2\" class=\"data row11 col2\" >0.0445</td>\n",
       "      <td id=\"T_0f9e8_row11_col3\" class=\"data row11 col3\" >0.0335</td>\n",
       "      <td id=\"T_0f9e8_row11_col4\" class=\"data row11 col4\" >0.0261</td>\n",
       "      <td id=\"T_0f9e8_row11_col5\" class=\"data row11 col5\" >0.0659</td>\n",
       "      <td id=\"T_0f9e8_row11_col6\" class=\"data row11 col6\" >0.0640</td>\n",
       "    </tr>\n",
       "  </tbody>\n",
       "</table>\n"
      ],
      "text/plain": [
       "<pandas.io.formats.style.Styler at 0x7f2d52b72700>"
      ]
     },
     "metadata": {},
     "output_type": "display_data"
    },
    {
     "data": {
      "text/html": [],
      "text/plain": [
       "<IPython.core.display.HTML object>"
      ]
     },
     "metadata": {},
     "output_type": "display_data"
    },
    {
     "name": "stdout",
     "output_type": "stream",
     "text": [
      "Fitting 10 folds for each of 10 candidates, totalling 100 fits\n"
     ]
    }
   ],
   "source": [
    "tuned_rf = cla.tune_model(rf)"
   ]
  },
  {
   "cell_type": "markdown",
   "id": "f07d8e4b-95b9-4a2e-85e6-2255abb8eb93",
   "metadata": {},
   "source": [
    "Note the accuracy of this RF 95.79% where as using defult paramters it was 95.5%. We can view the parameters using the print function"
   ]
  },
  {
   "cell_type": "code",
   "execution_count": 15,
   "id": "a15a6d41-6099-4ea0-b43a-fd6c57e5907f",
   "metadata": {},
   "outputs": [
    {
     "name": "stdout",
     "output_type": "stream",
     "text": [
      "RandomForestClassifier(bootstrap=False, ccp_alpha=0.0,\n",
      "                       class_weight='balanced_subsample', criterion='gini',\n",
      "                       max_depth=4, max_features='sqrt', max_leaf_nodes=None,\n",
      "                       max_samples=None, min_impurity_decrease=0.0005,\n",
      "                       min_samples_leaf=3, min_samples_split=5,\n",
      "                       min_weight_fraction_leaf=0.0, n_estimators=260,\n",
      "                       n_jobs=-1, oob_score=False, random_state=123, verbose=0,\n",
      "                       warm_start=False)\n"
     ]
    }
   ],
   "source": [
    "print(tuned_rf)"
   ]
  },
  {
   "cell_type": "code",
   "execution_count": 16,
   "id": "fb4d8e0d-8b1f-468d-b59d-bd8842f3757f",
   "metadata": {},
   "outputs": [
    {
     "name": "stdout",
     "output_type": "stream",
     "text": [
      "RandomForestClassifier(bootstrap=True, ccp_alpha=0.0, class_weight=None,\n",
      "                       criterion='gini', max_depth=None, max_features='sqrt',\n",
      "                       max_leaf_nodes=None, max_samples=None,\n",
      "                       min_impurity_decrease=0.0, min_samples_leaf=1,\n",
      "                       min_samples_split=2, min_weight_fraction_leaf=0.0,\n",
      "                       n_estimators=100, n_jobs=-1, oob_score=False,\n",
      "                       random_state=123, verbose=0, warm_start=False)\n"
     ]
    }
   ],
   "source": [
    "print(rf)"
   ]
  },
  {
   "cell_type": "markdown",
   "id": "33f30055-7d32-49e5-9740-b259f53e04b3",
   "metadata": {},
   "source": [
    "We notice the difference in the min_samples leaf parameter for example"
   ]
  },
  {
   "cell_type": "markdown",
   "id": "54bbaa91-9c98-43aa-80e7-7e0b5a4b6394",
   "metadata": {},
   "source": [
    "We can also specify the metric we want to optimise using the optimise hyper paramter. For example if we wanted to optimise AUC, lets look below"
   ]
  },
  {
   "cell_type": "code",
   "execution_count": 17,
   "id": "8d13dc9f-af40-48e9-95dc-1fdf8c6c1b08",
   "metadata": {},
   "outputs": [
    {
     "data": {
      "text/html": [],
      "text/plain": [
       "<IPython.core.display.HTML object>"
      ]
     },
     "metadata": {},
     "output_type": "display_data"
    },
    {
     "data": {
      "text/html": [
       "<style type=\"text/css\">\n",
       "#T_a3dd9_row10_col0, #T_a3dd9_row10_col1, #T_a3dd9_row10_col2, #T_a3dd9_row10_col3, #T_a3dd9_row10_col4, #T_a3dd9_row10_col5, #T_a3dd9_row10_col6 {\n",
       "  background: yellow;\n",
       "}\n",
       "</style>\n",
       "<table id=\"T_a3dd9\">\n",
       "  <thead>\n",
       "    <tr>\n",
       "      <th class=\"blank level0\" >&nbsp;</th>\n",
       "      <th id=\"T_a3dd9_level0_col0\" class=\"col_heading level0 col0\" >Accuracy</th>\n",
       "      <th id=\"T_a3dd9_level0_col1\" class=\"col_heading level0 col1\" >AUC</th>\n",
       "      <th id=\"T_a3dd9_level0_col2\" class=\"col_heading level0 col2\" >Recall</th>\n",
       "      <th id=\"T_a3dd9_level0_col3\" class=\"col_heading level0 col3\" >Prec.</th>\n",
       "      <th id=\"T_a3dd9_level0_col4\" class=\"col_heading level0 col4\" >F1</th>\n",
       "      <th id=\"T_a3dd9_level0_col5\" class=\"col_heading level0 col5\" >Kappa</th>\n",
       "      <th id=\"T_a3dd9_level0_col6\" class=\"col_heading level0 col6\" >MCC</th>\n",
       "    </tr>\n",
       "    <tr>\n",
       "      <th class=\"index_name level0\" >Fold</th>\n",
       "      <th class=\"blank col0\" >&nbsp;</th>\n",
       "      <th class=\"blank col1\" >&nbsp;</th>\n",
       "      <th class=\"blank col2\" >&nbsp;</th>\n",
       "      <th class=\"blank col3\" >&nbsp;</th>\n",
       "      <th class=\"blank col4\" >&nbsp;</th>\n",
       "      <th class=\"blank col5\" >&nbsp;</th>\n",
       "      <th class=\"blank col6\" >&nbsp;</th>\n",
       "    </tr>\n",
       "  </thead>\n",
       "  <tbody>\n",
       "    <tr>\n",
       "      <th id=\"T_a3dd9_level0_row0\" class=\"row_heading level0 row0\" >0</th>\n",
       "      <td id=\"T_a3dd9_row0_col0\" class=\"data row0 col0\" >0.8056</td>\n",
       "      <td id=\"T_a3dd9_row0_col1\" class=\"data row0 col1\" >0.8766</td>\n",
       "      <td id=\"T_a3dd9_row0_col2\" class=\"data row0 col2\" >0.8636</td>\n",
       "      <td id=\"T_a3dd9_row0_col3\" class=\"data row0 col3\" >0.8261</td>\n",
       "      <td id=\"T_a3dd9_row0_col4\" class=\"data row0 col4\" >0.8444</td>\n",
       "      <td id=\"T_a3dd9_row0_col5\" class=\"data row0 col5\" >0.5855</td>\n",
       "      <td id=\"T_a3dd9_row0_col6\" class=\"data row0 col6\" >0.5866</td>\n",
       "    </tr>\n",
       "    <tr>\n",
       "      <th id=\"T_a3dd9_level0_row1\" class=\"row_heading level0 row1\" >1</th>\n",
       "      <td id=\"T_a3dd9_row1_col0\" class=\"data row1 col0\" >0.8889</td>\n",
       "      <td id=\"T_a3dd9_row1_col1\" class=\"data row1 col1\" >1.0000</td>\n",
       "      <td id=\"T_a3dd9_row1_col2\" class=\"data row1 col2\" >0.8182</td>\n",
       "      <td id=\"T_a3dd9_row1_col3\" class=\"data row1 col3\" >1.0000</td>\n",
       "      <td id=\"T_a3dd9_row1_col4\" class=\"data row1 col4\" >0.9000</td>\n",
       "      <td id=\"T_a3dd9_row1_col5\" class=\"data row1 col5\" >0.7778</td>\n",
       "      <td id=\"T_a3dd9_row1_col6\" class=\"data row1 col6\" >0.7977</td>\n",
       "    </tr>\n",
       "    <tr>\n",
       "      <th id=\"T_a3dd9_level0_row2\" class=\"row_heading level0 row2\" >2</th>\n",
       "      <td id=\"T_a3dd9_row2_col0\" class=\"data row2 col0\" >0.9722</td>\n",
       "      <td id=\"T_a3dd9_row2_col1\" class=\"data row2 col1\" >1.0000</td>\n",
       "      <td id=\"T_a3dd9_row2_col2\" class=\"data row2 col2\" >0.9545</td>\n",
       "      <td id=\"T_a3dd9_row2_col3\" class=\"data row2 col3\" >1.0000</td>\n",
       "      <td id=\"T_a3dd9_row2_col4\" class=\"data row2 col4\" >0.9767</td>\n",
       "      <td id=\"T_a3dd9_row2_col5\" class=\"data row2 col5\" >0.9423</td>\n",
       "      <td id=\"T_a3dd9_row2_col6\" class=\"data row2 col6\" >0.9439</td>\n",
       "    </tr>\n",
       "    <tr>\n",
       "      <th id=\"T_a3dd9_level0_row3\" class=\"row_heading level0 row3\" >3</th>\n",
       "      <td id=\"T_a3dd9_row3_col0\" class=\"data row3 col0\" >0.8611</td>\n",
       "      <td id=\"T_a3dd9_row3_col1\" class=\"data row3 col1\" >0.9692</td>\n",
       "      <td id=\"T_a3dd9_row3_col2\" class=\"data row3 col2\" >0.8636</td>\n",
       "      <td id=\"T_a3dd9_row3_col3\" class=\"data row3 col3\" >0.9048</td>\n",
       "      <td id=\"T_a3dd9_row3_col4\" class=\"data row3 col4\" >0.8837</td>\n",
       "      <td id=\"T_a3dd9_row3_col5\" class=\"data row3 col5\" >0.7115</td>\n",
       "      <td id=\"T_a3dd9_row3_col6\" class=\"data row3 col6\" >0.7127</td>\n",
       "    </tr>\n",
       "    <tr>\n",
       "      <th id=\"T_a3dd9_level0_row4\" class=\"row_heading level0 row4\" >4</th>\n",
       "      <td id=\"T_a3dd9_row4_col0\" class=\"data row4 col0\" >0.8611</td>\n",
       "      <td id=\"T_a3dd9_row4_col1\" class=\"data row4 col1\" >0.8831</td>\n",
       "      <td id=\"T_a3dd9_row4_col2\" class=\"data row4 col2\" >0.9091</td>\n",
       "      <td id=\"T_a3dd9_row4_col3\" class=\"data row4 col3\" >0.8696</td>\n",
       "      <td id=\"T_a3dd9_row4_col4\" class=\"data row4 col4\" >0.8889</td>\n",
       "      <td id=\"T_a3dd9_row4_col5\" class=\"data row4 col5\" >0.7039</td>\n",
       "      <td id=\"T_a3dd9_row4_col6\" class=\"data row4 col6\" >0.7052</td>\n",
       "    </tr>\n",
       "    <tr>\n",
       "      <th id=\"T_a3dd9_level0_row5\" class=\"row_heading level0 row5\" >5</th>\n",
       "      <td id=\"T_a3dd9_row5_col0\" class=\"data row5 col0\" >0.9167</td>\n",
       "      <td id=\"T_a3dd9_row5_col1\" class=\"data row5 col1\" >0.9708</td>\n",
       "      <td id=\"T_a3dd9_row5_col2\" class=\"data row5 col2\" >0.9091</td>\n",
       "      <td id=\"T_a3dd9_row5_col3\" class=\"data row5 col3\" >0.9524</td>\n",
       "      <td id=\"T_a3dd9_row5_col4\" class=\"data row5 col4\" >0.9302</td>\n",
       "      <td id=\"T_a3dd9_row5_col5\" class=\"data row5 col5\" >0.8269</td>\n",
       "      <td id=\"T_a3dd9_row5_col6\" class=\"data row5 col6\" >0.8283</td>\n",
       "    </tr>\n",
       "    <tr>\n",
       "      <th id=\"T_a3dd9_level0_row6\" class=\"row_heading level0 row6\" >6</th>\n",
       "      <td id=\"T_a3dd9_row6_col0\" class=\"data row6 col0\" >0.8611</td>\n",
       "      <td id=\"T_a3dd9_row6_col1\" class=\"data row6 col1\" >0.9097</td>\n",
       "      <td id=\"T_a3dd9_row6_col2\" class=\"data row6 col2\" >0.8696</td>\n",
       "      <td id=\"T_a3dd9_row6_col3\" class=\"data row6 col3\" >0.9091</td>\n",
       "      <td id=\"T_a3dd9_row6_col4\" class=\"data row6 col4\" >0.8889</td>\n",
       "      <td id=\"T_a3dd9_row6_col5\" class=\"data row6 col5\" >0.7039</td>\n",
       "      <td id=\"T_a3dd9_row6_col6\" class=\"data row6 col6\" >0.7052</td>\n",
       "    </tr>\n",
       "    <tr>\n",
       "      <th id=\"T_a3dd9_level0_row7\" class=\"row_heading level0 row7\" >7</th>\n",
       "      <td id=\"T_a3dd9_row7_col0\" class=\"data row7 col0\" >0.9167</td>\n",
       "      <td id=\"T_a3dd9_row7_col1\" class=\"data row7 col1\" >0.9967</td>\n",
       "      <td id=\"T_a3dd9_row7_col2\" class=\"data row7 col2\" >0.8696</td>\n",
       "      <td id=\"T_a3dd9_row7_col3\" class=\"data row7 col3\" >1.0000</td>\n",
       "      <td id=\"T_a3dd9_row7_col4\" class=\"data row7 col4\" >0.9302</td>\n",
       "      <td id=\"T_a3dd9_row7_col5\" class=\"data row7 col5\" >0.8280</td>\n",
       "      <td id=\"T_a3dd9_row7_col6\" class=\"data row7 col6\" >0.8405</td>\n",
       "    </tr>\n",
       "    <tr>\n",
       "      <th id=\"T_a3dd9_level0_row8\" class=\"row_heading level0 row8\" >8</th>\n",
       "      <td id=\"T_a3dd9_row8_col0\" class=\"data row8 col0\" >0.9429</td>\n",
       "      <td id=\"T_a3dd9_row8_col1\" class=\"data row8 col1\" >0.9353</td>\n",
       "      <td id=\"T_a3dd9_row8_col2\" class=\"data row8 col2\" >0.9545</td>\n",
       "      <td id=\"T_a3dd9_row8_col3\" class=\"data row8 col3\" >0.9545</td>\n",
       "      <td id=\"T_a3dd9_row8_col4\" class=\"data row8 col4\" >0.9545</td>\n",
       "      <td id=\"T_a3dd9_row8_col5\" class=\"data row8 col5\" >0.8776</td>\n",
       "      <td id=\"T_a3dd9_row8_col6\" class=\"data row8 col6\" >0.8776</td>\n",
       "    </tr>\n",
       "    <tr>\n",
       "      <th id=\"T_a3dd9_level0_row9\" class=\"row_heading level0 row9\" >9</th>\n",
       "      <td id=\"T_a3dd9_row9_col0\" class=\"data row9 col0\" >0.8857</td>\n",
       "      <td id=\"T_a3dd9_row9_col1\" class=\"data row9 col1\" >0.9266</td>\n",
       "      <td id=\"T_a3dd9_row9_col2\" class=\"data row9 col2\" >0.9091</td>\n",
       "      <td id=\"T_a3dd9_row9_col3\" class=\"data row9 col3\" >0.9091</td>\n",
       "      <td id=\"T_a3dd9_row9_col4\" class=\"data row9 col4\" >0.9091</td>\n",
       "      <td id=\"T_a3dd9_row9_col5\" class=\"data row9 col5\" >0.7552</td>\n",
       "      <td id=\"T_a3dd9_row9_col6\" class=\"data row9 col6\" >0.7552</td>\n",
       "    </tr>\n",
       "    <tr>\n",
       "      <th id=\"T_a3dd9_level0_row10\" class=\"row_heading level0 row10\" >Mean</th>\n",
       "      <td id=\"T_a3dd9_row10_col0\" class=\"data row10 col0\" >0.8912</td>\n",
       "      <td id=\"T_a3dd9_row10_col1\" class=\"data row10 col1\" >0.9468</td>\n",
       "      <td id=\"T_a3dd9_row10_col2\" class=\"data row10 col2\" >0.8921</td>\n",
       "      <td id=\"T_a3dd9_row10_col3\" class=\"data row10 col3\" >0.9326</td>\n",
       "      <td id=\"T_a3dd9_row10_col4\" class=\"data row10 col4\" >0.9107</td>\n",
       "      <td id=\"T_a3dd9_row10_col5\" class=\"data row10 col5\" >0.7713</td>\n",
       "      <td id=\"T_a3dd9_row10_col6\" class=\"data row10 col6\" >0.7753</td>\n",
       "    </tr>\n",
       "    <tr>\n",
       "      <th id=\"T_a3dd9_level0_row11\" class=\"row_heading level0 row11\" >Std</th>\n",
       "      <td id=\"T_a3dd9_row11_col0\" class=\"data row11 col0\" >0.0454</td>\n",
       "      <td id=\"T_a3dd9_row11_col1\" class=\"data row11 col1\" >0.0449</td>\n",
       "      <td id=\"T_a3dd9_row11_col2\" class=\"data row11 col2\" >0.0409</td>\n",
       "      <td id=\"T_a3dd9_row11_col3\" class=\"data row11 col3\" >0.0563</td>\n",
       "      <td id=\"T_a3dd9_row11_col4\" class=\"data row11 col4\" >0.0364</td>\n",
       "      <td id=\"T_a3dd9_row11_col5\" class=\"data row11 col5\" >0.0971</td>\n",
       "      <td id=\"T_a3dd9_row11_col6\" class=\"data row11 col6\" >0.0981</td>\n",
       "    </tr>\n",
       "  </tbody>\n",
       "</table>\n"
      ],
      "text/plain": [
       "<pandas.io.formats.style.Styler at 0x7f2d52ce9730>"
      ]
     },
     "metadata": {},
     "output_type": "display_data"
    },
    {
     "data": {
      "text/html": [],
      "text/plain": [
       "<IPython.core.display.HTML object>"
      ]
     },
     "metadata": {},
     "output_type": "display_data"
    },
    {
     "name": "stdout",
     "output_type": "stream",
     "text": [
      "Fitting 10 folds for each of 10 candidates, totalling 100 fits\n"
     ]
    }
   ],
   "source": [
    "tuned_dt_auc = cla.tune_model(dt, optimize = 'AUC')"
   ]
  },
  {
   "cell_type": "code",
   "execution_count": 18,
   "id": "b0790fa1-62bc-49fe-afce-63a11863acf8",
   "metadata": {},
   "outputs": [],
   "source": [
    "# import xgboost as xgboost\n",
    "# xgb = cla.create_model('xgboost')"
   ]
  },
  {
   "cell_type": "code",
   "execution_count": 19,
   "id": "4e857e38-af64-4f84-a624-e92a651f8dc6",
   "metadata": {},
   "outputs": [
    {
     "data": {
      "text/html": [],
      "text/plain": [
       "<IPython.core.display.HTML object>"
      ]
     },
     "metadata": {},
     "output_type": "display_data"
    },
    {
     "data": {
      "text/html": [
       "<style type=\"text/css\">\n",
       "#T_5835d_row10_col0, #T_5835d_row10_col1, #T_5835d_row10_col2, #T_5835d_row10_col3, #T_5835d_row10_col4, #T_5835d_row10_col5, #T_5835d_row10_col6 {\n",
       "  background: yellow;\n",
       "}\n",
       "</style>\n",
       "<table id=\"T_5835d\">\n",
       "  <thead>\n",
       "    <tr>\n",
       "      <th class=\"blank level0\" >&nbsp;</th>\n",
       "      <th id=\"T_5835d_level0_col0\" class=\"col_heading level0 col0\" >Accuracy</th>\n",
       "      <th id=\"T_5835d_level0_col1\" class=\"col_heading level0 col1\" >AUC</th>\n",
       "      <th id=\"T_5835d_level0_col2\" class=\"col_heading level0 col2\" >Recall</th>\n",
       "      <th id=\"T_5835d_level0_col3\" class=\"col_heading level0 col3\" >Prec.</th>\n",
       "      <th id=\"T_5835d_level0_col4\" class=\"col_heading level0 col4\" >F1</th>\n",
       "      <th id=\"T_5835d_level0_col5\" class=\"col_heading level0 col5\" >Kappa</th>\n",
       "      <th id=\"T_5835d_level0_col6\" class=\"col_heading level0 col6\" >MCC</th>\n",
       "    </tr>\n",
       "    <tr>\n",
       "      <th class=\"index_name level0\" >Fold</th>\n",
       "      <th class=\"blank col0\" >&nbsp;</th>\n",
       "      <th class=\"blank col1\" >&nbsp;</th>\n",
       "      <th class=\"blank col2\" >&nbsp;</th>\n",
       "      <th class=\"blank col3\" >&nbsp;</th>\n",
       "      <th class=\"blank col4\" >&nbsp;</th>\n",
       "      <th class=\"blank col5\" >&nbsp;</th>\n",
       "      <th class=\"blank col6\" >&nbsp;</th>\n",
       "    </tr>\n",
       "  </thead>\n",
       "  <tbody>\n",
       "    <tr>\n",
       "      <th id=\"T_5835d_level0_row0\" class=\"row_heading level0 row0\" >0</th>\n",
       "      <td id=\"T_5835d_row0_col0\" class=\"data row0 col0\" >0.8889</td>\n",
       "      <td id=\"T_5835d_row0_col1\" class=\"data row0 col1\" >0.9318</td>\n",
       "      <td id=\"T_5835d_row0_col2\" class=\"data row0 col2\" >0.9545</td>\n",
       "      <td id=\"T_5835d_row0_col3\" class=\"data row0 col3\" >0.8750</td>\n",
       "      <td id=\"T_5835d_row0_col4\" class=\"data row0 col4\" >0.9130</td>\n",
       "      <td id=\"T_5835d_row0_col5\" class=\"data row0 col5\" >0.7600</td>\n",
       "      <td id=\"T_5835d_row0_col6\" class=\"data row0 col6\" >0.7655</td>\n",
       "    </tr>\n",
       "    <tr>\n",
       "      <th id=\"T_5835d_level0_row1\" class=\"row_heading level0 row1\" >1</th>\n",
       "      <td id=\"T_5835d_row1_col0\" class=\"data row1 col0\" >0.9722</td>\n",
       "      <td id=\"T_5835d_row1_col1\" class=\"data row1 col1\" >0.9903</td>\n",
       "      <td id=\"T_5835d_row1_col2\" class=\"data row1 col2\" >0.9545</td>\n",
       "      <td id=\"T_5835d_row1_col3\" class=\"data row1 col3\" >1.0000</td>\n",
       "      <td id=\"T_5835d_row1_col4\" class=\"data row1 col4\" >0.9767</td>\n",
       "      <td id=\"T_5835d_row1_col5\" class=\"data row1 col5\" >0.9423</td>\n",
       "      <td id=\"T_5835d_row1_col6\" class=\"data row1 col6\" >0.9439</td>\n",
       "    </tr>\n",
       "    <tr>\n",
       "      <th id=\"T_5835d_level0_row2\" class=\"row_heading level0 row2\" >2</th>\n",
       "      <td id=\"T_5835d_row2_col0\" class=\"data row2 col0\" >0.9722</td>\n",
       "      <td id=\"T_5835d_row2_col1\" class=\"data row2 col1\" >1.0000</td>\n",
       "      <td id=\"T_5835d_row2_col2\" class=\"data row2 col2\" >1.0000</td>\n",
       "      <td id=\"T_5835d_row2_col3\" class=\"data row2 col3\" >0.9565</td>\n",
       "      <td id=\"T_5835d_row2_col4\" class=\"data row2 col4\" >0.9778</td>\n",
       "      <td id=\"T_5835d_row2_col5\" class=\"data row2 col5\" >0.9408</td>\n",
       "      <td id=\"T_5835d_row2_col6\" class=\"data row2 col6\" >0.9424</td>\n",
       "    </tr>\n",
       "    <tr>\n",
       "      <th id=\"T_5835d_level0_row3\" class=\"row_heading level0 row3\" >3</th>\n",
       "      <td id=\"T_5835d_row3_col0\" class=\"data row3 col0\" >1.0000</td>\n",
       "      <td id=\"T_5835d_row3_col1\" class=\"data row3 col1\" >1.0000</td>\n",
       "      <td id=\"T_5835d_row3_col2\" class=\"data row3 col2\" >1.0000</td>\n",
       "      <td id=\"T_5835d_row3_col3\" class=\"data row3 col3\" >1.0000</td>\n",
       "      <td id=\"T_5835d_row3_col4\" class=\"data row3 col4\" >1.0000</td>\n",
       "      <td id=\"T_5835d_row3_col5\" class=\"data row3 col5\" >1.0000</td>\n",
       "      <td id=\"T_5835d_row3_col6\" class=\"data row3 col6\" >1.0000</td>\n",
       "    </tr>\n",
       "    <tr>\n",
       "      <th id=\"T_5835d_level0_row4\" class=\"row_heading level0 row4\" >4</th>\n",
       "      <td id=\"T_5835d_row4_col0\" class=\"data row4 col0\" >1.0000</td>\n",
       "      <td id=\"T_5835d_row4_col1\" class=\"data row4 col1\" >1.0000</td>\n",
       "      <td id=\"T_5835d_row4_col2\" class=\"data row4 col2\" >1.0000</td>\n",
       "      <td id=\"T_5835d_row4_col3\" class=\"data row4 col3\" >1.0000</td>\n",
       "      <td id=\"T_5835d_row4_col4\" class=\"data row4 col4\" >1.0000</td>\n",
       "      <td id=\"T_5835d_row4_col5\" class=\"data row4 col5\" >1.0000</td>\n",
       "      <td id=\"T_5835d_row4_col6\" class=\"data row4 col6\" >1.0000</td>\n",
       "    </tr>\n",
       "    <tr>\n",
       "      <th id=\"T_5835d_level0_row5\" class=\"row_heading level0 row5\" >5</th>\n",
       "      <td id=\"T_5835d_row5_col0\" class=\"data row5 col0\" >0.9444</td>\n",
       "      <td id=\"T_5835d_row5_col1\" class=\"data row5 col1\" >0.9968</td>\n",
       "      <td id=\"T_5835d_row5_col2\" class=\"data row5 col2\" >0.9545</td>\n",
       "      <td id=\"T_5835d_row5_col3\" class=\"data row5 col3\" >0.9545</td>\n",
       "      <td id=\"T_5835d_row5_col4\" class=\"data row5 col4\" >0.9545</td>\n",
       "      <td id=\"T_5835d_row5_col5\" class=\"data row5 col5\" >0.8831</td>\n",
       "      <td id=\"T_5835d_row5_col6\" class=\"data row5 col6\" >0.8831</td>\n",
       "    </tr>\n",
       "    <tr>\n",
       "      <th id=\"T_5835d_level0_row6\" class=\"row_heading level0 row6\" >6</th>\n",
       "      <td id=\"T_5835d_row6_col0\" class=\"data row6 col0\" >0.9722</td>\n",
       "      <td id=\"T_5835d_row6_col1\" class=\"data row6 col1\" >0.9933</td>\n",
       "      <td id=\"T_5835d_row6_col2\" class=\"data row6 col2\" >1.0000</td>\n",
       "      <td id=\"T_5835d_row6_col3\" class=\"data row6 col3\" >0.9583</td>\n",
       "      <td id=\"T_5835d_row6_col4\" class=\"data row6 col4\" >0.9787</td>\n",
       "      <td id=\"T_5835d_row6_col5\" class=\"data row6 col5\" >0.9388</td>\n",
       "      <td id=\"T_5835d_row6_col6\" class=\"data row6 col6\" >0.9405</td>\n",
       "    </tr>\n",
       "    <tr>\n",
       "      <th id=\"T_5835d_level0_row7\" class=\"row_heading level0 row7\" >7</th>\n",
       "      <td id=\"T_5835d_row7_col0\" class=\"data row7 col0\" >1.0000</td>\n",
       "      <td id=\"T_5835d_row7_col1\" class=\"data row7 col1\" >1.0000</td>\n",
       "      <td id=\"T_5835d_row7_col2\" class=\"data row7 col2\" >1.0000</td>\n",
       "      <td id=\"T_5835d_row7_col3\" class=\"data row7 col3\" >1.0000</td>\n",
       "      <td id=\"T_5835d_row7_col4\" class=\"data row7 col4\" >1.0000</td>\n",
       "      <td id=\"T_5835d_row7_col5\" class=\"data row7 col5\" >1.0000</td>\n",
       "      <td id=\"T_5835d_row7_col6\" class=\"data row7 col6\" >1.0000</td>\n",
       "    </tr>\n",
       "    <tr>\n",
       "      <th id=\"T_5835d_level0_row8\" class=\"row_heading level0 row8\" >8</th>\n",
       "      <td id=\"T_5835d_row8_col0\" class=\"data row8 col0\" >0.9714</td>\n",
       "      <td id=\"T_5835d_row8_col1\" class=\"data row8 col1\" >0.9860</td>\n",
       "      <td id=\"T_5835d_row8_col2\" class=\"data row8 col2\" >1.0000</td>\n",
       "      <td id=\"T_5835d_row8_col3\" class=\"data row8 col3\" >0.9565</td>\n",
       "      <td id=\"T_5835d_row8_col4\" class=\"data row8 col4\" >0.9778</td>\n",
       "      <td id=\"T_5835d_row8_col5\" class=\"data row8 col5\" >0.9378</td>\n",
       "      <td id=\"T_5835d_row8_col6\" class=\"data row8 col6\" >0.9397</td>\n",
       "    </tr>\n",
       "    <tr>\n",
       "      <th id=\"T_5835d_level0_row9\" class=\"row_heading level0 row9\" >9</th>\n",
       "      <td id=\"T_5835d_row9_col0\" class=\"data row9 col0\" >0.8857</td>\n",
       "      <td id=\"T_5835d_row9_col1\" class=\"data row9 col1\" >0.9790</td>\n",
       "      <td id=\"T_5835d_row9_col2\" class=\"data row9 col2\" >0.8636</td>\n",
       "      <td id=\"T_5835d_row9_col3\" class=\"data row9 col3\" >0.9500</td>\n",
       "      <td id=\"T_5835d_row9_col4\" class=\"data row9 col4\" >0.9048</td>\n",
       "      <td id=\"T_5835d_row9_col5\" class=\"data row9 col5\" >0.7627</td>\n",
       "      <td id=\"T_5835d_row9_col6\" class=\"data row9 col6\" >0.7681</td>\n",
       "    </tr>\n",
       "    <tr>\n",
       "      <th id=\"T_5835d_level0_row10\" class=\"row_heading level0 row10\" >Mean</th>\n",
       "      <td id=\"T_5835d_row10_col0\" class=\"data row10 col0\" >0.9607</td>\n",
       "      <td id=\"T_5835d_row10_col1\" class=\"data row10 col1\" >0.9877</td>\n",
       "      <td id=\"T_5835d_row10_col2\" class=\"data row10 col2\" >0.9727</td>\n",
       "      <td id=\"T_5835d_row10_col3\" class=\"data row10 col3\" >0.9651</td>\n",
       "      <td id=\"T_5835d_row10_col4\" class=\"data row10 col4\" >0.9683</td>\n",
       "      <td id=\"T_5835d_row10_col5\" class=\"data row10 col5\" >0.9166</td>\n",
       "      <td id=\"T_5835d_row10_col6\" class=\"data row10 col6\" >0.9183</td>\n",
       "    </tr>\n",
       "    <tr>\n",
       "      <th id=\"T_5835d_level0_row11\" class=\"row_heading level0 row11\" >Std</th>\n",
       "      <td id=\"T_5835d_row11_col0\" class=\"data row11 col0\" >0.0402</td>\n",
       "      <td id=\"T_5835d_row11_col1\" class=\"data row11 col1\" >0.0198</td>\n",
       "      <td id=\"T_5835d_row11_col2\" class=\"data row11 col2\" >0.0417</td>\n",
       "      <td id=\"T_5835d_row11_col3\" class=\"data row11 col3\" >0.0368</td>\n",
       "      <td id=\"T_5835d_row11_col4\" class=\"data row11 col4\" >0.0326</td>\n",
       "      <td id=\"T_5835d_row11_col5\" class=\"data row11 col5\" >0.0851</td>\n",
       "      <td id=\"T_5835d_row11_col6\" class=\"data row11 col6\" >0.0833</td>\n",
       "    </tr>\n",
       "  </tbody>\n",
       "</table>\n"
      ],
      "text/plain": [
       "<pandas.io.formats.style.Styler at 0x7f2d52c790a0>"
      ]
     },
     "metadata": {},
     "output_type": "display_data"
    },
    {
     "data": {
      "text/html": [],
      "text/plain": [
       "<IPython.core.display.HTML object>"
      ]
     },
     "metadata": {},
     "output_type": "display_data"
    }
   ],
   "source": [
    "xgb = cla.create_model('xgboost')"
   ]
  },
  {
   "cell_type": "code",
   "execution_count": 20,
   "id": "02c4e3b8-0312-4362-b087-1bfb8f3f8394",
   "metadata": {},
   "outputs": [
    {
     "data": {
      "text/html": [],
      "text/plain": [
       "<IPython.core.display.HTML object>"
      ]
     },
     "metadata": {},
     "output_type": "display_data"
    },
    {
     "data": {
      "text/html": [
       "<style type=\"text/css\">\n",
       "#T_cca50_row10_col0, #T_cca50_row10_col1, #T_cca50_row10_col2, #T_cca50_row10_col3, #T_cca50_row10_col4, #T_cca50_row10_col5, #T_cca50_row10_col6 {\n",
       "  background: yellow;\n",
       "}\n",
       "</style>\n",
       "<table id=\"T_cca50\">\n",
       "  <thead>\n",
       "    <tr>\n",
       "      <th class=\"blank level0\" >&nbsp;</th>\n",
       "      <th id=\"T_cca50_level0_col0\" class=\"col_heading level0 col0\" >Accuracy</th>\n",
       "      <th id=\"T_cca50_level0_col1\" class=\"col_heading level0 col1\" >AUC</th>\n",
       "      <th id=\"T_cca50_level0_col2\" class=\"col_heading level0 col2\" >Recall</th>\n",
       "      <th id=\"T_cca50_level0_col3\" class=\"col_heading level0 col3\" >Prec.</th>\n",
       "      <th id=\"T_cca50_level0_col4\" class=\"col_heading level0 col4\" >F1</th>\n",
       "      <th id=\"T_cca50_level0_col5\" class=\"col_heading level0 col5\" >Kappa</th>\n",
       "      <th id=\"T_cca50_level0_col6\" class=\"col_heading level0 col6\" >MCC</th>\n",
       "    </tr>\n",
       "    <tr>\n",
       "      <th class=\"index_name level0\" >Fold</th>\n",
       "      <th class=\"blank col0\" >&nbsp;</th>\n",
       "      <th class=\"blank col1\" >&nbsp;</th>\n",
       "      <th class=\"blank col2\" >&nbsp;</th>\n",
       "      <th class=\"blank col3\" >&nbsp;</th>\n",
       "      <th class=\"blank col4\" >&nbsp;</th>\n",
       "      <th class=\"blank col5\" >&nbsp;</th>\n",
       "      <th class=\"blank col6\" >&nbsp;</th>\n",
       "    </tr>\n",
       "  </thead>\n",
       "  <tbody>\n",
       "    <tr>\n",
       "      <th id=\"T_cca50_level0_row0\" class=\"row_heading level0 row0\" >0</th>\n",
       "      <td id=\"T_cca50_row0_col0\" class=\"data row0 col0\" >0.9167</td>\n",
       "      <td id=\"T_cca50_row0_col1\" class=\"data row0 col1\" >0.9513</td>\n",
       "      <td id=\"T_cca50_row0_col2\" class=\"data row0 col2\" >1.0000</td>\n",
       "      <td id=\"T_cca50_row0_col3\" class=\"data row0 col3\" >0.8800</td>\n",
       "      <td id=\"T_cca50_row0_col4\" class=\"data row0 col4\" >0.9362</td>\n",
       "      <td id=\"T_cca50_row0_col5\" class=\"data row0 col5\" >0.8176</td>\n",
       "      <td id=\"T_cca50_row0_col6\" class=\"data row0 col6\" >0.8315</td>\n",
       "    </tr>\n",
       "    <tr>\n",
       "      <th id=\"T_cca50_level0_row1\" class=\"row_heading level0 row1\" >1</th>\n",
       "      <td id=\"T_cca50_row1_col0\" class=\"data row1 col0\" >0.9167</td>\n",
       "      <td id=\"T_cca50_row1_col1\" class=\"data row1 col1\" >0.9903</td>\n",
       "      <td id=\"T_cca50_row1_col2\" class=\"data row1 col2\" >0.9545</td>\n",
       "      <td id=\"T_cca50_row1_col3\" class=\"data row1 col3\" >0.9130</td>\n",
       "      <td id=\"T_cca50_row1_col4\" class=\"data row1 col4\" >0.9333</td>\n",
       "      <td id=\"T_cca50_row1_col5\" class=\"data row1 col5\" >0.8224</td>\n",
       "      <td id=\"T_cca50_row1_col6\" class=\"data row1 col6\" >0.8238</td>\n",
       "    </tr>\n",
       "    <tr>\n",
       "      <th id=\"T_cca50_level0_row2\" class=\"row_heading level0 row2\" >2</th>\n",
       "      <td id=\"T_cca50_row2_col0\" class=\"data row2 col0\" >0.9722</td>\n",
       "      <td id=\"T_cca50_row2_col1\" class=\"data row2 col1\" >1.0000</td>\n",
       "      <td id=\"T_cca50_row2_col2\" class=\"data row2 col2\" >1.0000</td>\n",
       "      <td id=\"T_cca50_row2_col3\" class=\"data row2 col3\" >0.9565</td>\n",
       "      <td id=\"T_cca50_row2_col4\" class=\"data row2 col4\" >0.9778</td>\n",
       "      <td id=\"T_cca50_row2_col5\" class=\"data row2 col5\" >0.9408</td>\n",
       "      <td id=\"T_cca50_row2_col6\" class=\"data row2 col6\" >0.9424</td>\n",
       "    </tr>\n",
       "    <tr>\n",
       "      <th id=\"T_cca50_level0_row3\" class=\"row_heading level0 row3\" >3</th>\n",
       "      <td id=\"T_cca50_row3_col0\" class=\"data row3 col0\" >1.0000</td>\n",
       "      <td id=\"T_cca50_row3_col1\" class=\"data row3 col1\" >1.0000</td>\n",
       "      <td id=\"T_cca50_row3_col2\" class=\"data row3 col2\" >1.0000</td>\n",
       "      <td id=\"T_cca50_row3_col3\" class=\"data row3 col3\" >1.0000</td>\n",
       "      <td id=\"T_cca50_row3_col4\" class=\"data row3 col4\" >1.0000</td>\n",
       "      <td id=\"T_cca50_row3_col5\" class=\"data row3 col5\" >1.0000</td>\n",
       "      <td id=\"T_cca50_row3_col6\" class=\"data row3 col6\" >1.0000</td>\n",
       "    </tr>\n",
       "    <tr>\n",
       "      <th id=\"T_cca50_level0_row4\" class=\"row_heading level0 row4\" >4</th>\n",
       "      <td id=\"T_cca50_row4_col0\" class=\"data row4 col0\" >0.9722</td>\n",
       "      <td id=\"T_cca50_row4_col1\" class=\"data row4 col1\" >1.0000</td>\n",
       "      <td id=\"T_cca50_row4_col2\" class=\"data row4 col2\" >1.0000</td>\n",
       "      <td id=\"T_cca50_row4_col3\" class=\"data row4 col3\" >0.9565</td>\n",
       "      <td id=\"T_cca50_row4_col4\" class=\"data row4 col4\" >0.9778</td>\n",
       "      <td id=\"T_cca50_row4_col5\" class=\"data row4 col5\" >0.9408</td>\n",
       "      <td id=\"T_cca50_row4_col6\" class=\"data row4 col6\" >0.9424</td>\n",
       "    </tr>\n",
       "    <tr>\n",
       "      <th id=\"T_cca50_level0_row5\" class=\"row_heading level0 row5\" >5</th>\n",
       "      <td id=\"T_cca50_row5_col0\" class=\"data row5 col0\" >0.9722</td>\n",
       "      <td id=\"T_cca50_row5_col1\" class=\"data row5 col1\" >0.9708</td>\n",
       "      <td id=\"T_cca50_row5_col2\" class=\"data row5 col2\" >1.0000</td>\n",
       "      <td id=\"T_cca50_row5_col3\" class=\"data row5 col3\" >0.9565</td>\n",
       "      <td id=\"T_cca50_row5_col4\" class=\"data row5 col4\" >0.9778</td>\n",
       "      <td id=\"T_cca50_row5_col5\" class=\"data row5 col5\" >0.9408</td>\n",
       "      <td id=\"T_cca50_row5_col6\" class=\"data row5 col6\" >0.9424</td>\n",
       "    </tr>\n",
       "    <tr>\n",
       "      <th id=\"T_cca50_level0_row6\" class=\"row_heading level0 row6\" >6</th>\n",
       "      <td id=\"T_cca50_row6_col0\" class=\"data row6 col0\" >0.9167</td>\n",
       "      <td id=\"T_cca50_row6_col1\" class=\"data row6 col1\" >0.9866</td>\n",
       "      <td id=\"T_cca50_row6_col2\" class=\"data row6 col2\" >1.0000</td>\n",
       "      <td id=\"T_cca50_row6_col3\" class=\"data row6 col3\" >0.8846</td>\n",
       "      <td id=\"T_cca50_row6_col4\" class=\"data row6 col4\" >0.9388</td>\n",
       "      <td id=\"T_cca50_row6_col5\" class=\"data row6 col5\" >0.8099</td>\n",
       "      <td id=\"T_cca50_row6_col6\" class=\"data row6 col6\" >0.8249</td>\n",
       "    </tr>\n",
       "    <tr>\n",
       "      <th id=\"T_cca50_level0_row7\" class=\"row_heading level0 row7\" >7</th>\n",
       "      <td id=\"T_cca50_row7_col0\" class=\"data row7 col0\" >1.0000</td>\n",
       "      <td id=\"T_cca50_row7_col1\" class=\"data row7 col1\" >1.0000</td>\n",
       "      <td id=\"T_cca50_row7_col2\" class=\"data row7 col2\" >1.0000</td>\n",
       "      <td id=\"T_cca50_row7_col3\" class=\"data row7 col3\" >1.0000</td>\n",
       "      <td id=\"T_cca50_row7_col4\" class=\"data row7 col4\" >1.0000</td>\n",
       "      <td id=\"T_cca50_row7_col5\" class=\"data row7 col5\" >1.0000</td>\n",
       "      <td id=\"T_cca50_row7_col6\" class=\"data row7 col6\" >1.0000</td>\n",
       "    </tr>\n",
       "    <tr>\n",
       "      <th id=\"T_cca50_level0_row8\" class=\"row_heading level0 row8\" >8</th>\n",
       "      <td id=\"T_cca50_row8_col0\" class=\"data row8 col0\" >0.9714</td>\n",
       "      <td id=\"T_cca50_row8_col1\" class=\"data row8 col1\" >0.9895</td>\n",
       "      <td id=\"T_cca50_row8_col2\" class=\"data row8 col2\" >1.0000</td>\n",
       "      <td id=\"T_cca50_row8_col3\" class=\"data row8 col3\" >0.9565</td>\n",
       "      <td id=\"T_cca50_row8_col4\" class=\"data row8 col4\" >0.9778</td>\n",
       "      <td id=\"T_cca50_row8_col5\" class=\"data row8 col5\" >0.9378</td>\n",
       "      <td id=\"T_cca50_row8_col6\" class=\"data row8 col6\" >0.9397</td>\n",
       "    </tr>\n",
       "    <tr>\n",
       "      <th id=\"T_cca50_level0_row9\" class=\"row_heading level0 row9\" >9</th>\n",
       "      <td id=\"T_cca50_row9_col0\" class=\"data row9 col0\" >0.9143</td>\n",
       "      <td id=\"T_cca50_row9_col1\" class=\"data row9 col1\" >0.9790</td>\n",
       "      <td id=\"T_cca50_row9_col2\" class=\"data row9 col2\" >0.9545</td>\n",
       "      <td id=\"T_cca50_row9_col3\" class=\"data row9 col3\" >0.9130</td>\n",
       "      <td id=\"T_cca50_row9_col4\" class=\"data row9 col4\" >0.9333</td>\n",
       "      <td id=\"T_cca50_row9_col5\" class=\"data row9 col5\" >0.8135</td>\n",
       "      <td id=\"T_cca50_row9_col6\" class=\"data row9 col6\" >0.8151</td>\n",
       "    </tr>\n",
       "    <tr>\n",
       "      <th id=\"T_cca50_level0_row10\" class=\"row_heading level0 row10\" >Mean</th>\n",
       "      <td id=\"T_cca50_row10_col0\" class=\"data row10 col0\" >0.9552</td>\n",
       "      <td id=\"T_cca50_row10_col1\" class=\"data row10 col1\" >0.9867</td>\n",
       "      <td id=\"T_cca50_row10_col2\" class=\"data row10 col2\" >0.9909</td>\n",
       "      <td id=\"T_cca50_row10_col3\" class=\"data row10 col3\" >0.9417</td>\n",
       "      <td id=\"T_cca50_row10_col4\" class=\"data row10 col4\" >0.9653</td>\n",
       "      <td id=\"T_cca50_row10_col5\" class=\"data row10 col5\" >0.9023</td>\n",
       "      <td id=\"T_cca50_row10_col6\" class=\"data row10 col6\" >0.9062</td>\n",
       "    </tr>\n",
       "    <tr>\n",
       "      <th id=\"T_cca50_level0_row11\" class=\"row_heading level0 row11\" >Std</th>\n",
       "      <td id=\"T_cca50_row11_col0\" class=\"data row11 col0\" >0.0336</td>\n",
       "      <td id=\"T_cca50_row11_col1\" class=\"data row11 col1\" >0.0151</td>\n",
       "      <td id=\"T_cca50_row11_col2\" class=\"data row11 col2\" >0.0182</td>\n",
       "      <td id=\"T_cca50_row11_col3\" class=\"data row11 col3\" >0.0405</td>\n",
       "      <td id=\"T_cca50_row11_col4\" class=\"data row11 col4\" >0.0257</td>\n",
       "      <td id=\"T_cca50_row11_col5\" class=\"data row11 col5\" >0.0740</td>\n",
       "      <td id=\"T_cca50_row11_col6\" class=\"data row11 col6\" >0.0707</td>\n",
       "    </tr>\n",
       "  </tbody>\n",
       "</table>\n"
      ],
      "text/plain": [
       "<pandas.io.formats.style.Styler at 0x7f2d57806a90>"
      ]
     },
     "metadata": {},
     "output_type": "display_data"
    },
    {
     "data": {
      "text/html": [],
      "text/plain": [
       "<IPython.core.display.HTML object>"
      ]
     },
     "metadata": {},
     "output_type": "display_data"
    },
    {
     "name": "stdout",
     "output_type": "stream",
     "text": [
      "Fitting 10 folds for each of 10 candidates, totalling 100 fits\n",
      "Original model was better than the tuned model, hence it will be returned. NOTE: The display metrics are for the tuned model (not the original one).\n"
     ]
    }
   ],
   "source": [
    "xgb_tuned = cla.tune_model(xgb)"
   ]
  },
  {
   "cell_type": "markdown",
   "id": "9267c7ef-73d6-420d-8d52-ceee188d858b",
   "metadata": {},
   "source": [
    "### Visualising our results\n",
    "\n",
    "The documentation for plotting models can be found here for pycaret\n",
    "\n",
    "https://pycaret.readthedocs.io/en/latest/api/classification.html#pycaret.classification.plot_model\n",
    "\n",
    "we shall look at a couple of plots looking at the tuned_dt"
   ]
  },
  {
   "cell_type": "code",
   "execution_count": 21,
   "id": "2d6ec1d6-cc0f-4df2-84b0-987ac339b477",
   "metadata": {},
   "outputs": [
    {
     "data": {
      "text/html": [],
      "text/plain": [
       "<IPython.core.display.HTML object>"
      ]
     },
     "metadata": {},
     "output_type": "display_data"
    },
    {
     "data": {
      "image/png": "[encoded data removed]",
      "text/plain": [
       "<Figure size 800x550 with 1 Axes>"
      ]
     },
     "metadata": {},
     "output_type": "display_data"
    }
   ],
   "source": [
    "cla.plot_model(tuned_rf, 'confusion_matrix')"
   ]
  },
  {
   "cell_type": "markdown",
   "id": "cb769357-da79-477d-b79a-0535d3d05944",
   "metadata": {},
   "source": [
    "We can also view the ROC curve for our classifier"
   ]
  },
  {
   "cell_type": "code",
   "execution_count": 22,
   "id": "f042cbfa-8cf1-4ab5-8264-2d4e90d05171",
   "metadata": {},
   "outputs": [
    {
     "data": {
      "text/html": [],
      "text/plain": [
       "<IPython.core.display.HTML object>"
      ]
     },
     "metadata": {},
     "output_type": "display_data"
    },
    {
     "data": {
      "image/png": "[encoded data removed]",
      "text/plain": [
       "<Figure size 800x550 with 1 Axes>"
      ]
     },
     "metadata": {},
     "output_type": "display_data"
    }
   ],
   "source": [
    "cla.plot_model(tuned_rf, 'auc')"
   ]
  },
  {
   "cell_type": "markdown",
   "id": "effa7828-6b53-4032-b43c-a030f1453b6c",
   "metadata": {},
   "source": [
    "Similarly we can look at the precision recall graph "
   ]
  },
  {
   "cell_type": "code",
   "execution_count": 23,
   "id": "45b9aa6c-ff29-4c26-acff-224d3c0e6d5f",
   "metadata": {},
   "outputs": [
    {
     "data": {
      "text/html": [],
      "text/plain": [
       "<IPython.core.display.HTML object>"
      ]
     },
     "metadata": {},
     "output_type": "display_data"
    },
    {
     "data": {
      "image/png": "[encoded data removed]",
      "text/plain": [
       "<Figure size 800x550 with 1 Axes>"
      ]
     },
     "metadata": {},
     "output_type": "display_data"
    }
   ],
   "source": [
    "cla.plot_model(dt, plot = 'pr')"
   ]
  },
  {
   "cell_type": "markdown",
   "id": "527abb9a-7c63-42b3-ba9d-c8ae02e136f7",
   "metadata": {},
   "source": [
    "We can look at a plot of feature importance"
   ]
  },
  {
   "cell_type": "code",
   "execution_count": 23,
   "id": "65d029e6-f857-4e29-880c-c55f385c137c",
   "metadata": {},
   "outputs": [
    {
     "data": {
      "text/html": [],
      "text/plain": [
       "<IPython.core.display.HTML object>"
      ]
     },
     "metadata": {},
     "output_type": "display_data"
    },
    {
     "data": {
      "image/png": "[encoded data removed]",
      "text/plain": [
       "<Figure size 800x500 with 1 Axes>"
      ]
     },
     "metadata": {},
     "output_type": "display_data"
    }
   ],
   "source": [
    "cla.plot_model(tuned_rf, plot='feature')"
   ]
  },
  {
   "cell_type": "code",
   "execution_count": 17,
   "id": "5692e0b7-19ba-4207-ac74-4f2741100040",
   "metadata": {},
   "outputs": [
    {
     "data": {
      "text/html": [],
      "text/plain": [
       "<IPython.core.display.HTML object>"
      ]
     },
     "metadata": {},
     "output_type": "display_data"
    },
    {
     "data": {
      "image/png": "[encoded data removed]",
      "text/plain": [
       "<Figure size 800x550 with 1 Axes>"
      ]
     },
     "metadata": {},
     "output_type": "display_data"
    }
   ],
   "source": [
    "cla.plot_model(dt, plot='boundary')"
   ]
  },
  {
   "cell_type": "code",
   "execution_count": null,
   "id": "cb1cec6e-4859-4af6-a1cc-70dde514c946",
   "metadata": {},
   "outputs": [],
   "source": [
    "cla.plot_model(dt, plot='boundary')"
   ]
  },
  {
   "cell_type": "markdown",
   "id": "771f5074-ea73-4d05-b903-1b2e055d0bcb",
   "metadata": {},
   "source": [
    "We can also use the evaluate function to give us an interactive gui for many of these plotting fuctions"
   ]
  },
  {
   "cell_type": "code",
   "execution_count": null,
   "id": "c36397d9-6566-4f5d-87d3-f6c796de7811",
   "metadata": {},
   "outputs": [],
   "source": [
    "cla.evaluate_model(dt)"
   ]
  },
  {
   "cell_type": "markdown",
   "id": "0c01bd94-3612-441a-8338-8fe0f7f09e7a",
   "metadata": {},
   "source": [
    "We can use the interpret model function in order to visualise how how model is making its predictions"
   ]
  },
  {
   "cell_type": "code",
   "execution_count": null,
   "id": "7333ff2c-ff55-464d-8dc0-e054d15fb794",
   "metadata": {},
   "outputs": [],
   "source": [
    "cla.interpret_model(dt)"
   ]
  },
  {
   "cell_type": "markdown",
   "id": "8c05ac50-d952-4319-a129-35f0aa4b6836",
   "metadata": {},
   "source": [
    "\n",
    "SHAP stands for Shapley additave explanations. Shap is used whenever you have a complicated model (not like logisitic or linear regression) but more like XGBoost or Random Forest and you want to understand how the model is making its decissions. SHAP effectively is used to demistify the black box model. \n",
    "\n",
    "Shap values measure the contribution of each feature to a prediction. Shap values quantify how much each feature contributes to a prediction and how much each feature affects the output of the model. Shap values are calculated by taking the difference between the model’s output without a given feature and the model’s output with the feature included. The higher the Shap value, the more the feature contributes to the model’s output. The Shap package in Python can be used to calculate Shap values for a given model and data set.\n",
    "\n"
   ]
  },
  {
   "cell_type": "markdown",
   "id": "5ed10933-bd5c-447c-8900-2763948a42b4",
   "metadata": {},
   "source": [
    "### Predictions "
   ]
  },
  {
   "cell_type": "markdown",
   "id": "a34cb686-f9da-43aa-ba5e-0509ad18288d",
   "metadata": {},
   "source": [
    "All of the analysis we have seen so far the set up used cross validation to evaluate performance. If we are happy with things now we can use the predict method in order to see how it does on the test data. Pycaret already separated out our training and testing data for us so using predict will only run the model on the hold out data/"
   ]
  },
  {
   "cell_type": "code",
   "execution_count": null,
   "id": "caf44ac9-3c4f-4545-be63-86dc888521f7",
   "metadata": {},
   "outputs": [],
   "source": [
    "cla.predict_model(tuned_rf)"
   ]
  },
  {
   "cell_type": "markdown",
   "id": "f87878e3-f20d-4967-91b2-264c13b5c8e0",
   "metadata": {},
   "source": [
    "Model finalization is the last step in the experiment. A normal machine learning workflow in PyCaret starts with setup(), followed by comparing all models using compare_models() and shortlisting a few candidate models (based on the metric of interest) to perform several modeling techniques such as hyperparameter tuning, ensembling, stacking etc. This workflow will eventually lead you to the best model for use in making predictions on new and unseen data. The finalize_model() function fits the model onto the complete dataset including the test/hold-out sample (30% in this case). The purpose of this function is to train the model on the complete dataset before it is deployed in production."
   ]
  },
  {
   "cell_type": "code",
   "execution_count": null,
   "id": "d1e858bf-b8a9-4d20-9f98-822e2a028341",
   "metadata": {},
   "outputs": [],
   "source": [
    "final_rf = cla.finalize_model(tuned_rf)"
   ]
  },
  {
   "cell_type": "markdown",
   "id": "95e99f97-8574-472b-8f5a-68abb61fc40b",
   "metadata": {},
   "source": [
    "Note once the model is finialised all of the data is used in the training of the model. \n",
    "\n",
    "Caution: One final word of caution. Once the model is finalized using finalize_model(), the entire dataset including the test/hold-out set is used for training. As such, if the model is used for predictions on the hold-out set after finalize_model() is used, the information grid printed will be misleading as you are trying to predict on the same data that was used for modeling. In order to demonstrate this point only, we will use final_rf under predict_model() to compare the information grid with the one above in section 11."
   ]
  },
  {
   "cell_type": "code",
   "execution_count": null,
   "id": "461fd393-85a3-43cf-8672-b7821d406d39",
   "metadata": {},
   "outputs": [],
   "source": [
    "cla.predict_model(final_rf);"
   ]
  },
  {
   "cell_type": "markdown",
   "id": "dd2467d2-76df-46de-9bd3-18add4aad12f",
   "metadata": {},
   "source": [
    "We can now predict on our test data that we held back from the model\n"
   ]
  },
  {
   "cell_type": "code",
   "execution_count": null,
   "id": "e6f31ba2-603f-4e4f-934b-b3f455b2ee3f",
   "metadata": {},
   "outputs": [],
   "source": [
    "unseen_predictions = cla.predict_model(final_rf, data=X_test)\n",
    "unseen_predictions.head()"
   ]
  },
  {
   "cell_type": "markdown",
   "id": "9c36a4da-ee44-4b90-b62f-ada0a0368762",
   "metadata": {},
   "source": [
    "##  Loading and Saving models"
   ]
  },
  {
   "cell_type": "code",
   "execution_count": null,
   "id": "1ef50b28-2942-4c4b-810f-2403fb1ad995",
   "metadata": {},
   "outputs": [],
   "source": [
    "cla.save_model(final_rf,'Final RF 20220712')"
   ]
  },
  {
   "cell_type": "markdown",
   "id": "5229a5bf-5c0e-4eaf-bf6c-26648181b7f4",
   "metadata": {},
   "source": [
    "And to load the model back in"
   ]
  },
  {
   "cell_type": "code",
   "execution_count": null,
   "id": "a29336cc-4bef-4411-8779-dd3a7e0d6f6e",
   "metadata": {},
   "outputs": [],
   "source": [
    "saved_final_rf = cla.load_model('Final RF 20220712')"
   ]
  },
  {
   "cell_type": "code",
   "execution_count": null,
   "id": "47c5d21b-4653-451e-9164-cdd8308048b0",
   "metadata": {},
   "outputs": [],
   "source": []
  },
  {
   "cell_type": "markdown",
   "id": "523f8688-258a-49ba-8ba3-bcd408e425f9",
   "metadata": {},
   "source": [
    "### The dashboard\n",
    "Pycaret offers an interactive dashboard feature where you can explore all the graphs and performance of your model in a web browser. Below we give an example of exploring our tuned random forest.\n",
    "\n",
    "\n",
    "\n",
    "So far we have seen graphs that have used the SHAP value to understand feature importanc, however we can also look at permutation importance. These are briefly explained below.\n",
    "\n",
    "SHAP stands for Shapley additave explanations. Shap is used whenever you have a complicated model (not like logisitic or linear regression) but more like XGBoost or Random Forest and you want to understand how the model is making its decissions. SHAP effectively is used to demistify the black box model. \n",
    "\n",
    "Shap values measure the contribution of each feature to a prediction. Shap values quantify how much each feature contributes to a prediction and how much each feature affects the output of the model. Shap values are calculated by taking the difference between the model’s output without a given feature and the model’s output with the feature included. The higher the Shap value, the more the feature contributes to the model’s output. The Shap package in Python can be used to calculate Shap values for a given model and data set.\n",
    "\n",
    "\n",
    "More can be read about this on \n",
    "https://towardsdatascience.com/shap-explained-the-way-i-wish-someone-explained-it-to-me-ab81cc69ef30\n",
    "\n",
    "Permutation importance is a technique used in machine learning to measure the importance+ of each feature in a predictive model. It works by randomly shuffling the values of a single feature, and then measuring how much the model’s performance decreases. The features that cause the biggest drop in model performance are the most important features. This technique can be useful for understanding which features are most important for a model, and for identifying features that may not have a large effect on the model’s performance."
   ]
  },
  {
   "cell_type": "code",
   "execution_count": null,
   "id": "c0cebe8f-f107-4a98-a1a0-668128303ebc",
   "metadata": {},
   "outputs": [],
   "source": [
    "# !pip install --pre -U pycaret\n",
    "# !pip install --upgrade setuptools\n",
    "# !pip install pycaret[analysis]\n"
   ]
  },
  {
   "cell_type": "code",
   "execution_count": null,
   "id": "d5390883-f42b-43df-bb9a-f3fa20bea4fb",
   "metadata": {},
   "outputs": [],
   "source": [
    "exp_clf01.dashboard(rf)"
   ]
  },
  {
   "cell_type": "code",
   "execution_count": null,
   "id": "1bbcbd57-79f1-4595-9464-d8518c40cdb8",
   "metadata": {},
   "outputs": [],
   "source": []
  },
  {
   "cell_type": "markdown",
   "id": "4baed673-3e9f-421c-b989-b3bf1765dc1b",
   "metadata": {},
   "source": [
    "## A Note on Scaling"
   ]
  },
  {
   "cell_type": "markdown",
   "id": "4e66ed1e-bab1-4842-99d2-a3cc2c6c72d3",
   "metadata": {},
   "source": [
    "So far we have used the defult paramters in the setup. This appeared fine for our numerical dataset and we had a range of accuracies when we compared performances on a range of models. However pycaret does not recognise if ceetain algorithms need numerical scaling or not. Where we did not numerically scale out data some algorithms could not perform at their best. To remind you what we mean by numerical scaling, \"Numerical scaling in machine learning is a process of transforming numerical values from one range to another. This is often used to normalize data so that all features have the same range of values. This can help improve the accuracy and efficiency of machine learning algorithms.\"\n",
    "\n",
    "Two commonly used approaches are min max scaling and standardisation. \n",
    "\n",
    "Min-max scaling (or min-max normalization) is a method used to normalize the values of a given dataset to a specific range, usually 0 to 1. It is a type of feature scaling that transforms the values of the dataset so that they are between a given minimum and maximum value (usually 0 and 1). The formula to apply min-max scaling is:\n",
    "\n",
    "X_scaled = (X - Xmin) / (Xmax - Xmin)\n",
    "\n",
    "where X is a value in the dataset, Xmin is the minimum value in the dataset, and Xmax is the maximum value in the dataset.\n",
    "\n",
    "Standard scaling is a method of transforming data so that it has a mean of 0 and a standard deviation of 1. It is a technique used to normalize data so that machine learning algorithms can process the data more efficiently. It is a type of normalization that is used to ensure that all features have the same scale and that they are normally distributed. It is especially useful when dealing with large datasets with many different features.\n",
    "\n",
    "\n",
    "We are now going to repeat the process of searching for the best model after we tweak the setup to apply numerical scaling. The defult scaler is the standard scaler\n",
    "\n",
    "First lets see what dataset looked like going into the previous models. This is given below\n"
   ]
  },
  {
   "cell_type": "code",
   "execution_count": null,
   "id": "3d07e4b1-d6be-45a8-98d7-f8028eac10bd",
   "metadata": {},
   "outputs": [],
   "source": [
    "exp_clf01.dataset_transformed"
   ]
  },
  {
   "cell_type": "markdown",
   "id": "ecb9d2e3-1154-4c44-adef-d869d8cbc3b5",
   "metadata": {},
   "source": [
    "Now we are going to start a new session where we put numerical scaling into the pipeline as you can see below "
   ]
  },
  {
   "cell_type": "code",
   "execution_count": null,
   "id": "6ff66583-a30a-460f-b0ab-bd5776bf858c",
   "metadata": {},
   "outputs": [],
   "source": [
    "exp_clf02 = cla.setup(data=train_dataset, target=\"target\", session_id=123, normalize=True, normalize_method='zscore')"
   ]
  },
  {
   "cell_type": "markdown",
   "id": "0932e5ee-c80f-4efd-8eb3-d54070849fe5",
   "metadata": {},
   "source": [
    "You can see in the paramters now we have numerical scaling set up. We can now run the compare models method in order to see which algorithm works best"
   ]
  },
  {
   "cell_type": "code",
   "execution_count": null,
   "id": "f3b9d7e3-84ac-4f2c-b551-0cac72d84d66",
   "metadata": {},
   "outputs": [],
   "source": [
    "best_model = exp_clf02.compare_models()"
   ]
  },
  {
   "cell_type": "markdown",
   "id": "26996410-ae3f-44df-b94d-1c65c6857e79",
   "metadata": {},
   "source": [
    "Looking at the output above some algorithms have very different performance. Logisitic regression originally had an accuracy 0.93 and this has changed to almost 0.97. We can also note that knn has moved from 0.91 to 0.96. However if we look at all of the tree based algorithms they have identical accuracies with DT at 0.9245 and xgboost at 0.9607. This goes to show the importance of numerical scaling to some algorithms and not others\n",
    "\n",
    "\n",
    "Note : In the workshop we did not worry about scaling when we applied logisitic regression. In its basic for logisitic regression does not require any scaling. However there are hyper paramters for logisitic regression that can tune the way it behaves. These hyper paramters help regularise the algorithm. When these hyper parameters are set the algorithm does become sensitive to scaling hence why we see the difference in the accuracies as a result of scaling here."
   ]
  },
  {
   "cell_type": "markdown",
   "id": "ae57d497-d288-4893-9ec1-2ddbb5e5f4ba",
   "metadata": {},
   "source": [
    "## Controlling the set up stage of categorical data"
   ]
  },
  {
   "cell_type": "markdown",
   "id": "d0c7955b-5c80-4e54-bf57-8a1c2de61e1f",
   "metadata": {},
   "source": [
    "Lets repeat the process with a dataset that contains categorical data \n",
    "\n",
    "The following documentation helps with options in controlling the setup parameters\n",
    "\n",
    "https://pycaret.readthedocs.io/en/latest/api/classification.html#pycaret.classification.setup\n",
    "\n",
    "Below we can look in more detail about how the imputation and encoding is working"
   ]
  },
  {
   "cell_type": "code",
   "execution_count": null,
   "id": "a2946c86-3a05-4c1d-889a-865f468eaf64",
   "metadata": {},
   "outputs": [],
   "source": [
    "from pycaret.datasets import get_data\n",
    "import numpy as np\n",
    "employee = get_data('employee')"
   ]
  },
  {
   "cell_type": "markdown",
   "id": "0e6c6984-aa06-45d8-8398-309437b00144",
   "metadata": {},
   "source": [
    "Lets see if we have any missing data in this dataset"
   ]
  },
  {
   "cell_type": "code",
   "execution_count": null,
   "id": "cf6b1b16-6219-4506-8028-3ff11aa4f040",
   "metadata": {},
   "outputs": [],
   "source": [
    "employee.isna().sum()"
   ]
  },
  {
   "cell_type": "markdown",
   "id": "135d994d-c73d-4aef-a7e8-95b2578a0ae9",
   "metadata": {},
   "source": [
    "We do not have any missing data so we are going to insert some "
   ]
  },
  {
   "cell_type": "code",
   "execution_count": null,
   "id": "306e1284-45c0-4adf-aadf-47892dce60c6",
   "metadata": {},
   "outputs": [],
   "source": [
    "employee.iloc[0:10,[0,1,2,3, 4, 5,6]]=np.nan\n",
    "employee.iloc[0:10, [ 7,8]]=pd.NA\n"
   ]
  },
  {
   "cell_type": "code",
   "execution_count": null,
   "id": "eaffbb48-bde8-4ca4-bc39-b548169c3365",
   "metadata": {},
   "outputs": [],
   "source": [
    "employee.isna().sum()"
   ]
  },
  {
   "cell_type": "markdown",
   "id": "b1234d08-69c6-47d1-a5d3-e98f83fd3860",
   "metadata": {},
   "source": []
  },
  {
   "cell_type": "markdown",
   "id": "f3ddbe86-e5eb-4927-98a8-e75cc4b54b62",
   "metadata": {},
   "source": [
    "Lets look at the the setup with the basic params"
   ]
  },
  {
   "cell_type": "code",
   "execution_count": null,
   "id": "cca109dc-3298-45c5-b0ac-55239c7b1703",
   "metadata": {},
   "outputs": [],
   "source": [
    "clf_basic = cla.setup(data = employee, target = 'left')"
   ]
  },
  {
   "cell_type": "markdown",
   "id": "4a2cb48b-fbf9-485e-94f1-c932b0696517",
   "metadata": {},
   "source": [
    "We have 2 columns of categorical data here, department and salary. "
   ]
  },
  {
   "cell_type": "code",
   "execution_count": null,
   "id": "af8d765d-5c99-45b5-9107-ee42bc3a64b6",
   "metadata": {
    "tags": []
   },
   "outputs": [],
   "source": [
    "clf_basic.dataset_transformed"
   ]
  },
  {
   "cell_type": "code",
   "execution_count": null,
   "id": "2c08782f-0ca9-43d1-ab85-99b8af70bc3d",
   "metadata": {
    "tags": []
   },
   "outputs": [],
   "source": [
    "employee.nunique()"
   ]
  },
  {
   "cell_type": "code",
   "execution_count": null,
   "id": "90183a07-4f5a-48be-9c9e-bd71969c3108",
   "metadata": {},
   "outputs": [],
   "source": [
    "clf_basic.variables['pipeline']"
   ]
  },
  {
   "cell_type": "markdown",
   "id": "3b9072c2-d82a-46ef-b027-cb3e014d70ad",
   "metadata": {},
   "source": [
    "We can see that the encoder is endocing salary as a nominal variable when it actually a orindal variable. We therefore can tell the setup this. We shall also change the numerical imputation to knn"
   ]
  },
  {
   "cell_type": "code",
   "execution_count": null,
   "id": "4a596a7b-6046-4070-afe2-787bd8f5422c",
   "metadata": {},
   "outputs": [],
   "source": [
    "clf = cla.setup(data = employee, target = 'left', \n",
    "           ordinal_features = {'salary' : ['low', 'medium', 'high']},\n",
    "               categorical_imputation = 'mode',\n",
    "               numeric_imputation = 'knn')"
   ]
  },
  {
   "cell_type": "markdown",
   "id": "ad3df26c-7986-4cff-b6f8-61e217a12863",
   "metadata": {},
   "source": [
    "We can see we now have 4 categorical features of which 2 have been recognised as ordinal. I think only 1 feature here is ordinal So I am going to investiage this in the setup"
   ]
  },
  {
   "cell_type": "code",
   "execution_count": null,
   "id": "374495a5-08e0-4a4b-90e1-38256cbe73d0",
   "metadata": {},
   "outputs": [],
   "source": [
    "clf.variables['pipeline']"
   ]
  },
  {
   "cell_type": "markdown",
   "id": "226e9adf-a597-4714-b66c-a954fa8ad415",
   "metadata": {},
   "source": [
    "You can see that because the imputation strategy was to create a new value for the salary it has a new mapping. Lets change that strategy "
   ]
  },
  {
   "cell_type": "code",
   "execution_count": null,
   "id": "5962e64d-47ab-4508-b455-6bcdeb3b829a",
   "metadata": {},
   "outputs": [],
   "source": [
    "clf.dataset_transformed"
   ]
  },
  {
   "cell_type": "markdown",
   "id": "3c9f8394-4d63-4d29-9c51-c63635aaa0f7",
   "metadata": {},
   "source": [
    "Notice how the department has not been one hote encoded. This is because y default any variables that have more than 5 unique varaibles will be chosen for oridnal encoding. However we want this as ohe so we will change this parameter"
   ]
  },
  {
   "cell_type": "code",
   "execution_count": null,
   "id": "3487b13d-a170-4b58-8685-fb3b535f0dcd",
   "metadata": {},
   "outputs": [],
   "source": [
    "clf = cla.setup(data = employee, target = 'left', \n",
    "           ordinal_features = {'salary' : ['low', 'medium', 'high']},\n",
    "               categorical_imputation = 'mode',\n",
    "               numeric_imputation = 'knn',\n",
    "               max_encoding_ohe = 12,\n",
    "               )"
   ]
  },
  {
   "cell_type": "code",
   "execution_count": null,
   "id": "0dcfb543-bdbd-4895-bf67-9e6f460cbe77",
   "metadata": {},
   "outputs": [],
   "source": [
    "clf.dataset_transformed"
   ]
  },
  {
   "cell_type": "markdown",
   "id": "69434931-d18e-4783-9345-26cd6beb538c",
   "metadata": {},
   "source": [
    "The step up class has lots of useful attributes and methods to explore how you wish you algorithm to run. The function below will give you a better look indisde the class"
   ]
  },
  {
   "cell_type": "code",
   "execution_count": null,
   "id": "4f32c9a0-c477-49ac-bf79-9c04385c30a2",
   "metadata": {},
   "outputs": [],
   "source": [
    "from pprint import pprint\n",
    "# pprint(vars(clf))"
   ]
  },
  {
   "cell_type": "markdown",
   "id": "b4389c02-59b1-4bac-a12f-4b233311e4ef",
   "metadata": {},
   "source": [
    "### Extra bits"
   ]
  },
  {
   "cell_type": "markdown",
   "id": "bd6ff942-f570-48d7-bfb2-faeab838be82",
   "metadata": {},
   "source": [
    "If we want to use ensemble models using a bootstrap technique we can use the ensemble method. This may make it more robust"
   ]
  },
  {
   "cell_type": "code",
   "execution_count": null,
   "id": "4cb46f35-8dac-4d2b-b6c5-36fceb27354d",
   "metadata": {},
   "outputs": [],
   "source": [
    "bagged_dt = cla.ensemble_model(dt, method = 'Bagging')"
   ]
  },
  {
   "cell_type": "markdown",
   "id": "f4939794-b0cd-4d14-acfe-218260c5186d",
   "metadata": {},
   "source": [
    "Model blending is where you take multiple models and make predictions from a voting of many models. We can do this by taking the top 3 models from our model comparision as seen below"
   ]
  },
  {
   "cell_type": "code",
   "execution_count": null,
   "id": "93a1f1b7-5e10-4b5a-a5ac-b2f82b959551",
   "metadata": {},
   "outputs": [],
   "source": [
    "top3 = cla.compare_models(n_select = 3)"
   ]
  },
  {
   "cell_type": "code",
   "execution_count": null,
   "id": "af9969f6-0152-4a55-8732-f7b64e9794c3",
   "metadata": {},
   "outputs": [],
   "source": [
    "blender = cla.blend_models(top3)"
   ]
  },
  {
   "cell_type": "markdown",
   "id": "42454815-68d1-4f92-8e03-74b346ee1b15",
   "metadata": {},
   "source": [
    "# Regression in Pycaret"
   ]
  },
  {
   "cell_type": "markdown",
   "id": "d2ae3922-972d-41eb-ac0a-2bd17ea66224",
   "metadata": {},
   "source": [
    "This section of notebook is based from the following https://nbviewer.org/github/pycaret/pycaret/blob/master/tutorials/Regression%20Tutorial%20Level%20Beginner%20-%20REG101.ipynb"
   ]
  },
  {
   "cell_type": "code",
   "execution_count": 1,
   "id": "2242aad0-0fa0-4ba9-a3d7-2fe9d4a05738",
   "metadata": {},
   "outputs": [
    {
     "data": {
      "text/html": [
       "<div>\n",
       "<style scoped>\n",
       "    .dataframe tbody tr th:only-of-type {\n",
       "        vertical-align: middle;\n",
       "    }\n",
       "\n",
       "    .dataframe tbody tr th {\n",
       "        vertical-align: top;\n",
       "    }\n",
       "\n",
       "    .dataframe thead th {\n",
       "        text-align: right;\n",
       "    }\n",
       "</style>\n",
       "<table border=\"1\" class=\"dataframe\">\n",
       "  <thead>\n",
       "    <tr style=\"text-align: right;\">\n",
       "      <th></th>\n",
       "      <th>Carat Weight</th>\n",
       "      <th>Cut</th>\n",
       "      <th>Color</th>\n",
       "      <th>Clarity</th>\n",
       "      <th>Polish</th>\n",
       "      <th>Symmetry</th>\n",
       "      <th>Report</th>\n",
       "      <th>Price</th>\n",
       "    </tr>\n",
       "  </thead>\n",
       "  <tbody>\n",
       "    <tr>\n",
       "      <th>0</th>\n",
       "      <td>1.10</td>\n",
       "      <td>Ideal</td>\n",
       "      <td>H</td>\n",
       "      <td>SI1</td>\n",
       "      <td>VG</td>\n",
       "      <td>EX</td>\n",
       "      <td>GIA</td>\n",
       "      <td>5169</td>\n",
       "    </tr>\n",
       "    <tr>\n",
       "      <th>1</th>\n",
       "      <td>0.83</td>\n",
       "      <td>Ideal</td>\n",
       "      <td>H</td>\n",
       "      <td>VS1</td>\n",
       "      <td>ID</td>\n",
       "      <td>ID</td>\n",
       "      <td>AGSL</td>\n",
       "      <td>3470</td>\n",
       "    </tr>\n",
       "    <tr>\n",
       "      <th>2</th>\n",
       "      <td>0.85</td>\n",
       "      <td>Ideal</td>\n",
       "      <td>H</td>\n",
       "      <td>SI1</td>\n",
       "      <td>EX</td>\n",
       "      <td>EX</td>\n",
       "      <td>GIA</td>\n",
       "      <td>3183</td>\n",
       "    </tr>\n",
       "    <tr>\n",
       "      <th>3</th>\n",
       "      <td>0.91</td>\n",
       "      <td>Ideal</td>\n",
       "      <td>E</td>\n",
       "      <td>SI1</td>\n",
       "      <td>VG</td>\n",
       "      <td>VG</td>\n",
       "      <td>GIA</td>\n",
       "      <td>4370</td>\n",
       "    </tr>\n",
       "    <tr>\n",
       "      <th>4</th>\n",
       "      <td>0.83</td>\n",
       "      <td>Ideal</td>\n",
       "      <td>G</td>\n",
       "      <td>SI1</td>\n",
       "      <td>EX</td>\n",
       "      <td>EX</td>\n",
       "      <td>GIA</td>\n",
       "      <td>3171</td>\n",
       "    </tr>\n",
       "  </tbody>\n",
       "</table>\n",
       "</div>"
      ],
      "text/plain": [
       "   Carat Weight    Cut Color Clarity Polish Symmetry Report  Price\n",
       "0          1.10  Ideal     H     SI1     VG       EX    GIA   5169\n",
       "1          0.83  Ideal     H     VS1     ID       ID   AGSL   3470\n",
       "2          0.85  Ideal     H     SI1     EX       EX    GIA   3183\n",
       "3          0.91  Ideal     E     SI1     VG       VG    GIA   4370\n",
       "4          0.83  Ideal     G     SI1     EX       EX    GIA   3171"
      ]
     },
     "metadata": {},
     "output_type": "display_data"
    }
   ],
   "source": [
    "from pycaret.datasets import get_data\n",
    "dataset = get_data('diamond')"
   ]
  },
  {
   "cell_type": "markdown",
   "id": "2d2acdc7-1dc0-4caf-a540-27e8b6371db3",
   "metadata": {},
   "source": [
    "We are going to take 90% of this data that will go into the pycaret setup and leave 10% of the data that we will not touch untill the end"
   ]
  },
  {
   "cell_type": "code",
   "execution_count": 2,
   "id": "35d63301-c77e-4b1f-b955-a3f9b70bdf76",
   "metadata": {},
   "outputs": [
    {
     "name": "stdout",
     "output_type": "stream",
     "text": [
      "Data for Modeling: (5400, 8)\n",
      "Unseen Data For Predictions: (600, 8)\n"
     ]
    }
   ],
   "source": [
    "data = dataset.sample(frac=0.9, random_state=786)\n",
    "data_unseen = dataset.drop(data.index)\n",
    "\n",
    "data.reset_index(drop=True, inplace=True)\n",
    "data_unseen.reset_index(drop=True, inplace=True)\n",
    "\n",
    "print('Data for Modeling: ' + str(data.shape))\n",
    "print('Unseen Data For Predictions: ' + str(data_unseen.shape))"
   ]
  },
  {
   "cell_type": "code",
   "execution_count": 3,
   "id": "4d64d337-3147-48da-ad80-ebaa9f646a34",
   "metadata": {},
   "outputs": [
    {
     "data": {
      "text/html": [
       "<style type=\"text/css\">\n",
       "#T_06122_row9_col1 {\n",
       "  background-color: lightgreen;\n",
       "}\n",
       "</style>\n",
       "<table id=\"T_06122\">\n",
       "  <thead>\n",
       "    <tr>\n",
       "      <th class=\"blank level0\" >&nbsp;</th>\n",
       "      <th id=\"T_06122_level0_col0\" class=\"col_heading level0 col0\" >Description</th>\n",
       "      <th id=\"T_06122_level0_col1\" class=\"col_heading level0 col1\" >Value</th>\n",
       "    </tr>\n",
       "  </thead>\n",
       "  <tbody>\n",
       "    <tr>\n",
       "      <th id=\"T_06122_level0_row0\" class=\"row_heading level0 row0\" >0</th>\n",
       "      <td id=\"T_06122_row0_col0\" class=\"data row0 col0\" >Session id</td>\n",
       "      <td id=\"T_06122_row0_col1\" class=\"data row0 col1\" >123</td>\n",
       "    </tr>\n",
       "    <tr>\n",
       "      <th id=\"T_06122_level0_row1\" class=\"row_heading level0 row1\" >1</th>\n",
       "      <td id=\"T_06122_row1_col0\" class=\"data row1 col0\" >Target</td>\n",
       "      <td id=\"T_06122_row1_col1\" class=\"data row1 col1\" >Price</td>\n",
       "    </tr>\n",
       "    <tr>\n",
       "      <th id=\"T_06122_level0_row2\" class=\"row_heading level0 row2\" >2</th>\n",
       "      <td id=\"T_06122_row2_col0\" class=\"data row2 col0\" >Target type</td>\n",
       "      <td id=\"T_06122_row2_col1\" class=\"data row2 col1\" >Regression</td>\n",
       "    </tr>\n",
       "    <tr>\n",
       "      <th id=\"T_06122_level0_row3\" class=\"row_heading level0 row3\" >3</th>\n",
       "      <td id=\"T_06122_row3_col0\" class=\"data row3 col0\" >Data shape</td>\n",
       "      <td id=\"T_06122_row3_col1\" class=\"data row3 col1\" >(5400, 18)</td>\n",
       "    </tr>\n",
       "    <tr>\n",
       "      <th id=\"T_06122_level0_row4\" class=\"row_heading level0 row4\" >4</th>\n",
       "      <td id=\"T_06122_row4_col0\" class=\"data row4 col0\" >Train data shape</td>\n",
       "      <td id=\"T_06122_row4_col1\" class=\"data row4 col1\" >(3779, 18)</td>\n",
       "    </tr>\n",
       "    <tr>\n",
       "      <th id=\"T_06122_level0_row5\" class=\"row_heading level0 row5\" >5</th>\n",
       "      <td id=\"T_06122_row5_col0\" class=\"data row5 col0\" >Test data shape</td>\n",
       "      <td id=\"T_06122_row5_col1\" class=\"data row5 col1\" >(1621, 18)</td>\n",
       "    </tr>\n",
       "    <tr>\n",
       "      <th id=\"T_06122_level0_row6\" class=\"row_heading level0 row6\" >6</th>\n",
       "      <td id=\"T_06122_row6_col0\" class=\"data row6 col0\" >Ordinal features</td>\n",
       "      <td id=\"T_06122_row6_col1\" class=\"data row6 col1\" >1</td>\n",
       "    </tr>\n",
       "    <tr>\n",
       "      <th id=\"T_06122_level0_row7\" class=\"row_heading level0 row7\" >7</th>\n",
       "      <td id=\"T_06122_row7_col0\" class=\"data row7 col0\" >Numeric features</td>\n",
       "      <td id=\"T_06122_row7_col1\" class=\"data row7 col1\" >1</td>\n",
       "    </tr>\n",
       "    <tr>\n",
       "      <th id=\"T_06122_level0_row8\" class=\"row_heading level0 row8\" >8</th>\n",
       "      <td id=\"T_06122_row8_col0\" class=\"data row8 col0\" >Categorical features</td>\n",
       "      <td id=\"T_06122_row8_col1\" class=\"data row8 col1\" >6</td>\n",
       "    </tr>\n",
       "    <tr>\n",
       "      <th id=\"T_06122_level0_row9\" class=\"row_heading level0 row9\" >9</th>\n",
       "      <td id=\"T_06122_row9_col0\" class=\"data row9 col0\" >Preprocess</td>\n",
       "      <td id=\"T_06122_row9_col1\" class=\"data row9 col1\" >True</td>\n",
       "    </tr>\n",
       "    <tr>\n",
       "      <th id=\"T_06122_level0_row10\" class=\"row_heading level0 row10\" >10</th>\n",
       "      <td id=\"T_06122_row10_col0\" class=\"data row10 col0\" >Imputation type</td>\n",
       "      <td id=\"T_06122_row10_col1\" class=\"data row10 col1\" >simple</td>\n",
       "    </tr>\n",
       "    <tr>\n",
       "      <th id=\"T_06122_level0_row11\" class=\"row_heading level0 row11\" >11</th>\n",
       "      <td id=\"T_06122_row11_col0\" class=\"data row11 col0\" >Numeric imputation</td>\n",
       "      <td id=\"T_06122_row11_col1\" class=\"data row11 col1\" >mean</td>\n",
       "    </tr>\n",
       "    <tr>\n",
       "      <th id=\"T_06122_level0_row12\" class=\"row_heading level0 row12\" >12</th>\n",
       "      <td id=\"T_06122_row12_col0\" class=\"data row12 col0\" >Categorical imputation</td>\n",
       "      <td id=\"T_06122_row12_col1\" class=\"data row12 col1\" >constant</td>\n",
       "    </tr>\n",
       "    <tr>\n",
       "      <th id=\"T_06122_level0_row13\" class=\"row_heading level0 row13\" >13</th>\n",
       "      <td id=\"T_06122_row13_col0\" class=\"data row13 col0\" >Maximum one-hot encoding</td>\n",
       "      <td id=\"T_06122_row13_col1\" class=\"data row13 col1\" >5</td>\n",
       "    </tr>\n",
       "    <tr>\n",
       "      <th id=\"T_06122_level0_row14\" class=\"row_heading level0 row14\" >14</th>\n",
       "      <td id=\"T_06122_row14_col0\" class=\"data row14 col0\" >Encoding method</td>\n",
       "      <td id=\"T_06122_row14_col1\" class=\"data row14 col1\" >None</td>\n",
       "    </tr>\n",
       "    <tr>\n",
       "      <th id=\"T_06122_level0_row15\" class=\"row_heading level0 row15\" >15</th>\n",
       "      <td id=\"T_06122_row15_col0\" class=\"data row15 col0\" >Low variance threshold</td>\n",
       "      <td id=\"T_06122_row15_col1\" class=\"data row15 col1\" >0</td>\n",
       "    </tr>\n",
       "    <tr>\n",
       "      <th id=\"T_06122_level0_row16\" class=\"row_heading level0 row16\" >16</th>\n",
       "      <td id=\"T_06122_row16_col0\" class=\"data row16 col0\" >Fold Generator</td>\n",
       "      <td id=\"T_06122_row16_col1\" class=\"data row16 col1\" >KFold</td>\n",
       "    </tr>\n",
       "    <tr>\n",
       "      <th id=\"T_06122_level0_row17\" class=\"row_heading level0 row17\" >17</th>\n",
       "      <td id=\"T_06122_row17_col0\" class=\"data row17 col0\" >Fold Number</td>\n",
       "      <td id=\"T_06122_row17_col1\" class=\"data row17 col1\" >10</td>\n",
       "    </tr>\n",
       "    <tr>\n",
       "      <th id=\"T_06122_level0_row18\" class=\"row_heading level0 row18\" >18</th>\n",
       "      <td id=\"T_06122_row18_col0\" class=\"data row18 col0\" >CPU Jobs</td>\n",
       "      <td id=\"T_06122_row18_col1\" class=\"data row18 col1\" >-1</td>\n",
       "    </tr>\n",
       "    <tr>\n",
       "      <th id=\"T_06122_level0_row19\" class=\"row_heading level0 row19\" >19</th>\n",
       "      <td id=\"T_06122_row19_col0\" class=\"data row19 col0\" >Use GPU</td>\n",
       "      <td id=\"T_06122_row19_col1\" class=\"data row19 col1\" >False</td>\n",
       "    </tr>\n",
       "    <tr>\n",
       "      <th id=\"T_06122_level0_row20\" class=\"row_heading level0 row20\" >20</th>\n",
       "      <td id=\"T_06122_row20_col0\" class=\"data row20 col0\" >Log Experiment</td>\n",
       "      <td id=\"T_06122_row20_col1\" class=\"data row20 col1\" >False</td>\n",
       "    </tr>\n",
       "    <tr>\n",
       "      <th id=\"T_06122_level0_row21\" class=\"row_heading level0 row21\" >21</th>\n",
       "      <td id=\"T_06122_row21_col0\" class=\"data row21 col0\" >Experiment Name</td>\n",
       "      <td id=\"T_06122_row21_col1\" class=\"data row21 col1\" >reg-default-name</td>\n",
       "    </tr>\n",
       "    <tr>\n",
       "      <th id=\"T_06122_level0_row22\" class=\"row_heading level0 row22\" >22</th>\n",
       "      <td id=\"T_06122_row22_col0\" class=\"data row22 col0\" >USI</td>\n",
       "      <td id=\"T_06122_row22_col1\" class=\"data row22 col1\" >8500</td>\n",
       "    </tr>\n",
       "  </tbody>\n",
       "</table>\n"
      ],
      "text/plain": [
       "<pandas.io.formats.style.Styler at 0x7f281aa34b20>"
      ]
     },
     "metadata": {},
     "output_type": "display_data"
    }
   ],
   "source": [
    "from pycaret import regression as reg\n",
    "reg_1 = reg.setup(data = data, target = 'Price', session_id=123) "
   ]
  },
  {
   "cell_type": "markdown",
   "id": "4752b791-d1a7-4852-bd7d-68276d919213",
   "metadata": {},
   "source": [
    "Below are the regression models available to me"
   ]
  },
  {
   "cell_type": "code",
   "execution_count": 4,
   "id": "7238cf5b-80aa-4b57-b7ea-43f471c98c5f",
   "metadata": {},
   "outputs": [
    {
     "data": {
      "text/html": [
       "<div>\n",
       "<style scoped>\n",
       "    .dataframe tbody tr th:only-of-type {\n",
       "        vertical-align: middle;\n",
       "    }\n",
       "\n",
       "    .dataframe tbody tr th {\n",
       "        vertical-align: top;\n",
       "    }\n",
       "\n",
       "    .dataframe thead th {\n",
       "        text-align: right;\n",
       "    }\n",
       "</style>\n",
       "<table border=\"1\" class=\"dataframe\">\n",
       "  <thead>\n",
       "    <tr style=\"text-align: right;\">\n",
       "      <th></th>\n",
       "      <th>Name</th>\n",
       "      <th>Reference</th>\n",
       "      <th>Turbo</th>\n",
       "    </tr>\n",
       "    <tr>\n",
       "      <th>ID</th>\n",
       "      <th></th>\n",
       "      <th></th>\n",
       "      <th></th>\n",
       "    </tr>\n",
       "  </thead>\n",
       "  <tbody>\n",
       "    <tr>\n",
       "      <th>lr</th>\n",
       "      <td>Linear Regression</td>\n",
       "      <td>sklearn.linear_model._base.LinearRegression</td>\n",
       "      <td>True</td>\n",
       "    </tr>\n",
       "    <tr>\n",
       "      <th>lasso</th>\n",
       "      <td>Lasso Regression</td>\n",
       "      <td>sklearn.linear_model._coordinate_descent.Lasso</td>\n",
       "      <td>True</td>\n",
       "    </tr>\n",
       "    <tr>\n",
       "      <th>ridge</th>\n",
       "      <td>Ridge Regression</td>\n",
       "      <td>sklearn.linear_model._ridge.Ridge</td>\n",
       "      <td>True</td>\n",
       "    </tr>\n",
       "    <tr>\n",
       "      <th>en</th>\n",
       "      <td>Elastic Net</td>\n",
       "      <td>sklearn.linear_model._coordinate_descent.Elast...</td>\n",
       "      <td>True</td>\n",
       "    </tr>\n",
       "    <tr>\n",
       "      <th>lar</th>\n",
       "      <td>Least Angle Regression</td>\n",
       "      <td>sklearn.linear_model._least_angle.Lars</td>\n",
       "      <td>True</td>\n",
       "    </tr>\n",
       "    <tr>\n",
       "      <th>llar</th>\n",
       "      <td>Lasso Least Angle Regression</td>\n",
       "      <td>sklearn.linear_model._least_angle.LassoLars</td>\n",
       "      <td>True</td>\n",
       "    </tr>\n",
       "    <tr>\n",
       "      <th>omp</th>\n",
       "      <td>Orthogonal Matching Pursuit</td>\n",
       "      <td>sklearn.linear_model._omp.OrthogonalMatchingPu...</td>\n",
       "      <td>True</td>\n",
       "    </tr>\n",
       "    <tr>\n",
       "      <th>br</th>\n",
       "      <td>Bayesian Ridge</td>\n",
       "      <td>sklearn.linear_model._bayes.BayesianRidge</td>\n",
       "      <td>True</td>\n",
       "    </tr>\n",
       "    <tr>\n",
       "      <th>ard</th>\n",
       "      <td>Automatic Relevance Determination</td>\n",
       "      <td>sklearn.linear_model._bayes.ARDRegression</td>\n",
       "      <td>False</td>\n",
       "    </tr>\n",
       "    <tr>\n",
       "      <th>par</th>\n",
       "      <td>Passive Aggressive Regressor</td>\n",
       "      <td>sklearn.linear_model._passive_aggressive.Passi...</td>\n",
       "      <td>True</td>\n",
       "    </tr>\n",
       "    <tr>\n",
       "      <th>ransac</th>\n",
       "      <td>Random Sample Consensus</td>\n",
       "      <td>sklearn.linear_model._ransac.RANSACRegressor</td>\n",
       "      <td>False</td>\n",
       "    </tr>\n",
       "    <tr>\n",
       "      <th>tr</th>\n",
       "      <td>TheilSen Regressor</td>\n",
       "      <td>sklearn.linear_model._theil_sen.TheilSenRegressor</td>\n",
       "      <td>False</td>\n",
       "    </tr>\n",
       "    <tr>\n",
       "      <th>huber</th>\n",
       "      <td>Huber Regressor</td>\n",
       "      <td>sklearn.linear_model._huber.HuberRegressor</td>\n",
       "      <td>True</td>\n",
       "    </tr>\n",
       "    <tr>\n",
       "      <th>kr</th>\n",
       "      <td>Kernel Ridge</td>\n",
       "      <td>sklearn.kernel_ridge.KernelRidge</td>\n",
       "      <td>False</td>\n",
       "    </tr>\n",
       "    <tr>\n",
       "      <th>svm</th>\n",
       "      <td>Support Vector Regression</td>\n",
       "      <td>sklearn.svm._classes.SVR</td>\n",
       "      <td>False</td>\n",
       "    </tr>\n",
       "    <tr>\n",
       "      <th>knn</th>\n",
       "      <td>K Neighbors Regressor</td>\n",
       "      <td>sklearn.neighbors._regression.KNeighborsRegressor</td>\n",
       "      <td>True</td>\n",
       "    </tr>\n",
       "    <tr>\n",
       "      <th>dt</th>\n",
       "      <td>Decision Tree Regressor</td>\n",
       "      <td>sklearn.tree._classes.DecisionTreeRegressor</td>\n",
       "      <td>True</td>\n",
       "    </tr>\n",
       "    <tr>\n",
       "      <th>rf</th>\n",
       "      <td>Random Forest Regressor</td>\n",
       "      <td>sklearn.ensemble._forest.RandomForestRegressor</td>\n",
       "      <td>True</td>\n",
       "    </tr>\n",
       "    <tr>\n",
       "      <th>et</th>\n",
       "      <td>Extra Trees Regressor</td>\n",
       "      <td>sklearn.ensemble._forest.ExtraTreesRegressor</td>\n",
       "      <td>True</td>\n",
       "    </tr>\n",
       "    <tr>\n",
       "      <th>ada</th>\n",
       "      <td>AdaBoost Regressor</td>\n",
       "      <td>sklearn.ensemble._weight_boosting.AdaBoostRegr...</td>\n",
       "      <td>True</td>\n",
       "    </tr>\n",
       "    <tr>\n",
       "      <th>gbr</th>\n",
       "      <td>Gradient Boosting Regressor</td>\n",
       "      <td>sklearn.ensemble._gb.GradientBoostingRegressor</td>\n",
       "      <td>True</td>\n",
       "    </tr>\n",
       "    <tr>\n",
       "      <th>mlp</th>\n",
       "      <td>MLP Regressor</td>\n",
       "      <td>sklearn.neural_network._multilayer_perceptron....</td>\n",
       "      <td>False</td>\n",
       "    </tr>\n",
       "    <tr>\n",
       "      <th>xgboost</th>\n",
       "      <td>Extreme Gradient Boosting</td>\n",
       "      <td>xgboost.sklearn.XGBRegressor</td>\n",
       "      <td>True</td>\n",
       "    </tr>\n",
       "    <tr>\n",
       "      <th>lightgbm</th>\n",
       "      <td>Light Gradient Boosting Machine</td>\n",
       "      <td>lightgbm.sklearn.LGBMRegressor</td>\n",
       "      <td>True</td>\n",
       "    </tr>\n",
       "    <tr>\n",
       "      <th>dummy</th>\n",
       "      <td>Dummy Regressor</td>\n",
       "      <td>sklearn.dummy.DummyRegressor</td>\n",
       "      <td>True</td>\n",
       "    </tr>\n",
       "  </tbody>\n",
       "</table>\n",
       "</div>"
      ],
      "text/plain": [
       "                                       Name  \\\n",
       "ID                                            \n",
       "lr                        Linear Regression   \n",
       "lasso                      Lasso Regression   \n",
       "ridge                      Ridge Regression   \n",
       "en                              Elastic Net   \n",
       "lar                  Least Angle Regression   \n",
       "llar           Lasso Least Angle Regression   \n",
       "omp             Orthogonal Matching Pursuit   \n",
       "br                           Bayesian Ridge   \n",
       "ard       Automatic Relevance Determination   \n",
       "par            Passive Aggressive Regressor   \n",
       "ransac              Random Sample Consensus   \n",
       "tr                       TheilSen Regressor   \n",
       "huber                       Huber Regressor   \n",
       "kr                             Kernel Ridge   \n",
       "svm               Support Vector Regression   \n",
       "knn                   K Neighbors Regressor   \n",
       "dt                  Decision Tree Regressor   \n",
       "rf                  Random Forest Regressor   \n",
       "et                    Extra Trees Regressor   \n",
       "ada                      AdaBoost Regressor   \n",
       "gbr             Gradient Boosting Regressor   \n",
       "mlp                           MLP Regressor   \n",
       "xgboost           Extreme Gradient Boosting   \n",
       "lightgbm    Light Gradient Boosting Machine   \n",
       "dummy                       Dummy Regressor   \n",
       "\n",
       "                                                  Reference  Turbo  \n",
       "ID                                                                  \n",
       "lr              sklearn.linear_model._base.LinearRegression   True  \n",
       "lasso        sklearn.linear_model._coordinate_descent.Lasso   True  \n",
       "ridge                     sklearn.linear_model._ridge.Ridge   True  \n",
       "en        sklearn.linear_model._coordinate_descent.Elast...   True  \n",
       "lar                  sklearn.linear_model._least_angle.Lars   True  \n",
       "llar            sklearn.linear_model._least_angle.LassoLars   True  \n",
       "omp       sklearn.linear_model._omp.OrthogonalMatchingPu...   True  \n",
       "br                sklearn.linear_model._bayes.BayesianRidge   True  \n",
       "ard               sklearn.linear_model._bayes.ARDRegression  False  \n",
       "par       sklearn.linear_model._passive_aggressive.Passi...   True  \n",
       "ransac         sklearn.linear_model._ransac.RANSACRegressor  False  \n",
       "tr        sklearn.linear_model._theil_sen.TheilSenRegressor  False  \n",
       "huber            sklearn.linear_model._huber.HuberRegressor   True  \n",
       "kr                         sklearn.kernel_ridge.KernelRidge  False  \n",
       "svm                                sklearn.svm._classes.SVR  False  \n",
       "knn       sklearn.neighbors._regression.KNeighborsRegressor   True  \n",
       "dt              sklearn.tree._classes.DecisionTreeRegressor   True  \n",
       "rf           sklearn.ensemble._forest.RandomForestRegressor   True  \n",
       "et             sklearn.ensemble._forest.ExtraTreesRegressor   True  \n",
       "ada       sklearn.ensemble._weight_boosting.AdaBoostRegr...   True  \n",
       "gbr          sklearn.ensemble._gb.GradientBoostingRegressor   True  \n",
       "mlp       sklearn.neural_network._multilayer_perceptron....  False  \n",
       "xgboost                        xgboost.sklearn.XGBRegressor   True  \n",
       "lightgbm                     lightgbm.sklearn.LGBMRegressor   True  \n",
       "dummy                          sklearn.dummy.DummyRegressor   True  "
      ]
     },
     "execution_count": 4,
     "metadata": {},
     "output_type": "execute_result"
    }
   ],
   "source": [
    "reg_1.models()"
   ]
  },
  {
   "cell_type": "code",
   "execution_count": 5,
   "id": "8deafc77-b98b-4367-8912-a91ccef69e05",
   "metadata": {},
   "outputs": [
    {
     "data": {
      "text/html": [],
      "text/plain": [
       "<IPython.core.display.HTML object>"
      ]
     },
     "metadata": {},
     "output_type": "display_data"
    },
    {
     "data": {
      "text/html": [
       "<style type=\"text/css\">\n",
       "#T_2cb8b th {\n",
       "  text-align: left;\n",
       "}\n",
       "#T_2cb8b_row0_col0, #T_2cb8b_row1_col0, #T_2cb8b_row1_col1, #T_2cb8b_row1_col2, #T_2cb8b_row1_col3, #T_2cb8b_row1_col4, #T_2cb8b_row1_col5, #T_2cb8b_row1_col6, #T_2cb8b_row2_col0, #T_2cb8b_row2_col1, #T_2cb8b_row2_col2, #T_2cb8b_row2_col3, #T_2cb8b_row2_col4, #T_2cb8b_row2_col5, #T_2cb8b_row2_col6, #T_2cb8b_row3_col0, #T_2cb8b_row3_col1, #T_2cb8b_row3_col2, #T_2cb8b_row3_col3, #T_2cb8b_row3_col4, #T_2cb8b_row3_col5, #T_2cb8b_row3_col6, #T_2cb8b_row4_col0, #T_2cb8b_row4_col1, #T_2cb8b_row4_col2, #T_2cb8b_row4_col3, #T_2cb8b_row4_col4, #T_2cb8b_row4_col5, #T_2cb8b_row4_col6, #T_2cb8b_row5_col0, #T_2cb8b_row5_col1, #T_2cb8b_row5_col2, #T_2cb8b_row5_col3, #T_2cb8b_row5_col4, #T_2cb8b_row5_col5, #T_2cb8b_row5_col6, #T_2cb8b_row6_col0, #T_2cb8b_row6_col1, #T_2cb8b_row6_col2, #T_2cb8b_row6_col3, #T_2cb8b_row6_col4, #T_2cb8b_row6_col5, #T_2cb8b_row6_col6, #T_2cb8b_row7_col0, #T_2cb8b_row7_col1, #T_2cb8b_row7_col2, #T_2cb8b_row7_col3, #T_2cb8b_row7_col4, #T_2cb8b_row7_col5, #T_2cb8b_row7_col6, #T_2cb8b_row8_col0, #T_2cb8b_row8_col1, #T_2cb8b_row8_col2, #T_2cb8b_row8_col3, #T_2cb8b_row8_col4, #T_2cb8b_row8_col5, #T_2cb8b_row8_col6, #T_2cb8b_row9_col0, #T_2cb8b_row9_col1, #T_2cb8b_row9_col2, #T_2cb8b_row9_col3, #T_2cb8b_row9_col4, #T_2cb8b_row9_col5, #T_2cb8b_row9_col6, #T_2cb8b_row10_col0, #T_2cb8b_row10_col1, #T_2cb8b_row10_col2, #T_2cb8b_row10_col3, #T_2cb8b_row10_col4, #T_2cb8b_row10_col5, #T_2cb8b_row10_col6, #T_2cb8b_row11_col0, #T_2cb8b_row11_col1, #T_2cb8b_row11_col2, #T_2cb8b_row11_col3, #T_2cb8b_row11_col4, #T_2cb8b_row11_col5, #T_2cb8b_row11_col6, #T_2cb8b_row12_col0, #T_2cb8b_row12_col1, #T_2cb8b_row12_col2, #T_2cb8b_row12_col3, #T_2cb8b_row12_col4, #T_2cb8b_row12_col5, #T_2cb8b_row12_col6, #T_2cb8b_row13_col0, #T_2cb8b_row13_col1, #T_2cb8b_row13_col2, #T_2cb8b_row13_col3, #T_2cb8b_row13_col4, #T_2cb8b_row13_col5, #T_2cb8b_row13_col6, #T_2cb8b_row14_col0, #T_2cb8b_row14_col1, #T_2cb8b_row14_col2, #T_2cb8b_row14_col3, #T_2cb8b_row14_col4, #T_2cb8b_row14_col5, #T_2cb8b_row14_col6, #T_2cb8b_row15_col0, #T_2cb8b_row15_col1, #T_2cb8b_row15_col2, #T_2cb8b_row15_col3, #T_2cb8b_row15_col4, #T_2cb8b_row15_col5, #T_2cb8b_row15_col6, #T_2cb8b_row16_col0, #T_2cb8b_row16_col1, #T_2cb8b_row16_col2, #T_2cb8b_row16_col3, #T_2cb8b_row16_col4, #T_2cb8b_row16_col5, #T_2cb8b_row16_col6, #T_2cb8b_row17_col0, #T_2cb8b_row17_col1, #T_2cb8b_row17_col2, #T_2cb8b_row17_col3, #T_2cb8b_row17_col4, #T_2cb8b_row17_col5, #T_2cb8b_row17_col6, #T_2cb8b_row18_col0, #T_2cb8b_row18_col1, #T_2cb8b_row18_col2, #T_2cb8b_row18_col3, #T_2cb8b_row18_col4, #T_2cb8b_row18_col5, #T_2cb8b_row18_col6 {\n",
       "  text-align: left;\n",
       "}\n",
       "#T_2cb8b_row0_col1, #T_2cb8b_row0_col2, #T_2cb8b_row0_col3, #T_2cb8b_row0_col4, #T_2cb8b_row0_col5, #T_2cb8b_row0_col6 {\n",
       "  text-align: left;\n",
       "  background-color: yellow;\n",
       "}\n",
       "#T_2cb8b_row0_col7, #T_2cb8b_row1_col7, #T_2cb8b_row2_col7, #T_2cb8b_row3_col7, #T_2cb8b_row4_col7, #T_2cb8b_row5_col7, #T_2cb8b_row6_col7, #T_2cb8b_row7_col7, #T_2cb8b_row8_col7, #T_2cb8b_row9_col7, #T_2cb8b_row10_col7, #T_2cb8b_row11_col7, #T_2cb8b_row13_col7, #T_2cb8b_row14_col7, #T_2cb8b_row15_col7, #T_2cb8b_row16_col7, #T_2cb8b_row17_col7, #T_2cb8b_row18_col7 {\n",
       "  text-align: left;\n",
       "  background-color: lightgrey;\n",
       "}\n",
       "#T_2cb8b_row12_col7 {\n",
       "  text-align: left;\n",
       "  background-color: yellow;\n",
       "  background-color: lightgrey;\n",
       "}\n",
       "</style>\n",
       "<table id=\"T_2cb8b\">\n",
       "  <thead>\n",
       "    <tr>\n",
       "      <th class=\"blank level0\" >&nbsp;</th>\n",
       "      <th id=\"T_2cb8b_level0_col0\" class=\"col_heading level0 col0\" >Model</th>\n",
       "      <th id=\"T_2cb8b_level0_col1\" class=\"col_heading level0 col1\" >MAE</th>\n",
       "      <th id=\"T_2cb8b_level0_col2\" class=\"col_heading level0 col2\" >MSE</th>\n",
       "      <th id=\"T_2cb8b_level0_col3\" class=\"col_heading level0 col3\" >RMSE</th>\n",
       "      <th id=\"T_2cb8b_level0_col4\" class=\"col_heading level0 col4\" >R2</th>\n",
       "      <th id=\"T_2cb8b_level0_col5\" class=\"col_heading level0 col5\" >RMSLE</th>\n",
       "      <th id=\"T_2cb8b_level0_col6\" class=\"col_heading level0 col6\" >MAPE</th>\n",
       "      <th id=\"T_2cb8b_level0_col7\" class=\"col_heading level0 col7\" >TT (Sec)</th>\n",
       "    </tr>\n",
       "  </thead>\n",
       "  <tbody>\n",
       "    <tr>\n",
       "      <th id=\"T_2cb8b_level0_row0\" class=\"row_heading level0 row0\" >gbr</th>\n",
       "      <td id=\"T_2cb8b_row0_col0\" class=\"data row0 col0\" >Gradient Boosting Regressor</td>\n",
       "      <td id=\"T_2cb8b_row0_col1\" class=\"data row0 col1\" >904.1340</td>\n",
       "      <td id=\"T_2cb8b_row0_col2\" class=\"data row0 col2\" >3981461.4110</td>\n",
       "      <td id=\"T_2cb8b_row0_col3\" class=\"data row0 col3\" >1915.9306</td>\n",
       "      <td id=\"T_2cb8b_row0_col4\" class=\"data row0 col4\" >0.9624</td>\n",
       "      <td id=\"T_2cb8b_row0_col5\" class=\"data row0 col5\" >0.1028</td>\n",
       "      <td id=\"T_2cb8b_row0_col6\" class=\"data row0 col6\" >0.0774</td>\n",
       "      <td id=\"T_2cb8b_row0_col7\" class=\"data row0 col7\" >0.1700</td>\n",
       "    </tr>\n",
       "    <tr>\n",
       "      <th id=\"T_2cb8b_level0_row1\" class=\"row_heading level0 row1\" >lightgbm</th>\n",
       "      <td id=\"T_2cb8b_row1_col0\" class=\"data row1 col0\" >Light Gradient Boosting Machine</td>\n",
       "      <td id=\"T_2cb8b_row1_col1\" class=\"data row1 col1\" >1156.3419</td>\n",
       "      <td id=\"T_2cb8b_row1_col2\" class=\"data row1 col2\" >5207045.2826</td>\n",
       "      <td id=\"T_2cb8b_row1_col3\" class=\"data row1 col3\" >2199.1421</td>\n",
       "      <td id=\"T_2cb8b_row1_col4\" class=\"data row1 col4\" >0.9509</td>\n",
       "      <td id=\"T_2cb8b_row1_col5\" class=\"data row1 col5\" >0.1266</td>\n",
       "      <td id=\"T_2cb8b_row1_col6\" class=\"data row1 col6\" >0.0992</td>\n",
       "      <td id=\"T_2cb8b_row1_col7\" class=\"data row1 col7\" >0.0850</td>\n",
       "    </tr>\n",
       "    <tr>\n",
       "      <th id=\"T_2cb8b_level0_row2\" class=\"row_heading level0 row2\" >xgboost</th>\n",
       "      <td id=\"T_2cb8b_row2_col0\" class=\"data row2 col0\" >Extreme Gradient Boosting</td>\n",
       "      <td id=\"T_2cb8b_row2_col1\" class=\"data row2 col1\" >1798.8411</td>\n",
       "      <td id=\"T_2cb8b_row2_col2\" class=\"data row2 col2\" >11823597.9286</td>\n",
       "      <td id=\"T_2cb8b_row2_col3\" class=\"data row2 col3\" >3387.8876</td>\n",
       "      <td id=\"T_2cb8b_row2_col4\" class=\"data row2 col4\" >0.8858</td>\n",
       "      <td id=\"T_2cb8b_row2_col5\" class=\"data row2 col5\" >0.2124</td>\n",
       "      <td id=\"T_2cb8b_row2_col6\" class=\"data row2 col6\" >0.1760</td>\n",
       "      <td id=\"T_2cb8b_row2_col7\" class=\"data row2 col7\" >0.1870</td>\n",
       "    </tr>\n",
       "    <tr>\n",
       "      <th id=\"T_2cb8b_level0_row3\" class=\"row_heading level0 row3\" >rf</th>\n",
       "      <td id=\"T_2cb8b_row3_col0\" class=\"data row3 col0\" >Random Forest Regressor</td>\n",
       "      <td id=\"T_2cb8b_row3_col1\" class=\"data row3 col1\" >2544.3694</td>\n",
       "      <td id=\"T_2cb8b_row3_col2\" class=\"data row3 col2\" >15604459.6418</td>\n",
       "      <td id=\"T_2cb8b_row3_col3\" class=\"data row3 col3\" >3906.3206</td>\n",
       "      <td id=\"T_2cb8b_row3_col4\" class=\"data row3 col4\" >0.8486</td>\n",
       "      <td id=\"T_2cb8b_row3_col5\" class=\"data row3 col5\" >0.2719</td>\n",
       "      <td id=\"T_2cb8b_row3_col6\" class=\"data row3 col6\" >0.2521</td>\n",
       "      <td id=\"T_2cb8b_row3_col7\" class=\"data row3 col7\" >0.3490</td>\n",
       "    </tr>\n",
       "    <tr>\n",
       "      <th id=\"T_2cb8b_level0_row4\" class=\"row_heading level0 row4\" >lr</th>\n",
       "      <td id=\"T_2cb8b_row4_col0\" class=\"data row4 col0\" >Linear Regression</td>\n",
       "      <td id=\"T_2cb8b_row4_col1\" class=\"data row4 col1\" >2512.6891</td>\n",
       "      <td id=\"T_2cb8b_row4_col2\" class=\"data row4 col2\" >16385063.0187</td>\n",
       "      <td id=\"T_2cb8b_row4_col3\" class=\"data row4 col3\" >4003.2239</td>\n",
       "      <td id=\"T_2cb8b_row4_col4\" class=\"data row4 col4\" >0.8410</td>\n",
       "      <td id=\"T_2cb8b_row4_col5\" class=\"data row4 col5\" >0.6664</td>\n",
       "      <td id=\"T_2cb8b_row4_col6\" class=\"data row4 col6\" >0.2888</td>\n",
       "      <td id=\"T_2cb8b_row4_col7\" class=\"data row4 col7\" >0.4640</td>\n",
       "    </tr>\n",
       "    <tr>\n",
       "      <th id=\"T_2cb8b_level0_row5\" class=\"row_heading level0 row5\" >lasso</th>\n",
       "      <td id=\"T_2cb8b_row5_col0\" class=\"data row5 col0\" >Lasso Regression</td>\n",
       "      <td id=\"T_2cb8b_row5_col1\" class=\"data row5 col1\" >2510.7492</td>\n",
       "      <td id=\"T_2cb8b_row5_col2\" class=\"data row5 col2\" >16379300.0075</td>\n",
       "      <td id=\"T_2cb8b_row5_col3\" class=\"data row5 col3\" >4002.4865</td>\n",
       "      <td id=\"T_2cb8b_row5_col4\" class=\"data row5 col4\" >0.8410</td>\n",
       "      <td id=\"T_2cb8b_row5_col5\" class=\"data row5 col5\" >0.6603</td>\n",
       "      <td id=\"T_2cb8b_row5_col6\" class=\"data row5 col6\" >0.2884</td>\n",
       "      <td id=\"T_2cb8b_row5_col7\" class=\"data row5 col7\" >0.0750</td>\n",
       "    </tr>\n",
       "    <tr>\n",
       "      <th id=\"T_2cb8b_level0_row6\" class=\"row_heading level0 row6\" >ridge</th>\n",
       "      <td id=\"T_2cb8b_row6_col0\" class=\"data row6 col0\" >Ridge Regression</td>\n",
       "      <td id=\"T_2cb8b_row6_col1\" class=\"data row6 col1\" >2510.1138</td>\n",
       "      <td id=\"T_2cb8b_row6_col2\" class=\"data row6 col2\" >16384478.1322</td>\n",
       "      <td id=\"T_2cb8b_row6_col3\" class=\"data row6 col3\" >4003.0069</td>\n",
       "      <td id=\"T_2cb8b_row6_col4\" class=\"data row6 col4\" >0.8410</td>\n",
       "      <td id=\"T_2cb8b_row6_col5\" class=\"data row6 col5\" >0.6548</td>\n",
       "      <td id=\"T_2cb8b_row6_col6\" class=\"data row6 col6\" >0.2883</td>\n",
       "      <td id=\"T_2cb8b_row6_col7\" class=\"data row6 col7\" >0.0580</td>\n",
       "    </tr>\n",
       "    <tr>\n",
       "      <th id=\"T_2cb8b_level0_row7\" class=\"row_heading level0 row7\" >llar</th>\n",
       "      <td id=\"T_2cb8b_row7_col0\" class=\"data row7 col0\" >Lasso Least Angle Regression</td>\n",
       "      <td id=\"T_2cb8b_row7_col1\" class=\"data row7 col1\" >2480.3476</td>\n",
       "      <td id=\"T_2cb8b_row7_col2\" class=\"data row7 col2\" >16411412.6857</td>\n",
       "      <td id=\"T_2cb8b_row7_col3\" class=\"data row7 col3\" >4004.4959</td>\n",
       "      <td id=\"T_2cb8b_row7_col4\" class=\"data row7 col4\" >0.8409</td>\n",
       "      <td id=\"T_2cb8b_row7_col5\" class=\"data row7 col5\" >0.6335</td>\n",
       "      <td id=\"T_2cb8b_row7_col6\" class=\"data row7 col6\" >0.2804</td>\n",
       "      <td id=\"T_2cb8b_row7_col7\" class=\"data row7 col7\" >0.0600</td>\n",
       "    </tr>\n",
       "    <tr>\n",
       "      <th id=\"T_2cb8b_level0_row8\" class=\"row_heading level0 row8\" >lar</th>\n",
       "      <td id=\"T_2cb8b_row8_col0\" class=\"data row8 col0\" >Least Angle Regression</td>\n",
       "      <td id=\"T_2cb8b_row8_col1\" class=\"data row8 col1\" >2516.3361</td>\n",
       "      <td id=\"T_2cb8b_row8_col2\" class=\"data row8 col2\" >16425669.6600</td>\n",
       "      <td id=\"T_2cb8b_row8_col3\" class=\"data row8 col3\" >4008.4664</td>\n",
       "      <td id=\"T_2cb8b_row8_col4\" class=\"data row8 col4\" >0.8405</td>\n",
       "      <td id=\"T_2cb8b_row8_col5\" class=\"data row8 col5\" >0.6710</td>\n",
       "      <td id=\"T_2cb8b_row8_col6\" class=\"data row8 col6\" >0.2894</td>\n",
       "      <td id=\"T_2cb8b_row8_col7\" class=\"data row8 col7\" >0.0660</td>\n",
       "    </tr>\n",
       "    <tr>\n",
       "      <th id=\"T_2cb8b_level0_row9\" class=\"row_heading level0 row9\" >et</th>\n",
       "      <td id=\"T_2cb8b_row9_col0\" class=\"data row9 col0\" >Extra Trees Regressor</td>\n",
       "      <td id=\"T_2cb8b_row9_col1\" class=\"data row9 col1\" >2781.1957</td>\n",
       "      <td id=\"T_2cb8b_row9_col2\" class=\"data row9 col2\" >17005149.3214</td>\n",
       "      <td id=\"T_2cb8b_row9_col3\" class=\"data row9 col3\" >4082.0004</td>\n",
       "      <td id=\"T_2cb8b_row9_col4\" class=\"data row9 col4\" >0.8347</td>\n",
       "      <td id=\"T_2cb8b_row9_col5\" class=\"data row9 col5\" >0.2906</td>\n",
       "      <td id=\"T_2cb8b_row9_col6\" class=\"data row9 col6\" >0.2851</td>\n",
       "      <td id=\"T_2cb8b_row9_col7\" class=\"data row9 col7\" >0.3160</td>\n",
       "    </tr>\n",
       "    <tr>\n",
       "      <th id=\"T_2cb8b_level0_row10\" class=\"row_heading level0 row10\" >ada</th>\n",
       "      <td id=\"T_2cb8b_row10_col0\" class=\"data row10 col0\" >AdaBoost Regressor</td>\n",
       "      <td id=\"T_2cb8b_row10_col1\" class=\"data row10 col1\" >3540.6029</td>\n",
       "      <td id=\"T_2cb8b_row10_col2\" class=\"data row10 col2\" >18679196.6157</td>\n",
       "      <td id=\"T_2cb8b_row10_col3\" class=\"data row10 col3\" >4303.4389</td>\n",
       "      <td id=\"T_2cb8b_row10_col4\" class=\"data row10 col4\" >0.8141</td>\n",
       "      <td id=\"T_2cb8b_row10_col5\" class=\"data row10 col5\" >0.4581</td>\n",
       "      <td id=\"T_2cb8b_row10_col6\" class=\"data row10 col6\" >0.5091</td>\n",
       "      <td id=\"T_2cb8b_row10_col7\" class=\"data row10 col7\" >0.1220</td>\n",
       "    </tr>\n",
       "    <tr>\n",
       "      <th id=\"T_2cb8b_level0_row11\" class=\"row_heading level0 row11\" >dt</th>\n",
       "      <td id=\"T_2cb8b_row11_col0\" class=\"data row11 col0\" >Decision Tree Regressor</td>\n",
       "      <td id=\"T_2cb8b_row11_col1\" class=\"data row11 col1\" >2792.3361</td>\n",
       "      <td id=\"T_2cb8b_row11_col2\" class=\"data row11 col2\" >21225160.7660</td>\n",
       "      <td id=\"T_2cb8b_row11_col3\" class=\"data row11 col3\" >4556.3508</td>\n",
       "      <td id=\"T_2cb8b_row11_col4\" class=\"data row11 col4\" >0.7938</td>\n",
       "      <td id=\"T_2cb8b_row11_col5\" class=\"data row11 col5\" >0.3045</td>\n",
       "      <td id=\"T_2cb8b_row11_col6\" class=\"data row11 col6\" >0.2593</td>\n",
       "      <td id=\"T_2cb8b_row11_col7\" class=\"data row11 col7\" >0.0740</td>\n",
       "    </tr>\n",
       "    <tr>\n",
       "      <th id=\"T_2cb8b_level0_row12\" class=\"row_heading level0 row12\" >omp</th>\n",
       "      <td id=\"T_2cb8b_row12_col0\" class=\"data row12 col0\" >Orthogonal Matching Pursuit</td>\n",
       "      <td id=\"T_2cb8b_row12_col1\" class=\"data row12 col1\" >2912.7206</td>\n",
       "      <td id=\"T_2cb8b_row12_col2\" class=\"data row12 col2\" >25742127.4330</td>\n",
       "      <td id=\"T_2cb8b_row12_col3\" class=\"data row12 col3\" >5033.8697</td>\n",
       "      <td id=\"T_2cb8b_row12_col4\" class=\"data row12 col4\" >0.7485</td>\n",
       "      <td id=\"T_2cb8b_row12_col5\" class=\"data row12 col5\" >0.3557</td>\n",
       "      <td id=\"T_2cb8b_row12_col6\" class=\"data row12 col6\" >0.2568</td>\n",
       "      <td id=\"T_2cb8b_row12_col7\" class=\"data row12 col7\" >0.0570</td>\n",
       "    </tr>\n",
       "    <tr>\n",
       "      <th id=\"T_2cb8b_level0_row13\" class=\"row_heading level0 row13\" >en</th>\n",
       "      <td id=\"T_2cb8b_row13_col0\" class=\"data row13 col0\" >Elastic Net</td>\n",
       "      <td id=\"T_2cb8b_row13_col1\" class=\"data row13 col1\" >4871.0356</td>\n",
       "      <td id=\"T_2cb8b_row13_col2\" class=\"data row13 col2\" >50687369.1849</td>\n",
       "      <td id=\"T_2cb8b_row13_col3\" class=\"data row13 col3\" >7091.5056</td>\n",
       "      <td id=\"T_2cb8b_row13_col4\" class=\"data row13 col4\" >0.5000</td>\n",
       "      <td id=\"T_2cb8b_row13_col5\" class=\"data row13 col5\" >0.4996</td>\n",
       "      <td id=\"T_2cb8b_row13_col6\" class=\"data row13 col6\" >0.5268</td>\n",
       "      <td id=\"T_2cb8b_row13_col7\" class=\"data row13 col7\" >0.0600</td>\n",
       "    </tr>\n",
       "    <tr>\n",
       "      <th id=\"T_2cb8b_level0_row14\" class=\"row_heading level0 row14\" >huber</th>\n",
       "      <td id=\"T_2cb8b_row14_col0\" class=\"data row14 col0\" >Huber Regressor</td>\n",
       "      <td id=\"T_2cb8b_row14_col1\" class=\"data row14 col1\" >4690.3051</td>\n",
       "      <td id=\"T_2cb8b_row14_col2\" class=\"data row14 col2\" >72667629.3612</td>\n",
       "      <td id=\"T_2cb8b_row14_col3\" class=\"data row14 col3\" >8163.9829</td>\n",
       "      <td id=\"T_2cb8b_row14_col4\" class=\"data row14 col4\" >0.2959</td>\n",
       "      <td id=\"T_2cb8b_row14_col5\" class=\"data row14 col5\" >0.5148</td>\n",
       "      <td id=\"T_2cb8b_row14_col6\" class=\"data row14 col6\" >0.3814</td>\n",
       "      <td id=\"T_2cb8b_row14_col7\" class=\"data row14 col7\" >0.0650</td>\n",
       "    </tr>\n",
       "    <tr>\n",
       "      <th id=\"T_2cb8b_level0_row15\" class=\"row_heading level0 row15\" >br</th>\n",
       "      <td id=\"T_2cb8b_row15_col0\" class=\"data row15 col0\" >Bayesian Ridge</td>\n",
       "      <td id=\"T_2cb8b_row15_col1\" class=\"data row15 col1\" >6929.0678</td>\n",
       "      <td id=\"T_2cb8b_row15_col2\" class=\"data row15 col2\" >87574168.8633</td>\n",
       "      <td id=\"T_2cb8b_row15_col3\" class=\"data row15 col3\" >9340.6918</td>\n",
       "      <td id=\"T_2cb8b_row15_col4\" class=\"data row15 col4\" >0.1289</td>\n",
       "      <td id=\"T_2cb8b_row15_col5\" class=\"data row15 col5\" >0.6981</td>\n",
       "      <td id=\"T_2cb8b_row15_col6\" class=\"data row15 col6\" >0.7912</td>\n",
       "      <td id=\"T_2cb8b_row15_col7\" class=\"data row15 col7\" >0.0600</td>\n",
       "    </tr>\n",
       "    <tr>\n",
       "      <th id=\"T_2cb8b_level0_row16\" class=\"row_heading level0 row16\" >knn</th>\n",
       "      <td id=\"T_2cb8b_row16_col0\" class=\"data row16 col0\" >K Neighbors Regressor</td>\n",
       "      <td id=\"T_2cb8b_row16_col1\" class=\"data row16 col1\" >7282.4063</td>\n",
       "      <td id=\"T_2cb8b_row16_col2\" class=\"data row16 col2\" >93629881.4308</td>\n",
       "      <td id=\"T_2cb8b_row16_col3\" class=\"data row16 col3\" >9653.8664</td>\n",
       "      <td id=\"T_2cb8b_row16_col4\" class=\"data row16 col4\" >0.0708</td>\n",
       "      <td id=\"T_2cb8b_row16_col5\" class=\"data row16 col5\" >0.7446</td>\n",
       "      <td id=\"T_2cb8b_row16_col6\" class=\"data row16 col6\" >0.9023</td>\n",
       "      <td id=\"T_2cb8b_row16_col7\" class=\"data row16 col7\" >0.0670</td>\n",
       "    </tr>\n",
       "    <tr>\n",
       "      <th id=\"T_2cb8b_level0_row17\" class=\"row_heading level0 row17\" >dummy</th>\n",
       "      <td id=\"T_2cb8b_row17_col0\" class=\"data row17 col0\" >Dummy Regressor</td>\n",
       "      <td id=\"T_2cb8b_row17_col1\" class=\"data row17 col1\" >7280.3308</td>\n",
       "      <td id=\"T_2cb8b_row17_col2\" class=\"data row17 col2\" >101221941.4046</td>\n",
       "      <td id=\"T_2cb8b_row17_col3\" class=\"data row17 col3\" >10032.1624</td>\n",
       "      <td id=\"T_2cb8b_row17_col4\" class=\"data row17 col4\" >-0.0014</td>\n",
       "      <td id=\"T_2cb8b_row17_col5\" class=\"data row17 col5\" >0.7606</td>\n",
       "      <td id=\"T_2cb8b_row17_col6\" class=\"data row17 col6\" >0.8969</td>\n",
       "      <td id=\"T_2cb8b_row17_col7\" class=\"data row17 col7\" >0.0590</td>\n",
       "    </tr>\n",
       "    <tr>\n",
       "      <th id=\"T_2cb8b_level0_row18\" class=\"row_heading level0 row18\" >par</th>\n",
       "      <td id=\"T_2cb8b_row18_col0\" class=\"data row18 col0\" >Passive Aggressive Regressor</td>\n",
       "      <td id=\"T_2cb8b_row18_col1\" class=\"data row18 col1\" >8102.9880</td>\n",
       "      <td id=\"T_2cb8b_row18_col2\" class=\"data row18 col2\" >146091813.0682</td>\n",
       "      <td id=\"T_2cb8b_row18_col3\" class=\"data row18 col3\" >11866.4656</td>\n",
       "      <td id=\"T_2cb8b_row18_col4\" class=\"data row18 col4\" >-0.4463</td>\n",
       "      <td id=\"T_2cb8b_row18_col5\" class=\"data row18 col5\" >0.8822</td>\n",
       "      <td id=\"T_2cb8b_row18_col6\" class=\"data row18 col6\" >0.8547</td>\n",
       "      <td id=\"T_2cb8b_row18_col7\" class=\"data row18 col7\" >0.0620</td>\n",
       "    </tr>\n",
       "  </tbody>\n",
       "</table>\n"
      ],
      "text/plain": [
       "<pandas.io.formats.style.Styler at 0x7f281aa34d00>"
      ]
     },
     "metadata": {},
     "output_type": "display_data"
    },
    {
     "data": {
      "text/html": [],
      "text/plain": [
       "<IPython.core.display.HTML object>"
      ]
     },
     "metadata": {},
     "output_type": "display_data"
    }
   ],
   "source": [
    "best = reg.compare_models(exclude = ['ransac'])"
   ]
  },
  {
   "cell_type": "markdown",
   "id": "151223a8-55eb-437b-b828-c7c4e292f8b5",
   "metadata": {},
   "source": [
    "The grid by default is sorted using R2 (highest to lowest) which can be changed by passing sort parameter. For example compare_models(sort = 'RMSLE') will sort the grid by RMSLE (lower to higher since lower is better). If you want to change the fold parameter from the default value of 10 to a different value then you can use the fold parameter. For example compare_models(fold = 5) will compare all models on 5 fold cross validation. Reducing the number of folds will improve the training time. By default, compare_models return the best performing model based on default sort order but can be used to return a list of top N models by using n_select parameter\n"
   ]
  },
  {
   "cell_type": "markdown",
   "id": "408e62b5-d8d8-4552-8c41-ef1e6a3809c5",
   "metadata": {},
   "source": [
    "We will then focus in on one model"
   ]
  },
  {
   "cell_type": "code",
   "execution_count": null,
   "id": "870d0dee-dba8-4483-bee3-280f43cf3b28",
   "metadata": {},
   "outputs": [],
   "source": [
    "gbr = reg.create_model('gbr')"
   ]
  },
  {
   "cell_type": "markdown",
   "id": "c564295d-c625-45e2-9998-a02a7fb1333f",
   "metadata": {},
   "source": [
    "We can tune this models hyper paramters. By defult it optimises R2 however we could change that in a hyperparameter"
   ]
  },
  {
   "cell_type": "code",
   "execution_count": null,
   "id": "5fb95020-9865-4c82-a8ff-eb4d898bb392",
   "metadata": {},
   "outputs": [],
   "source": [
    "gbr_tune = reg.tune_model(gbr, optimize = 'R2')"
   ]
  },
  {
   "cell_type": "markdown",
   "id": "64411b03-8598-432f-9fe2-15c73fb2f3d6",
   "metadata": {},
   "source": []
  },
  {
   "cell_type": "markdown",
   "id": "7e25a90a-59d5-43b8-a46b-bd518446ef6d",
   "metadata": {},
   "source": [
    "### Visualise your model"
   ]
  },
  {
   "cell_type": "code",
   "execution_count": null,
   "id": "0bbdde9e-e477-47c8-acc4-52d607f3e7a4",
   "metadata": {},
   "outputs": [],
   "source": [
    "gbr"
   ]
  },
  {
   "cell_type": "code",
   "execution_count": null,
   "id": "5e0c5742-5c4f-40ba-86dc-2364ea824571",
   "metadata": {},
   "outputs": [],
   "source": [
    "reg.plot_model(gbr)"
   ]
  },
  {
   "cell_type": "code",
   "execution_count": null,
   "id": "32a8699a-e2f3-4258-aca3-bf7753718591",
   "metadata": {},
   "outputs": [],
   "source": [
    "reg.plot_model(gbr, plot = 'error')"
   ]
  },
  {
   "cell_type": "code",
   "execution_count": null,
   "id": "5ddb8361-569c-44d4-a349-0f1651ae314c",
   "metadata": {},
   "outputs": [],
   "source": [
    "reg.plot_model(gbr, plot = 'feature')"
   ]
  },
  {
   "cell_type": "code",
   "execution_count": null,
   "id": "ae046460-30dd-4f42-9832-aa9f04ff9fb7",
   "metadata": {},
   "outputs": [],
   "source": [
    "reg.evaluate_model(gbr)"
   ]
  },
  {
   "cell_type": "markdown",
   "id": "7a722b2e-4af6-46ec-9514-adb8dd3dc857",
   "metadata": {},
   "source": [
    "### Predict on your hold out data"
   ]
  },
  {
   "cell_type": "markdown",
   "id": "e0aacb09-dd72-4c9b-a890-9584234c2c71",
   "metadata": {},
   "source": [
    "We need to finialize our model first. During this process the model refits its model using the best parameters learnt and applies this on  all the data. \n",
    "final_lightgbm = finalize_model(tuned_lightgbm)"
   ]
  },
  {
   "cell_type": "code",
   "execution_count": null,
   "id": "83739187-664c-492d-9c59-ee275a022ba2",
   "metadata": {},
   "outputs": [],
   "source": [
    "final_reg = reg.finalize_model(gbr_tune)"
   ]
  },
  {
   "cell_type": "code",
   "execution_count": null,
   "id": "4f32c4b3-31dc-4b00-8da6-4dea56257a44",
   "metadata": {},
   "outputs": [],
   "source": [
    "predictions = reg.predict_model(final_reg, data = data_unseen)"
   ]
  },
  {
   "cell_type": "code",
   "execution_count": null,
   "id": "68462993-15f4-4d4f-8564-6ae4fe5716a9",
   "metadata": {},
   "outputs": [],
   "source": [
    "predictions"
   ]
  },
  {
   "cell_type": "code",
   "execution_count": null,
   "id": "4c01448c-30f4-416d-bf00-e14767cdcfaf",
   "metadata": {},
   "outputs": [],
   "source": []
  },
  {
   "cell_type": "code",
   "execution_count": null,
   "id": "8dcdc9fb-5411-485d-b940-1b93ee6ff275",
   "metadata": {},
   "outputs": [],
   "source": []
  },
  {
   "cell_type": "code",
   "execution_count": null,
   "id": "d7d6c43d-7059-4288-9149-4c67d53c30be",
   "metadata": {},
   "outputs": [],
   "source": []
  },
  {
   "cell_type": "code",
   "execution_count": null,
   "id": "b0915c24-f3c6-4a78-b58f-f8149da1e202",
   "metadata": {},
   "outputs": [],
   "source": []
  },
  {
   "cell_type": "code",
   "execution_count": null,
   "id": "3d17e3c1-4dc4-4122-96a8-c4bec730f5bf",
   "metadata": {},
   "outputs": [],
   "source": []
  },
  {
   "cell_type": "code",
   "execution_count": null,
   "id": "e495b415-05de-411d-916c-bdbe7b3d3b60",
   "metadata": {},
   "outputs": [],
   "source": []
  },
  {
   "cell_type": "code",
   "execution_count": null,
   "id": "846fe0fa-4a66-4774-9daa-340de6878d90",
   "metadata": {},
   "outputs": [],
   "source": []
  },
  {
   "cell_type": "code",
   "execution_count": null,
   "id": "781a8dfd-0764-4786-9792-0ae1750fbec4",
   "metadata": {},
   "outputs": [],
   "source": []
  },
  {
   "cell_type": "code",
   "execution_count": null,
   "id": "c3791e78-440b-4436-97fa-6cd363767126",
   "metadata": {},
   "outputs": [],
   "source": []
  },
  {
   "cell_type": "code",
   "execution_count": null,
   "id": "a2d77ef8-cb0b-462b-9bca-5e147761ea6a",
   "metadata": {},
   "outputs": [],
   "source": []
  },
  {
   "cell_type": "code",
   "execution_count": null,
   "id": "70c2e74f-f212-4335-822c-17f907997483",
   "metadata": {},
   "outputs": [],
   "source": []
  },
  {
   "cell_type": "code",
   "execution_count": null,
   "id": "d9e9cd62-86bc-47d1-8c34-f2b8cf37a128",
   "metadata": {},
   "outputs": [],
   "source": []
  }
 ],
 "metadata": {
  "kernelspec": {
   "display_name": "Python 3 (ipykernel)",
   "language": "python",
   "name": "python3"
  },
  "language_info": {
   "codemirror_mode": {
    "name": "ipython",
    "version": 3
   },
   "file_extension": ".py",
   "mimetype": "text/x-python",
   "name": "python",
   "nbconvert_exporter": "python",
   "pygments_lexer": "ipython3",
   "version": "3.8.10"
  }
 },
 "nbformat": 4,
 "nbformat_minor": 5
}
